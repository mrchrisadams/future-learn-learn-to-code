{
 "cells": [
  {
   "cell_type": "markdown",
   "metadata": {},
   "source": [
    "# Exercise notebook 4: Grouping your data\n",
    "\n",
    "This Jupyter notebook, for Week 4 of The Open University's [_Learn to code for Data Analysis_](http://futurelearn.com/courses/learn-to-code) course, contains code examples and coding activities for you.\n",
    "\n",
    "In Week 4, you'll come across steps directing you to this notebook. Once you've done the exercise, go back to FutureLearn to discuss it with your fellow learners and course facilitators and mark it as complete. Remember to run the code in this notebook before you start."
   ]
  },
  {
   "cell_type": "markdown",
   "metadata": {},
   "source": [
    "## Exercise 1: Getting Comtrade data into your notebook\n",
    "\n",
    "In this exercise, you will practice loading data from Comtrade into a pandas dataframe and getting it into a form where you can start to work with it. \n",
    "\n",
    "The following steps and code are an example. Your task for this exercise is stated at the end, after the example.\n",
    "\n",
    "Generate a URL that makes a request to the Comtrade API for data about **monthly** *imports* and *exports* for all of 2014 for the dairy products *Milk and cream, neither concentrated nor sweetened (code 0401)* and *Milk and cream, either concentrated or sweetened (code 0402)*. The reporter is the **United Kingdom**, and the partners are **All**. Edit the URL so that it returns up to 5000 records (set `max=5000`) in the CSV format (`&fmt=csv`).\n"
   ]
  },
  {
   "cell_type": "code",
   "execution_count": 1,
   "metadata": {
    "activity": false,
    "collapsed": false,
    "run_control": {
     "read_only": false
    }
   },
   "outputs": [],
   "source": [
    "%matplotlib inline\n",
    "from pandas import *\n",
    "URL='http://comtrade.un.org/api/get?max=5000&type=C&freq=M&px=HS&ps=2014&r=826&p=all&rg=1%2C2&cc=0401%2C0402&fmt=csv'"
   ]
  },
  {
   "cell_type": "markdown",
   "metadata": {},
   "source": [
    "Load the data in from the URL, ensuring that the various codes are read as strings. Preview the first few rows of the dataset."
   ]
  },
  {
   "cell_type": "code",
   "execution_count": 2,
   "metadata": {
    "activity": false,
    "collapsed": false,
    "run_control": {
     "read_only": false
    }
   },
   "outputs": [
    {
     "data": {
      "text/html": [
       "<div>\n",
       "<table border=\"1\" class=\"dataframe\">\n",
       "  <thead>\n",
       "    <tr style=\"text-align: right;\">\n",
       "      <th></th>\n",
       "      <th>Classification</th>\n",
       "      <th>Year</th>\n",
       "      <th>Period</th>\n",
       "      <th>Period Desc.</th>\n",
       "      <th>Aggregate Level</th>\n",
       "      <th>Is Leaf Code</th>\n",
       "      <th>Trade Flow Code</th>\n",
       "      <th>Trade Flow</th>\n",
       "      <th>Reporter Code</th>\n",
       "      <th>Reporter</th>\n",
       "      <th>...</th>\n",
       "      <th>Qty</th>\n",
       "      <th>Alt Qty Unit Code</th>\n",
       "      <th>Alt Qty Unit</th>\n",
       "      <th>Alt Qty</th>\n",
       "      <th>Netweight (kg)</th>\n",
       "      <th>Gross weight (kg)</th>\n",
       "      <th>Trade Value (US$)</th>\n",
       "      <th>CIF Trade Value (US$)</th>\n",
       "      <th>FOB Trade Value (US$)</th>\n",
       "      <th>Flag</th>\n",
       "    </tr>\n",
       "  </thead>\n",
       "  <tbody>\n",
       "    <tr>\n",
       "      <th>0</th>\n",
       "      <td>HS</td>\n",
       "      <td>2014</td>\n",
       "      <td>201401</td>\n",
       "      <td>January 2014</td>\n",
       "      <td>4</td>\n",
       "      <td>0</td>\n",
       "      <td>1</td>\n",
       "      <td>Imports</td>\n",
       "      <td>826</td>\n",
       "      <td>United Kingdom</td>\n",
       "      <td>...</td>\n",
       "      <td>NaN</td>\n",
       "      <td>NaN</td>\n",
       "      <td>NaN</td>\n",
       "      <td>NaN</td>\n",
       "      <td>22404316</td>\n",
       "      <td>NaN</td>\n",
       "      <td>21950747</td>\n",
       "      <td>NaN</td>\n",
       "      <td>NaN</td>\n",
       "      <td>0</td>\n",
       "    </tr>\n",
       "    <tr>\n",
       "      <th>1</th>\n",
       "      <td>HS</td>\n",
       "      <td>2014</td>\n",
       "      <td>201401</td>\n",
       "      <td>January 2014</td>\n",
       "      <td>4</td>\n",
       "      <td>0</td>\n",
       "      <td>2</td>\n",
       "      <td>Exports</td>\n",
       "      <td>826</td>\n",
       "      <td>United Kingdom</td>\n",
       "      <td>...</td>\n",
       "      <td>NaN</td>\n",
       "      <td>NaN</td>\n",
       "      <td>NaN</td>\n",
       "      <td>NaN</td>\n",
       "      <td>60497363</td>\n",
       "      <td>NaN</td>\n",
       "      <td>46923551</td>\n",
       "      <td>NaN</td>\n",
       "      <td>NaN</td>\n",
       "      <td>0</td>\n",
       "    </tr>\n",
       "    <tr>\n",
       "      <th>2</th>\n",
       "      <td>HS</td>\n",
       "      <td>2014</td>\n",
       "      <td>201402</td>\n",
       "      <td>February 2014</td>\n",
       "      <td>4</td>\n",
       "      <td>0</td>\n",
       "      <td>1</td>\n",
       "      <td>Imports</td>\n",
       "      <td>826</td>\n",
       "      <td>United Kingdom</td>\n",
       "      <td>...</td>\n",
       "      <td>NaN</td>\n",
       "      <td>NaN</td>\n",
       "      <td>NaN</td>\n",
       "      <td>NaN</td>\n",
       "      <td>18951778</td>\n",
       "      <td>NaN</td>\n",
       "      <td>18685555</td>\n",
       "      <td>NaN</td>\n",
       "      <td>NaN</td>\n",
       "      <td>0</td>\n",
       "    </tr>\n",
       "  </tbody>\n",
       "</table>\n",
       "<p>3 rows × 35 columns</p>\n",
       "</div>"
      ],
      "text/plain": [
       "  Classification  Year  Period   Period Desc.  Aggregate Level  Is Leaf Code  \\\n",
       "0             HS  2014  201401   January 2014                4             0   \n",
       "1             HS  2014  201401   January 2014                4             0   \n",
       "2             HS  2014  201402  February 2014                4             0   \n",
       "\n",
       "   Trade Flow Code Trade Flow Reporter Code        Reporter  ...   Qty  \\\n",
       "0                1    Imports           826  United Kingdom  ...   NaN   \n",
       "1                2    Exports           826  United Kingdom  ...   NaN   \n",
       "2                1    Imports           826  United Kingdom  ...   NaN   \n",
       "\n",
       "   Alt Qty Unit Code Alt Qty Unit  Alt Qty  Netweight (kg)  Gross weight (kg)  \\\n",
       "0                NaN          NaN      NaN        22404316                NaN   \n",
       "1                NaN          NaN      NaN        60497363                NaN   \n",
       "2                NaN          NaN      NaN        18951778                NaN   \n",
       "\n",
       "   Trade Value (US$)  CIF Trade Value (US$)  FOB Trade Value (US$)  Flag  \n",
       "0           21950747                    NaN                    NaN     0  \n",
       "1           46923551                    NaN                    NaN     0  \n",
       "2           18685555                    NaN                    NaN     0  \n",
       "\n",
       "[3 rows x 35 columns]"
      ]
     },
     "execution_count": 2,
     "metadata": {},
     "output_type": "execute_result"
    }
   ],
   "source": [
    "milk=read_csv(URL,dtype={'Commodity Code':str, 'Reporter Code':str})\n",
    "milk.head(3)"
   ]
  },
  {
   "cell_type": "markdown",
   "metadata": {},
   "source": [
    "Limit the columns to make the dataframe easier to work with by selecting just a subset of them."
   ]
  },
  {
   "cell_type": "code",
   "execution_count": 19,
   "metadata": {
    "activity": false,
    "collapsed": false,
    "run_control": {
     "read_only": false
    }
   },
   "outputs": [],
   "source": [
    "COLUMNS=['Year', 'Period','Trade Flow','Reporter', 'Partner', 'Commodity','Commodity Code','Trade Value (US$)']\n",
    "milk=milk[COLUMNS]\n"
   ]
  },
  {
   "cell_type": "markdown",
   "metadata": {},
   "source": [
    "Derive two new dataframes that separate out the 'World' partner data and the data for individual partner countries."
   ]
  },
  {
   "cell_type": "code",
   "execution_count": 4,
   "metadata": {
    "activity": false,
    "collapsed": false,
    "run_control": {
     "read_only": false
    }
   },
   "outputs": [],
   "source": [
    "milk_world=milk[milk['Partner'] == 'World']\n",
    "milk_countries=milk[milk['Partner'] != 'World']"
   ]
  },
  {
   "cell_type": "markdown",
   "metadata": {},
   "source": [
    "You may wish to store a local copy as a CSV file, for example:"
   ]
  },
  {
   "cell_type": "code",
   "execution_count": 5,
   "metadata": {
    "activity": false,
    "collapsed": false,
    "run_control": {
     "read_only": false
    }
   },
   "outputs": [],
   "source": [
    "milk_countries.to_csv('countrymilk.csv', index=False)"
   ]
  },
  {
   "cell_type": "markdown",
   "metadata": {},
   "source": [
    "To load the data back in:"
   ]
  },
  {
   "cell_type": "code",
   "execution_count": 6,
   "metadata": {
    "activity": false,
    "collapsed": false,
    "run_control": {
     "read_only": false
    }
   },
   "outputs": [
    {
     "data": {
      "text/html": [
       "<div>\n",
       "<table border=\"1\" class=\"dataframe\">\n",
       "  <thead>\n",
       "    <tr style=\"text-align: right;\">\n",
       "      <th></th>\n",
       "      <th>Year</th>\n",
       "      <th>Period</th>\n",
       "      <th>Trade Flow</th>\n",
       "      <th>Reporter</th>\n",
       "      <th>Partner</th>\n",
       "      <th>Commodity</th>\n",
       "      <th>Commodity Code</th>\n",
       "      <th>Trade Value (US$)</th>\n",
       "    </tr>\n",
       "  </thead>\n",
       "  <tbody>\n",
       "    <tr>\n",
       "      <th>0</th>\n",
       "      <td>2014</td>\n",
       "      <td>201407</td>\n",
       "      <td>Exports</td>\n",
       "      <td>United Kingdom</td>\n",
       "      <td>Afghanistan</td>\n",
       "      <td>Milk and cream, neither concentrated nor sweet...</td>\n",
       "      <td>0401</td>\n",
       "      <td>4017</td>\n",
       "    </tr>\n",
       "    <tr>\n",
       "      <th>1</th>\n",
       "      <td>2014</td>\n",
       "      <td>201406</td>\n",
       "      <td>Exports</td>\n",
       "      <td>United Kingdom</td>\n",
       "      <td>Afghanistan</td>\n",
       "      <td>Milk and cream, neither concentrated nor sweet...</td>\n",
       "      <td>0401</td>\n",
       "      <td>13150</td>\n",
       "    </tr>\n",
       "  </tbody>\n",
       "</table>\n",
       "</div>"
      ],
      "text/plain": [
       "   Year  Period Trade Flow        Reporter      Partner  \\\n",
       "0  2014  201407    Exports  United Kingdom  Afghanistan   \n",
       "1  2014  201406    Exports  United Kingdom  Afghanistan   \n",
       "\n",
       "                                           Commodity Commodity Code  \\\n",
       "0  Milk and cream, neither concentrated nor sweet...           0401   \n",
       "1  Milk and cream, neither concentrated nor sweet...           0401   \n",
       "\n",
       "   Trade Value (US$)  \n",
       "0               4017  \n",
       "1              13150  "
      ]
     },
     "execution_count": 6,
     "metadata": {},
     "output_type": "execute_result"
    }
   ],
   "source": [
    "load_test=read_csv('countrymilk.csv',dtype={'Commodity Code':str, 'Reporter Code':str})\n",
    "load_test.head(2)"
   ]
  },
  {
   "cell_type": "markdown",
   "metadata": {},
   "source": [
    "If you are on a Windows computer, data files may sometimes be saved using a file encoding (*Latin-1*) that pandas does not recognise by default, causing you to see a `UnicodeDecodeError`.\n",
    "\n",
    "In such cases, opening files in `read_excel()` or `read_csv()` using the parameter  `encoding=\"ISO-8859-1\"` or  `encoding = \"Latin-1\"` should fix the problem. For example, edit the previous command to read:\n",
    "\n",
    "`load_test=read_csv('countrymilk.csv', dtype={'Commodity Code':str}, encoding = \"ISO-8859-1\")`\n",
    "\n",
    "### Subsetting Your Data\n",
    "For large or heterogenous datasets, it is often convenient to create subsets of the data. To further separate out the imports:\n"
   ]
  },
  {
   "cell_type": "code",
   "execution_count": 7,
   "metadata": {
    "activity": false,
    "collapsed": false,
    "run_control": {
     "read_only": false
    }
   },
   "outputs": [],
   "source": [
    "milk_imports=milk_countries[milk_countries['Trade Flow']=='Imports']\n",
    "milk_countries_imports=milk_countries[milk_countries['Trade Flow']=='Imports']\n",
    "milk_world_imports=milk_world[milk_world['Trade Flow']=='Imports']"
   ]
  },
  {
   "cell_type": "markdown",
   "metadata": {},
   "source": [
    "### Sorting the data\n",
    "\n",
    "Having loaded in the data, find the most valuable partners in terms of import trade flow during a particular month by sorting the data by *decreasing* trade value and then selecting the top few rows."
   ]
  },
  {
   "cell_type": "code",
   "execution_count": 8,
   "metadata": {
    "activity": false,
    "collapsed": false,
    "run_control": {
     "read_only": false
    }
   },
   "outputs": [
    {
     "data": {
      "text/html": [
       "<div>\n",
       "<table border=\"1\" class=\"dataframe\">\n",
       "  <thead>\n",
       "    <tr style=\"text-align: right;\">\n",
       "      <th></th>\n",
       "      <th>Year</th>\n",
       "      <th>Period</th>\n",
       "      <th>Trade Flow</th>\n",
       "      <th>Reporter</th>\n",
       "      <th>Partner</th>\n",
       "      <th>Commodity</th>\n",
       "      <th>Commodity Code</th>\n",
       "      <th>Trade Value (US$)</th>\n",
       "    </tr>\n",
       "  </thead>\n",
       "  <tbody>\n",
       "    <tr>\n",
       "      <th>700</th>\n",
       "      <td>2014</td>\n",
       "      <td>201401</td>\n",
       "      <td>Imports</td>\n",
       "      <td>United Kingdom</td>\n",
       "      <td>Ireland</td>\n",
       "      <td>Milk and cream, neither concentrated nor sweet...</td>\n",
       "      <td>0401</td>\n",
       "      <td>10676138</td>\n",
       "    </tr>\n",
       "    <tr>\n",
       "      <th>461</th>\n",
       "      <td>2014</td>\n",
       "      <td>201401</td>\n",
       "      <td>Imports</td>\n",
       "      <td>United Kingdom</td>\n",
       "      <td>France</td>\n",
       "      <td>Milk and cream, concentrated or sweetened</td>\n",
       "      <td>0402</td>\n",
       "      <td>8020014</td>\n",
       "    </tr>\n",
       "    <tr>\n",
       "      <th>688</th>\n",
       "      <td>2014</td>\n",
       "      <td>201401</td>\n",
       "      <td>Imports</td>\n",
       "      <td>United Kingdom</td>\n",
       "      <td>Ireland</td>\n",
       "      <td>Milk and cream, concentrated or sweetened</td>\n",
       "      <td>0402</td>\n",
       "      <td>5966962</td>\n",
       "    </tr>\n",
       "    <tr>\n",
       "      <th>990</th>\n",
       "      <td>2014</td>\n",
       "      <td>201401</td>\n",
       "      <td>Imports</td>\n",
       "      <td>United Kingdom</td>\n",
       "      <td>Netherlands</td>\n",
       "      <td>Milk and cream, concentrated or sweetened</td>\n",
       "      <td>0402</td>\n",
       "      <td>4650774</td>\n",
       "    </tr>\n",
       "    <tr>\n",
       "      <th>511</th>\n",
       "      <td>2014</td>\n",
       "      <td>201401</td>\n",
       "      <td>Imports</td>\n",
       "      <td>United Kingdom</td>\n",
       "      <td>Germany</td>\n",
       "      <td>Milk and cream, concentrated or sweetened</td>\n",
       "      <td>0402</td>\n",
       "      <td>4545873</td>\n",
       "    </tr>\n",
       "    <tr>\n",
       "      <th>137</th>\n",
       "      <td>2014</td>\n",
       "      <td>201401</td>\n",
       "      <td>Imports</td>\n",
       "      <td>United Kingdom</td>\n",
       "      <td>Belgium</td>\n",
       "      <td>Milk and cream, neither concentrated nor sweet...</td>\n",
       "      <td>0401</td>\n",
       "      <td>4472349</td>\n",
       "    </tr>\n",
       "    <tr>\n",
       "      <th>155</th>\n",
       "      <td>2014</td>\n",
       "      <td>201401</td>\n",
       "      <td>Imports</td>\n",
       "      <td>United Kingdom</td>\n",
       "      <td>Belgium</td>\n",
       "      <td>Milk and cream, concentrated or sweetened</td>\n",
       "      <td>0402</td>\n",
       "      <td>3584038</td>\n",
       "    </tr>\n",
       "    <tr>\n",
       "      <th>356</th>\n",
       "      <td>2014</td>\n",
       "      <td>201401</td>\n",
       "      <td>Imports</td>\n",
       "      <td>United Kingdom</td>\n",
       "      <td>Denmark</td>\n",
       "      <td>Milk and cream, neither concentrated nor sweet...</td>\n",
       "      <td>0401</td>\n",
       "      <td>2233438</td>\n",
       "    </tr>\n",
       "    <tr>\n",
       "      <th>1318</th>\n",
       "      <td>2014</td>\n",
       "      <td>201401</td>\n",
       "      <td>Imports</td>\n",
       "      <td>United Kingdom</td>\n",
       "      <td>Spain</td>\n",
       "      <td>Milk and cream, concentrated or sweetened</td>\n",
       "      <td>0402</td>\n",
       "      <td>1850097</td>\n",
       "    </tr>\n",
       "    <tr>\n",
       "      <th>449</th>\n",
       "      <td>2014</td>\n",
       "      <td>201401</td>\n",
       "      <td>Imports</td>\n",
       "      <td>United Kingdom</td>\n",
       "      <td>France</td>\n",
       "      <td>Milk and cream, neither concentrated nor sweet...</td>\n",
       "      <td>0401</td>\n",
       "      <td>1522872</td>\n",
       "    </tr>\n",
       "  </tbody>\n",
       "</table>\n",
       "</div>"
      ],
      "text/plain": [
       "      Year  Period Trade Flow        Reporter      Partner  \\\n",
       "700   2014  201401    Imports  United Kingdom      Ireland   \n",
       "461   2014  201401    Imports  United Kingdom       France   \n",
       "688   2014  201401    Imports  United Kingdom      Ireland   \n",
       "990   2014  201401    Imports  United Kingdom  Netherlands   \n",
       "511   2014  201401    Imports  United Kingdom      Germany   \n",
       "137   2014  201401    Imports  United Kingdom      Belgium   \n",
       "155   2014  201401    Imports  United Kingdom      Belgium   \n",
       "356   2014  201401    Imports  United Kingdom      Denmark   \n",
       "1318  2014  201401    Imports  United Kingdom        Spain   \n",
       "449   2014  201401    Imports  United Kingdom       France   \n",
       "\n",
       "                                              Commodity Commodity Code  \\\n",
       "700   Milk and cream, neither concentrated nor sweet...           0401   \n",
       "461           Milk and cream, concentrated or sweetened           0402   \n",
       "688           Milk and cream, concentrated or sweetened           0402   \n",
       "990           Milk and cream, concentrated or sweetened           0402   \n",
       "511           Milk and cream, concentrated or sweetened           0402   \n",
       "137   Milk and cream, neither concentrated nor sweet...           0401   \n",
       "155           Milk and cream, concentrated or sweetened           0402   \n",
       "356   Milk and cream, neither concentrated nor sweet...           0401   \n",
       "1318          Milk and cream, concentrated or sweetened           0402   \n",
       "449   Milk and cream, neither concentrated nor sweet...           0401   \n",
       "\n",
       "      Trade Value (US$)  \n",
       "700            10676138  \n",
       "461             8020014  \n",
       "688             5966962  \n",
       "990             4650774  \n",
       "511             4545873  \n",
       "137             4472349  \n",
       "155             3584038  \n",
       "356             2233438  \n",
       "1318            1850097  \n",
       "449             1522872  "
      ]
     },
     "execution_count": 8,
     "metadata": {},
     "output_type": "execute_result"
    }
   ],
   "source": [
    "milkImportsInJanuary2014=milk_countries_imports[milk_countries_imports['Period']==201401]\n",
    "milkImportsInJanuary2014.sort('Trade Value (US$)',ascending=False).head(10)"
   ]
  },
  {
   "cell_type": "markdown",
   "metadata": {},
   "source": [
    "### Task\n",
    "\n",
    "To complete these tasks you could copy this notebook and amend the code or create a new notebook to do the analysis for your chosen data.\n",
    "\n",
    "Using the [Comtrade Data website](http://comtrade.un.org/data/), identify a dataset that describes the import and export trade flows for a particular service or form of goods between your country (as reporter) and all ('All') the other countries in the world. Get the monthly data for all months in 2014.\n",
    "\n",
    "Using the Comtrade API ('View API' link), pull this data into a pandas dataframe and create an easier to work with dataframe that excludes data associated with the 'World' partner. Sort this data to see which countries are the biggest partners in terms of import and export trade flow."
   ]
  },
  {
   "cell_type": "code",
   "execution_count": 25,
   "metadata": {
    "collapsed": false
   },
   "outputs": [
    {
     "data": {
      "text/plain": [
       "pandas.core.frame.DataFrame"
      ]
     },
     "execution_count": 25,
     "metadata": {},
     "output_type": "execute_result"
    }
   ],
   "source": [
    "%matplotlib inline\n",
    "\n",
    "from pandas import *\n",
    "palmOilURL = \"http://comtrade.un.org/api/get?max=5000&type=C&freq=M&px=HS&ps=2014&r=826&p=all&rg=all&cc=1511&fmt=csv\"\n",
    "\n",
    "# we need to coerce some numbers so they're not reformatted by Pandas\n",
    "dataConversion = {'Commodity Code':str, 'Reporter Code':str}\n",
    "\n",
    "palmOil = read_csv(palmOilURL, dtype=dataConversion)\n",
    "\n",
    "# just a peek\n",
    "palmOil.head(2)\n",
    "\n",
    "palmOil.__class__"
   ]
  },
  {
   "cell_type": "code",
   "execution_count": 11,
   "metadata": {
    "collapsed": true
   },
   "outputs": [],
   "source": [
    "### Now let's save it somewhere to avoid downloading it all the time:\n",
    "\n",
    "# we call a method on the DF itself, but we make sure we don't save the index generated when we loaded it\n",
    "palmOil.to_csv('palm-oil.csv', index=False)\n"
   ]
  },
  {
   "cell_type": "code",
   "execution_count": null,
   "metadata": {
    "collapsed": false
   },
   "outputs": [],
   "source": [
    "# We now have it safe so lets continue."
   ]
  },
  {
   "cell_type": "markdown",
   "metadata": {},
   "source": [
    "#### If this is playing silly buggers, try checking the `.__class__` of your dataframe."
   ]
  },
  {
   "cell_type": "code",
   "execution_count": 30,
   "metadata": {
    "collapsed": false
   },
   "outputs": [],
   "source": [
    "COLUMNS=['Year', 'Period','Trade Flow','Reporter', 'Partner', 'Commodity','Commodity Code','Trade Value (US$)']\n",
    "\n",
    "milk=milk[COLUMNS]\n",
    "palmOil = palmOil[COLUMNS]\n"
   ]
  },
  {
   "cell_type": "markdown",
   "metadata": {},
   "source": [
    "\n",
    "### We're now splitting out two dataframes as we don't want the world figures right now"
   ]
  },
  {
   "cell_type": "code",
   "execution_count": 353,
   "metadata": {
    "collapsed": true
   },
   "outputs": [],
   "source": [
    "#milk_world=milk[milk['Partner'] == 'World']\n",
    "#milk_countries=milk[milk['Partner'] != 'World'] \n",
    "\n",
    "palmOilWorld = palmOil[palmOil[\"Partner\"] == \"World\"]\n",
    "palmOilCountries = palmOil[palmOil[\"Partner\"] != \"World\"]"
   ]
  },
  {
   "cell_type": "markdown",
   "metadata": {},
   "source": [
    "We'll probably want to save these smaller dataframes too, so let's do that, with the `to_csv` function"
   ]
  },
  {
   "cell_type": "code",
   "execution_count": 33,
   "metadata": {
    "collapsed": false
   },
   "outputs": [],
   "source": [
    "palmOilWorld.to_csv('palm-oil-world.csv', index=False)\n",
    "palmOilCountries.to_csv('palm-oil-countries.csv', index=False)"
   ]
  },
  {
   "cell_type": "markdown",
   "metadata": {},
   "source": [
    "In the next step, they make _even more_ subsets from the current subdivided dataframes"
   ]
  },
  {
   "cell_type": "code",
   "execution_count": 36,
   "metadata": {
    "collapsed": true
   },
   "outputs": [],
   "source": [
    "#milk_imports = milk_countries[milk_countries['Trade Flow']=='Imports']\n",
    "#milk_countries_imports = milk_countries[milk_countries['Trade Flow']=='Imports']\n",
    "#milk_world_imports = milk_world[milk_world['Trade Flow']=='Imports']\n",
    "\n",
    "palmOilImports = palmOil[palmOil[\"Trade Flow\"] == 'Imports']\n",
    "palmOilCountriesImports = palmOilCountries[palmOilCountries['Trade Flow'] == 'Imports']\n",
    "palmOilWorldImports = palmOilWorld[palmOilWorld['Trade Flow'] == 'Imports']"
   ]
  },
  {
   "cell_type": "markdown",
   "metadata": {},
   "source": [
    "So, the next step is to create _yet another subset_, so it can be sorted"
   ]
  },
  {
   "cell_type": "code",
   "execution_count": 38,
   "metadata": {
    "collapsed": false
   },
   "outputs": [],
   "source": [
    "# milkImportsInJanuary2014 = milk_countries_imports[milk_countries_imports['Period']==201401]\n",
    "\n",
    "# milkImportsInJanuary2014.sort('Trade Value (US$)',ascending=False).head(10)\n",
    "\n",
    "palmOilImportsInNov2014 = palmOilImports[palmOilImports['Period'] == 201411]"
   ]
  },
  {
   "cell_type": "markdown",
   "metadata": {},
   "source": [
    "TIL - You have to be careful about the datatypes when making subsets. This won't work, becuase you're comparing a string to an integer."
   ]
  },
  {
   "cell_type": "code",
   "execution_count": 39,
   "metadata": {
    "collapsed": false
   },
   "outputs": [
    {
     "ename": "TypeError",
     "evalue": "invalid type comparison",
     "output_type": "error",
     "traceback": [
      "\u001b[0;31m---------------------------------------------------------------------------\u001b[0m",
      "\u001b[0;31mTypeError\u001b[0m                                 Traceback (most recent call last)",
      "\u001b[0;32m<ipython-input-39-3a28d473e901>\u001b[0m in \u001b[0;36m<module>\u001b[0;34m()\u001b[0m\n\u001b[0;32m----> 1\u001b[0;31m \u001b[0mpalmOilImportsInNov2014\u001b[0m \u001b[0;34m=\u001b[0m \u001b[0mpalmOilImports\u001b[0m\u001b[0;34m[\u001b[0m\u001b[0mpalmOilImports\u001b[0m\u001b[0;34m[\u001b[0m\u001b[0;34m'Period'\u001b[0m\u001b[0;34m]\u001b[0m \u001b[0;34m==\u001b[0m \u001b[0;34m'201411'\u001b[0m\u001b[0;34m]\u001b[0m\u001b[0;34m\u001b[0m\u001b[0m\n\u001b[0m",
      "\u001b[0;32m/Users/chrisadams/anaconda/lib/python3.4/site-packages/pandas/core/ops.py\u001b[0m in \u001b[0;36mwrapper\u001b[0;34m(self, other, axis)\u001b[0m\n\u001b[1;32m    612\u001b[0m \u001b[0;34m\u001b[0m\u001b[0m\n\u001b[1;32m    613\u001b[0m             \u001b[0;31m# scalars\u001b[0m\u001b[0;34m\u001b[0m\u001b[0;34m\u001b[0m\u001b[0m\n\u001b[0;32m--> 614\u001b[0;31m             \u001b[0mres\u001b[0m \u001b[0;34m=\u001b[0m \u001b[0mna_op\u001b[0m\u001b[0;34m(\u001b[0m\u001b[0mvalues\u001b[0m\u001b[0;34m,\u001b[0m \u001b[0mother\u001b[0m\u001b[0;34m)\u001b[0m\u001b[0;34m\u001b[0m\u001b[0m\n\u001b[0m\u001b[1;32m    615\u001b[0m             \u001b[0;32mif\u001b[0m \u001b[0mnp\u001b[0m\u001b[0;34m.\u001b[0m\u001b[0misscalar\u001b[0m\u001b[0;34m(\u001b[0m\u001b[0mres\u001b[0m\u001b[0;34m)\u001b[0m\u001b[0;34m:\u001b[0m\u001b[0;34m\u001b[0m\u001b[0m\n\u001b[1;32m    616\u001b[0m                 raise TypeError('Could not compare %s type with Series'\n",
      "\u001b[0;32m/Users/chrisadams/anaconda/lib/python3.4/site-packages/pandas/core/ops.py\u001b[0m in \u001b[0;36mna_op\u001b[0;34m(x, y)\u001b[0m\n\u001b[1;32m    566\u001b[0m                 \u001b[0mresult\u001b[0m \u001b[0;34m=\u001b[0m \u001b[0mgetattr\u001b[0m\u001b[0;34m(\u001b[0m\u001b[0mx\u001b[0m\u001b[0;34m,\u001b[0m \u001b[0mname\u001b[0m\u001b[0;34m)\u001b[0m\u001b[0;34m(\u001b[0m\u001b[0my\u001b[0m\u001b[0;34m)\u001b[0m\u001b[0;34m\u001b[0m\u001b[0m\n\u001b[1;32m    567\u001b[0m                 \u001b[0;32mif\u001b[0m \u001b[0mresult\u001b[0m \u001b[0;32mis\u001b[0m \u001b[0mNotImplemented\u001b[0m\u001b[0;34m:\u001b[0m\u001b[0;34m\u001b[0m\u001b[0m\n\u001b[0;32m--> 568\u001b[0;31m                     \u001b[0;32mraise\u001b[0m \u001b[0mTypeError\u001b[0m\u001b[0;34m(\u001b[0m\u001b[0;34m\"invalid type comparison\"\u001b[0m\u001b[0;34m)\u001b[0m\u001b[0;34m\u001b[0m\u001b[0m\n\u001b[0m\u001b[1;32m    569\u001b[0m             \u001b[0;32mexcept\u001b[0m \u001b[0;34m(\u001b[0m\u001b[0mAttributeError\u001b[0m\u001b[0;34m)\u001b[0m\u001b[0;34m:\u001b[0m\u001b[0;34m\u001b[0m\u001b[0m\n\u001b[1;32m    570\u001b[0m                 \u001b[0mresult\u001b[0m \u001b[0;34m=\u001b[0m \u001b[0mop\u001b[0m\u001b[0;34m(\u001b[0m\u001b[0mx\u001b[0m\u001b[0;34m,\u001b[0m \u001b[0my\u001b[0m\u001b[0;34m)\u001b[0m\u001b[0;34m\u001b[0m\u001b[0m\n",
      "\u001b[0;31mTypeError\u001b[0m: invalid type comparison"
     ]
    }
   ],
   "source": [
    "palmOilImportsInNov2014 = palmOilImports[palmOilImports['Period'] == '201411']\n"
   ]
  },
  {
   "cell_type": "markdown",
   "metadata": {},
   "source": [
    "If in doubt, don't forget the you can check the datatypes on a dataframe. Doing so lets you see what type of comparison you need to peel off your preferred subset"
   ]
  },
  {
   "cell_type": "code",
   "execution_count": 42,
   "metadata": {
    "collapsed": false
   },
   "outputs": [
    {
     "data": {
      "text/plain": [
       "Year                  int64\n",
       "Period                int64\n",
       "Trade Flow           object\n",
       "Reporter             object\n",
       "Partner              object\n",
       "Commodity            object\n",
       "Commodity Code       object\n",
       "Trade Value (US$)     int64\n",
       "dtype: object"
      ]
     },
     "execution_count": 42,
     "metadata": {},
     "output_type": "execute_result"
    }
   ],
   "source": [
    "palmOilImports.dtypes"
   ]
  },
  {
   "cell_type": "markdown",
   "metadata": {},
   "source": [
    "So, back to creating our dataframe of the top trading partners for palmoil with the UK"
   ]
  },
  {
   "cell_type": "code",
   "execution_count": 44,
   "metadata": {
    "collapsed": false
   },
   "outputs": [
    {
     "data": {
      "text/html": [
       "<div>\n",
       "<table border=\"1\" class=\"dataframe\">\n",
       "  <thead>\n",
       "    <tr style=\"text-align: right;\">\n",
       "      <th></th>\n",
       "      <th>Year</th>\n",
       "      <th>Period</th>\n",
       "      <th>Trade Flow</th>\n",
       "      <th>Reporter</th>\n",
       "      <th>Partner</th>\n",
       "      <th>Commodity</th>\n",
       "      <th>Commodity Code</th>\n",
       "      <th>Trade Value (US$)</th>\n",
       "    </tr>\n",
       "  </thead>\n",
       "  <tbody>\n",
       "    <tr>\n",
       "      <th>380</th>\n",
       "      <td>2014</td>\n",
       "      <td>201411</td>\n",
       "      <td>Imports</td>\n",
       "      <td>United Kingdom</td>\n",
       "      <td>World</td>\n",
       "      <td>Palm oil and its fractions, not chemically mod...</td>\n",
       "      <td>1511</td>\n",
       "      <td>12451432</td>\n",
       "    </tr>\n",
       "    <tr>\n",
       "      <th>403</th>\n",
       "      <td>2014</td>\n",
       "      <td>201411</td>\n",
       "      <td>Imports</td>\n",
       "      <td>United Kingdom</td>\n",
       "      <td>Netherlands</td>\n",
       "      <td>Palm oil and its fractions, not chemically mod...</td>\n",
       "      <td>1511</td>\n",
       "      <td>5237675</td>\n",
       "    </tr>\n",
       "    <tr>\n",
       "      <th>406</th>\n",
       "      <td>2014</td>\n",
       "      <td>201411</td>\n",
       "      <td>Imports</td>\n",
       "      <td>United Kingdom</td>\n",
       "      <td>Papua New Guinea</td>\n",
       "      <td>Palm oil and its fractions, not chemically mod...</td>\n",
       "      <td>1511</td>\n",
       "      <td>2515367</td>\n",
       "    </tr>\n",
       "    <tr>\n",
       "      <th>396</th>\n",
       "      <td>2014</td>\n",
       "      <td>201411</td>\n",
       "      <td>Imports</td>\n",
       "      <td>United Kingdom</td>\n",
       "      <td>Indonesia</td>\n",
       "      <td>Palm oil and its fractions, not chemically mod...</td>\n",
       "      <td>1511</td>\n",
       "      <td>2067083</td>\n",
       "    </tr>\n",
       "    <tr>\n",
       "      <th>400</th>\n",
       "      <td>2014</td>\n",
       "      <td>201411</td>\n",
       "      <td>Imports</td>\n",
       "      <td>United Kingdom</td>\n",
       "      <td>Malaysia</td>\n",
       "      <td>Palm oil and its fractions, not chemically mod...</td>\n",
       "      <td>1511</td>\n",
       "      <td>1910889</td>\n",
       "    </tr>\n",
       "  </tbody>\n",
       "</table>\n",
       "</div>"
      ],
      "text/plain": [
       "     Year  Period Trade Flow        Reporter           Partner  \\\n",
       "380  2014  201411    Imports  United Kingdom             World   \n",
       "403  2014  201411    Imports  United Kingdom       Netherlands   \n",
       "406  2014  201411    Imports  United Kingdom  Papua New Guinea   \n",
       "396  2014  201411    Imports  United Kingdom         Indonesia   \n",
       "400  2014  201411    Imports  United Kingdom          Malaysia   \n",
       "\n",
       "                                             Commodity Commodity Code  \\\n",
       "380  Palm oil and its fractions, not chemically mod...           1511   \n",
       "403  Palm oil and its fractions, not chemically mod...           1511   \n",
       "406  Palm oil and its fractions, not chemically mod...           1511   \n",
       "396  Palm oil and its fractions, not chemically mod...           1511   \n",
       "400  Palm oil and its fractions, not chemically mod...           1511   \n",
       "\n",
       "     Trade Value (US$)  \n",
       "380           12451432  \n",
       "403            5237675  \n",
       "406            2515367  \n",
       "396            2067083  \n",
       "400            1910889  "
      ]
     },
     "execution_count": 44,
     "metadata": {},
     "output_type": "execute_result"
    }
   ],
   "source": [
    "palmOilImportsInNov2014.sort(\"Trade Value (US$)\", ascending=False).head(5)"
   ]
  },
  {
   "cell_type": "markdown",
   "metadata": {},
   "source": [
    "And you can see, Netherl.. WHUH? The UK gets most of its palm oil from the Netherlands?!? Is this a holdover from the colonial days?"
   ]
  },
  {
   "cell_type": "markdown",
   "metadata": {},
   "source": [
    "Let's make a graph, so we don't forget how."
   ]
  },
  {
   "cell_type": "code",
   "execution_count": 57,
   "metadata": {
    "collapsed": false
   },
   "outputs": [
    {
     "data": {
      "text/plain": [
       "<matplotlib.axes._subplots.AxesSubplot at 0x10943fcc0>"
      ]
     },
     "execution_count": 57,
     "metadata": {},
     "output_type": "execute_result"
    },
    {
     "data": {
      "image/png": "[encoded data removed]",
      "text/plain": [
       "<matplotlib.figure.Figure at 0x109f459b0>"
      ]
     },
     "metadata": {},
     "output_type": "display_data"
    }
   ],
   "source": [
    "# palm oil november graph, geddit?\n",
    "pong = palmOilImportsInNov2014.sort(\"Trade Value (US$)\", ascending=False)\n",
    "trade = palmOilImportsInNov2014[\"Trade Value (US$)\"]\n",
    "partner = palmOilImportsInNov2014[\"Partner\"]\n",
    "pong.plot(kind='barh')"
   ]
  },
  {
   "cell_type": "markdown",
   "metadata": {},
   "source": [
    "this isn't the graph I want. I don't know how to only show the partners in the y axis, and trade in the x-axis without triggering this error:"
   ]
  },
  {
   "cell_type": "code",
   "execution_count": 59,
   "metadata": {
    "collapsed": false
   },
   "outputs": [
    {
     "data": {
      "text/plain": [
       "<matplotlib.axes._subplots.AxesSubplot at 0x10a1e92e8>"
      ]
     },
     "execution_count": 59,
     "metadata": {},
     "output_type": "execute_result"
    },
    {
     "data": {
      "image/png": "[encoded data removed]",
      "text/plain": [
       "<matplotlib.figure.Figure at 0x10a1fd3c8>"
      ]
     },
     "metadata": {},
     "output_type": "display_data"
    }
   ],
   "source": [
    "pong.plot(kind='barh', x=trade)"
   ]
  },
  {
   "cell_type": "code",
   "execution_count": 63,
   "metadata": {
    "collapsed": false
   },
   "outputs": [
    {
     "data": {
      "text/plain": [
       "<matplotlib.axes._subplots.AxesSubplot at 0x10a639978>"
      ]
     },
     "execution_count": 63,
     "metadata": {},
     "output_type": "execute_result"
    },
    {
     "data": {
      "image/png": "[encoded data removed]",
      "text/plain": [
       "<matplotlib.figure.Figure at 0x10a7726a0>"
      ]
     },
     "metadata": {},
     "output_type": "display_data"
    }
   ],
   "source": [
    "newPong = pong[[\"Trade Value (US$)\", \"Partner\"]]\n",
    "newPong.plot(kind='bar', figsize=(15, 4))"
   ]
  },
  {
   "cell_type": "markdown",
   "metadata": {},
   "source": [
    "Okay, so the problem is that we aren't using the correct index, for the countries?\n",
    "\n",
    "Okay, that's fixable:"
   ]
  },
  {
   "cell_type": "code",
   "execution_count": 67,
   "metadata": {
    "collapsed": false
   },
   "outputs": [
    {
     "data": {
      "text/plain": [
       "<matplotlib.axes._subplots.AxesSubplot at 0x10af38b70>"
      ]
     },
     "execution_count": 67,
     "metadata": {},
     "output_type": "execute_result"
    },
    {
     "data": {
      "image/png": "[encoded data removed]",
      "text/plain": [
       "<matplotlib.figure.Figure at 0x10af41828>"
      ]
     },
     "metadata": {},
     "output_type": "display_data"
    }
   ],
   "source": [
    "newPong.index = newPong[\"Partner\"]\n",
    "newPong.plot(kind='bar', figsize=(15, 4))"
   ]
  },
  {
   "cell_type": "markdown",
   "metadata": {},
   "source": [
    "Lets get rid of the world:"
   ]
  },
  {
   "cell_type": "code",
   "execution_count": 73,
   "metadata": {
    "collapsed": false
   },
   "outputs": [
    {
     "data": {
      "text/plain": [
       "Trade Value (US$)     int64\n",
       "Partner              object\n",
       "dtype: object"
      ]
     },
     "execution_count": 73,
     "metadata": {},
     "output_type": "execute_result"
    }
   ],
   "source": [
    "\n",
    "#newPongNoWorld.plot(kind='bar', figsize=(15,4))\n",
    "newPong.dtypes\n"
   ]
  },
  {
   "cell_type": "code",
   "execution_count": 78,
   "metadata": {
    "collapsed": false
   },
   "outputs": [
    {
     "data": {
      "text/plain": [
       "<matplotlib.axes._subplots.AxesSubplot at 0x10b1e5cf8>"
      ]
     },
     "execution_count": 78,
     "metadata": {},
     "output_type": "execute_result"
    },
    {
     "data": {
      "image/png": "[encoded data removed]",
      "text/plain": [
       "<matplotlib.figure.Figure at 0x10b1e5668>"
      ]
     },
     "metadata": {},
     "output_type": "display_data"
    }
   ],
   "source": [
    "newPong[newPong[\"Partner\"] != \"World\"].plot(kind='bar', figsize=(15, 4))"
   ]
  },
  {
   "cell_type": "markdown",
   "metadata": {},
   "source": [
    "**Now go back to the Exercise 1 step in FutureLearn to discuss and mark it complete.**"
   ]
  },
  {
   "cell_type": "markdown",
   "metadata": {},
   "source": [
    "## Exercise 2: Grouping data\n",
    "\n",
    "On many occasions, a dataframe may be organised as groups of rows where the group membership is identified based on cell values within one or more 'key' columns. **Grouping** refers to the process whereby rows associated with a particular group are collated so that you can work with just those rows as distinct subsets of the whole dataset.\n",
    "\n",
    "The number of groups the dataframe will be split into is based on the number of unique values identified within a single key column, or the number of unique combinations of values for two or more key columns.\n",
    "\n",
    "The `groupby()` method runs down each row in data frame, splitting the rows into separate groups based on the unique values associated with the key column or columns.\n",
    "\n",
    "The following is an example of the steps and code needed to split the dataframe from the Exercise 1 example. "
   ]
  },
  {
   "cell_type": "markdown",
   "metadata": {},
   "source": [
    "### Grouping the data"
   ]
  },
  {
   "cell_type": "markdown",
   "metadata": {},
   "source": [
    "Split the data into two different subsets of data (imports and exports), by grouping on trade flow."
   ]
  },
  {
   "cell_type": "code",
   "execution_count": 79,
   "metadata": {
    "activity": false,
    "collapsed": false,
    "run_control": {
     "read_only": false
    }
   },
   "outputs": [],
   "source": [
    "groups = milk_countries.groupby('Trade Flow')"
   ]
  },
  {
   "cell_type": "markdown",
   "metadata": {},
   "source": [
    "Inspect the first few rows associated with a particular group:"
   ]
  },
  {
   "cell_type": "code",
   "execution_count": 80,
   "metadata": {
    "activity": false,
    "collapsed": false,
    "run_control": {
     "read_only": false
    }
   },
   "outputs": [
    {
     "data": {
      "text/html": [
       "<div>\n",
       "<table border=\"1\" class=\"dataframe\">\n",
       "  <thead>\n",
       "    <tr style=\"text-align: right;\">\n",
       "      <th></th>\n",
       "      <th>Year</th>\n",
       "      <th>Period</th>\n",
       "      <th>Trade Flow</th>\n",
       "      <th>Reporter</th>\n",
       "      <th>Partner</th>\n",
       "      <th>Commodity</th>\n",
       "      <th>Commodity Code</th>\n",
       "      <th>Trade Value (US$)</th>\n",
       "    </tr>\n",
       "  </thead>\n",
       "  <tbody>\n",
       "    <tr>\n",
       "      <th>111</th>\n",
       "      <td>2014</td>\n",
       "      <td>201410</td>\n",
       "      <td>Imports</td>\n",
       "      <td>United Kingdom</td>\n",
       "      <td>Austria</td>\n",
       "      <td>Milk and cream, concentrated or sweetened</td>\n",
       "      <td>0402</td>\n",
       "      <td>423018</td>\n",
       "    </tr>\n",
       "    <tr>\n",
       "      <th>113</th>\n",
       "      <td>2014</td>\n",
       "      <td>201409</td>\n",
       "      <td>Imports</td>\n",
       "      <td>United Kingdom</td>\n",
       "      <td>Austria</td>\n",
       "      <td>Milk and cream, concentrated or sweetened</td>\n",
       "      <td>0402</td>\n",
       "      <td>230809</td>\n",
       "    </tr>\n",
       "    <tr>\n",
       "      <th>116</th>\n",
       "      <td>2014</td>\n",
       "      <td>201411</td>\n",
       "      <td>Imports</td>\n",
       "      <td>United Kingdom</td>\n",
       "      <td>Austria</td>\n",
       "      <td>Milk and cream, concentrated or sweetened</td>\n",
       "      <td>0402</td>\n",
       "      <td>144989</td>\n",
       "    </tr>\n",
       "    <tr>\n",
       "      <th>131</th>\n",
       "      <td>2014</td>\n",
       "      <td>201404</td>\n",
       "      <td>Imports</td>\n",
       "      <td>United Kingdom</td>\n",
       "      <td>Belgium</td>\n",
       "      <td>Milk and cream, neither concentrated nor sweet...</td>\n",
       "      <td>0401</td>\n",
       "      <td>3258041</td>\n",
       "    </tr>\n",
       "    <tr>\n",
       "      <th>133</th>\n",
       "      <td>2014</td>\n",
       "      <td>201403</td>\n",
       "      <td>Imports</td>\n",
       "      <td>United Kingdom</td>\n",
       "      <td>Belgium</td>\n",
       "      <td>Milk and cream, neither concentrated nor sweet...</td>\n",
       "      <td>0401</td>\n",
       "      <td>2258058</td>\n",
       "    </tr>\n",
       "  </tbody>\n",
       "</table>\n",
       "</div>"
      ],
      "text/plain": [
       "     Year  Period Trade Flow        Reporter  Partner  \\\n",
       "111  2014  201410    Imports  United Kingdom  Austria   \n",
       "113  2014  201409    Imports  United Kingdom  Austria   \n",
       "116  2014  201411    Imports  United Kingdom  Austria   \n",
       "131  2014  201404    Imports  United Kingdom  Belgium   \n",
       "133  2014  201403    Imports  United Kingdom  Belgium   \n",
       "\n",
       "                                             Commodity Commodity Code  \\\n",
       "111          Milk and cream, concentrated or sweetened           0402   \n",
       "113          Milk and cream, concentrated or sweetened           0402   \n",
       "116          Milk and cream, concentrated or sweetened           0402   \n",
       "131  Milk and cream, neither concentrated nor sweet...           0401   \n",
       "133  Milk and cream, neither concentrated nor sweet...           0401   \n",
       "\n",
       "     Trade Value (US$)  \n",
       "111             423018  \n",
       "113             230809  \n",
       "116             144989  \n",
       "131            3258041  \n",
       "133            2258058  "
      ]
     },
     "execution_count": 80,
     "metadata": {},
     "output_type": "execute_result"
    }
   ],
   "source": [
    "groups.get_group('Imports').head()"
   ]
  },
  {
   "cell_type": "markdown",
   "metadata": {},
   "source": [
    "As well as grouping on a single term, you can create groups based on multiple columns by passing in several column names as a list. For example, generate groups based on commodity code *and* trade flow, and then preview the keys used to define the groups."
   ]
  },
  {
   "cell_type": "code",
   "execution_count": null,
   "metadata": {
    "activity": false,
    "collapsed": false,
    "run_control": {
     "read_only": false
    }
   },
   "outputs": [],
   "source": [
    "GROUPING_COMMFLOW = ['Commodity Code','Trade Flow']\n",
    "\n",
    "groups = milk_countries.groupby(GROUPING_COMMFLOW)\n",
    "groups.groups.keys()"
   ]
  },
  {
   "cell_type": "markdown",
   "metadata": {},
   "source": [
    "Retrieve a group based on multiple group levels by passing in a tuple that specifies a value for each index column. For example, if a grouping is based on the `'Partner'` and `'Trade Flow'` columns, the argument of `get_group` has to be a partner/flow pair, like `('France', 'Import')` to  get all rows associated with imports from France."
   ]
  },
  {
   "cell_type": "code",
   "execution_count": null,
   "metadata": {
    "activity": false,
    "collapsed": false,
    "run_control": {
     "read_only": false
    }
   },
   "outputs": [],
   "source": [
    "GROUPING_PARTNERFLOW = ['Partner','Trade Flow']\n",
    "groups = milk_countries.groupby(GROUPING_PARTNERFLOW)\n",
    "\n",
    "GROUP_PARTNERFLOW= ('France','Imports')\n",
    "groups.get_group( GROUP_PARTNERFLOW )"
   ]
  },
  {
   "cell_type": "markdown",
   "metadata": {},
   "source": [
    "To find the leading partner for a particular commodity, group by commodity, get the desired group, and then sort the result."
   ]
  },
  {
   "cell_type": "code",
   "execution_count": null,
   "metadata": {
    "activity": false,
    "collapsed": false,
    "run_control": {
     "read_only": false
    }
   },
   "outputs": [],
   "source": [
    "groups = milk_countries.groupby(['Commodity Code'])\n",
    "groups.get_group('0402').sort(\"Trade Value (US$)\", ascending=False).head()"
   ]
  },
  {
   "cell_type": "markdown",
   "metadata": {},
   "source": [
    "### Task\n",
    "\n",
    "Using your own data set from Exercise 1, try to group the data in a variety of ways, finding the most significant trade partner in each case:\n",
    "\n",
    "- by commodity, or commodity code\n",
    "- by trade flow, commodity and year."
   ]
  },
  {
   "cell_type": "markdown",
   "metadata": {},
   "source": [
    "Let's start with our palm oil countries again."
   ]
  },
  {
   "cell_type": "code",
   "execution_count": 82,
   "metadata": {
    "collapsed": false
   },
   "outputs": [
    {
     "data": {
      "text/html": [
       "<div>\n",
       "<table border=\"1\" class=\"dataframe\">\n",
       "  <thead>\n",
       "    <tr style=\"text-align: right;\">\n",
       "      <th></th>\n",
       "      <th>Year</th>\n",
       "      <th>Period</th>\n",
       "      <th>Trade Flow</th>\n",
       "      <th>Reporter</th>\n",
       "      <th>Partner</th>\n",
       "      <th>Commodity</th>\n",
       "      <th>Commodity Code</th>\n",
       "      <th>Trade Value (US$)</th>\n",
       "    </tr>\n",
       "  </thead>\n",
       "  <tbody>\n",
       "    <tr>\n",
       "      <th>2</th>\n",
       "      <td>2014</td>\n",
       "      <td>201401</td>\n",
       "      <td>Exports</td>\n",
       "      <td>United Kingdom</td>\n",
       "      <td>Australia</td>\n",
       "      <td>Palm oil and its fractions, not chemically mod...</td>\n",
       "      <td>1511</td>\n",
       "      <td>17614</td>\n",
       "    </tr>\n",
       "    <tr>\n",
       "      <th>3</th>\n",
       "      <td>2014</td>\n",
       "      <td>201401</td>\n",
       "      <td>Exports</td>\n",
       "      <td>United Kingdom</td>\n",
       "      <td>Austria</td>\n",
       "      <td>Palm oil and its fractions, not chemically mod...</td>\n",
       "      <td>1511</td>\n",
       "      <td>1614</td>\n",
       "    </tr>\n",
       "    <tr>\n",
       "      <th>4</th>\n",
       "      <td>2014</td>\n",
       "      <td>201401</td>\n",
       "      <td>Exports</td>\n",
       "      <td>United Kingdom</td>\n",
       "      <td>Belgium</td>\n",
       "      <td>Palm oil and its fractions, not chemically mod...</td>\n",
       "      <td>1511</td>\n",
       "      <td>33057</td>\n",
       "    </tr>\n",
       "    <tr>\n",
       "      <th>5</th>\n",
       "      <td>2014</td>\n",
       "      <td>201401</td>\n",
       "      <td>Imports</td>\n",
       "      <td>United Kingdom</td>\n",
       "      <td>Brazil</td>\n",
       "      <td>Palm oil and its fractions, not chemically mod...</td>\n",
       "      <td>1511</td>\n",
       "      <td>1663182</td>\n",
       "    </tr>\n",
       "    <tr>\n",
       "      <th>6</th>\n",
       "      <td>2014</td>\n",
       "      <td>201401</td>\n",
       "      <td>Exports</td>\n",
       "      <td>United Kingdom</td>\n",
       "      <td>Brazil</td>\n",
       "      <td>Palm oil and its fractions, not chemically mod...</td>\n",
       "      <td>1511</td>\n",
       "      <td>20261</td>\n",
       "    </tr>\n",
       "  </tbody>\n",
       "</table>\n",
       "</div>"
      ],
      "text/plain": [
       "   Year  Period Trade Flow        Reporter    Partner  \\\n",
       "2  2014  201401    Exports  United Kingdom  Australia   \n",
       "3  2014  201401    Exports  United Kingdom    Austria   \n",
       "4  2014  201401    Exports  United Kingdom    Belgium   \n",
       "5  2014  201401    Imports  United Kingdom     Brazil   \n",
       "6  2014  201401    Exports  United Kingdom     Brazil   \n",
       "\n",
       "                                           Commodity Commodity Code  \\\n",
       "2  Palm oil and its fractions, not chemically mod...           1511   \n",
       "3  Palm oil and its fractions, not chemically mod...           1511   \n",
       "4  Palm oil and its fractions, not chemically mod...           1511   \n",
       "5  Palm oil and its fractions, not chemically mod...           1511   \n",
       "6  Palm oil and its fractions, not chemically mod...           1511   \n",
       "\n",
       "   Trade Value (US$)  \n",
       "2              17614  \n",
       "3               1614  \n",
       "4              33057  \n",
       "5            1663182  \n",
       "6              20261  "
      ]
     },
     "execution_count": 82,
     "metadata": {},
     "output_type": "execute_result"
    }
   ],
   "source": [
    "palmOilCountries.head(5)"
   ]
  },
  {
   "cell_type": "markdown",
   "metadata": {},
   "source": [
    "We'd like to find out the biggest _exporter_ of Palm Oil. To do this, we'll need to group our countries by trade flow, and the partner"
   ]
  },
  {
   "cell_type": "code",
   "execution_count": 83,
   "metadata": {
    "collapsed": false
   },
   "outputs": [
    {
     "data": {
      "text/plain": [
       "<pandas.core.groupby.DataFrameGroupBy object at 0x10b449ac8>"
      ]
     },
     "execution_count": 83,
     "metadata": {},
     "output_type": "execute_result"
    }
   ],
   "source": [
    "TRADEFLOW_PARTNERS = [\"Trade Flow\", \"Partner\"]\n",
    "palmOilCountries.groupby(TRADEFLOW_PARTNERS)"
   ]
  },
  {
   "cell_type": "markdown",
   "metadata": {},
   "source": [
    "Actually, no, that won't help. We really need to group by Trade Flow, and sort by trade value"
   ]
  },
  {
   "cell_type": "code",
   "execution_count": 84,
   "metadata": {
    "collapsed": false
   },
   "outputs": [
    {
     "data": {
      "text/html": [
       "<div>\n",
       "<table border=\"1\" class=\"dataframe\">\n",
       "  <thead>\n",
       "    <tr style=\"text-align: right;\">\n",
       "      <th></th>\n",
       "      <th>Year</th>\n",
       "      <th>Period</th>\n",
       "      <th>Trade Flow</th>\n",
       "      <th>Reporter</th>\n",
       "      <th>Partner</th>\n",
       "      <th>Commodity</th>\n",
       "      <th>Commodity Code</th>\n",
       "      <th>Trade Value (US$)</th>\n",
       "    </tr>\n",
       "  </thead>\n",
       "  <tbody>\n",
       "    <tr>\n",
       "      <th>436</th>\n",
       "      <td>2014</td>\n",
       "      <td>201412</td>\n",
       "      <td>Exports</td>\n",
       "      <td>United Kingdom</td>\n",
       "      <td>Ireland</td>\n",
       "      <td>Palm oil and its fractions, not chemically mod...</td>\n",
       "      <td>1511</td>\n",
       "      <td>2879933</td>\n",
       "    </tr>\n",
       "    <tr>\n",
       "      <th>130</th>\n",
       "      <td>2014</td>\n",
       "      <td>201404</td>\n",
       "      <td>Exports</td>\n",
       "      <td>United Kingdom</td>\n",
       "      <td>Ireland</td>\n",
       "      <td>Palm oil and its fractions, not chemically mod...</td>\n",
       "      <td>1511</td>\n",
       "      <td>2745945</td>\n",
       "    </tr>\n",
       "    <tr>\n",
       "      <th>209</th>\n",
       "      <td>2014</td>\n",
       "      <td>201406</td>\n",
       "      <td>Exports</td>\n",
       "      <td>United Kingdom</td>\n",
       "      <td>Ireland</td>\n",
       "      <td>Palm oil and its fractions, not chemically mod...</td>\n",
       "      <td>1511</td>\n",
       "      <td>2465074</td>\n",
       "    </tr>\n",
       "    <tr>\n",
       "      <th>92</th>\n",
       "      <td>2014</td>\n",
       "      <td>201403</td>\n",
       "      <td>Exports</td>\n",
       "      <td>United Kingdom</td>\n",
       "      <td>Ireland</td>\n",
       "      <td>Palm oil and its fractions, not chemically mod...</td>\n",
       "      <td>1511</td>\n",
       "      <td>2302337</td>\n",
       "    </tr>\n",
       "    <tr>\n",
       "      <th>17</th>\n",
       "      <td>2014</td>\n",
       "      <td>201401</td>\n",
       "      <td>Exports</td>\n",
       "      <td>United Kingdom</td>\n",
       "      <td>Ireland</td>\n",
       "      <td>Palm oil and its fractions, not chemically mod...</td>\n",
       "      <td>1511</td>\n",
       "      <td>2201263</td>\n",
       "    </tr>\n",
       "  </tbody>\n",
       "</table>\n",
       "</div>"
      ],
      "text/plain": [
       "     Year  Period Trade Flow        Reporter  Partner  \\\n",
       "436  2014  201412    Exports  United Kingdom  Ireland   \n",
       "130  2014  201404    Exports  United Kingdom  Ireland   \n",
       "209  2014  201406    Exports  United Kingdom  Ireland   \n",
       "92   2014  201403    Exports  United Kingdom  Ireland   \n",
       "17   2014  201401    Exports  United Kingdom  Ireland   \n",
       "\n",
       "                                             Commodity Commodity Code  \\\n",
       "436  Palm oil and its fractions, not chemically mod...           1511   \n",
       "130  Palm oil and its fractions, not chemically mod...           1511   \n",
       "209  Palm oil and its fractions, not chemically mod...           1511   \n",
       "92   Palm oil and its fractions, not chemically mod...           1511   \n",
       "17   Palm oil and its fractions, not chemically mod...           1511   \n",
       "\n",
       "     Trade Value (US$)  \n",
       "436            2879933  \n",
       "130            2745945  \n",
       "209            2465074  \n",
       "92             2302337  \n",
       "17             2201263  "
      ]
     },
     "execution_count": 84,
     "metadata": {},
     "output_type": "execute_result"
    }
   ],
   "source": [
    "tradeflows = palmOilCountries.groupby(\"Trade Flow\")\n",
    "tradeflows.get_group(\"Exports\").sort(\"Trade Value (US$)\", ascending=False).head()"
   ]
  },
  {
   "cell_type": "markdown",
   "metadata": {},
   "source": [
    "So, Ireland is the most biggest importer of Palm Oil from the UK, in December."
   ]
  },
  {
   "cell_type": "markdown",
   "metadata": {},
   "source": [
    "What were they like compared to others in December though? We can group by Export and Period, and fetch 201412, and Import to check this:"
   ]
  },
  {
   "cell_type": "code",
   "execution_count": 86,
   "metadata": {
    "collapsed": false
   },
   "outputs": [
    {
     "data": {
      "text/html": [
       "<div>\n",
       "<table border=\"1\" class=\"dataframe\">\n",
       "  <thead>\n",
       "    <tr style=\"text-align: right;\">\n",
       "      <th></th>\n",
       "      <th>Year</th>\n",
       "      <th>Period</th>\n",
       "      <th>Trade Flow</th>\n",
       "      <th>Reporter</th>\n",
       "      <th>Partner</th>\n",
       "      <th>Commodity</th>\n",
       "      <th>Commodity Code</th>\n",
       "      <th>Trade Value (US$)</th>\n",
       "    </tr>\n",
       "  </thead>\n",
       "  <tbody>\n",
       "    <tr>\n",
       "      <th>436</th>\n",
       "      <td>2014</td>\n",
       "      <td>201412</td>\n",
       "      <td>Exports</td>\n",
       "      <td>United Kingdom</td>\n",
       "      <td>Ireland</td>\n",
       "      <td>Palm oil and its fractions, not chemically mod...</td>\n",
       "      <td>1511</td>\n",
       "      <td>2879933</td>\n",
       "    </tr>\n",
       "    <tr>\n",
       "      <th>443</th>\n",
       "      <td>2014</td>\n",
       "      <td>201412</td>\n",
       "      <td>Exports</td>\n",
       "      <td>United Kingdom</td>\n",
       "      <td>Netherlands</td>\n",
       "      <td>Palm oil and its fractions, not chemically mod...</td>\n",
       "      <td>1511</td>\n",
       "      <td>773427</td>\n",
       "    </tr>\n",
       "    <tr>\n",
       "      <th>432</th>\n",
       "      <td>2014</td>\n",
       "      <td>201412</td>\n",
       "      <td>Exports</td>\n",
       "      <td>United Kingdom</td>\n",
       "      <td>Germany</td>\n",
       "      <td>Palm oil and its fractions, not chemically mod...</td>\n",
       "      <td>1511</td>\n",
       "      <td>207161</td>\n",
       "    </tr>\n",
       "    <tr>\n",
       "      <th>430</th>\n",
       "      <td>2014</td>\n",
       "      <td>201412</td>\n",
       "      <td>Exports</td>\n",
       "      <td>United Kingdom</td>\n",
       "      <td>France</td>\n",
       "      <td>Palm oil and its fractions, not chemically mod...</td>\n",
       "      <td>1511</td>\n",
       "      <td>154971</td>\n",
       "    </tr>\n",
       "    <tr>\n",
       "      <th>441</th>\n",
       "      <td>2014</td>\n",
       "      <td>201412</td>\n",
       "      <td>Exports</td>\n",
       "      <td>United Kingdom</td>\n",
       "      <td>Malta</td>\n",
       "      <td>Palm oil and its fractions, not chemically mod...</td>\n",
       "      <td>1511</td>\n",
       "      <td>84898</td>\n",
       "    </tr>\n",
       "  </tbody>\n",
       "</table>\n",
       "</div>"
      ],
      "text/plain": [
       "     Year  Period Trade Flow        Reporter      Partner  \\\n",
       "436  2014  201412    Exports  United Kingdom      Ireland   \n",
       "443  2014  201412    Exports  United Kingdom  Netherlands   \n",
       "432  2014  201412    Exports  United Kingdom      Germany   \n",
       "430  2014  201412    Exports  United Kingdom       France   \n",
       "441  2014  201412    Exports  United Kingdom        Malta   \n",
       "\n",
       "                                             Commodity Commodity Code  \\\n",
       "436  Palm oil and its fractions, not chemically mod...           1511   \n",
       "443  Palm oil and its fractions, not chemically mod...           1511   \n",
       "432  Palm oil and its fractions, not chemically mod...           1511   \n",
       "430  Palm oil and its fractions, not chemically mod...           1511   \n",
       "441  Palm oil and its fractions, not chemically mod...           1511   \n",
       "\n",
       "     Trade Value (US$)  \n",
       "436            2879933  \n",
       "443             773427  \n",
       "432             207161  \n",
       "430             154971  \n",
       "441              84898  "
      ]
     },
     "execution_count": 86,
     "metadata": {},
     "output_type": "execute_result"
    }
   ],
   "source": [
    "tradeflows = palmOilCountries.groupby([\"Trade Flow\", \"Period\"])\n",
    "tradeflows.get_group((\"Exports\", 201412)).sort(\"Trade Value (US$)\", ascending=False).head()"
   ]
  },
  {
   "cell_type": "markdown",
   "metadata": {},
   "source": [
    "Ah, it's the Netherlands again.\n",
    "\n",
    "Weird, they were the biggest importer in November."
   ]
  },
  {
   "cell_type": "markdown",
   "metadata": {},
   "source": [
    "**Now go back to the Exercise 2 step in FutureLearn to discuss and mark it complete.**"
   ]
  },
  {
   "cell_type": "markdown",
   "metadata": {},
   "source": [
    "## Exercise 3: Experimenting with Split-Apply-Combine – Summary reports\n",
    "\n",
    "Having learned how to group data using the `groupby()` method, you will now start to put those groups to work."
   ]
  },
  {
   "cell_type": "markdown",
   "metadata": {},
   "source": [
    "### Aggregation operations – Generating *Summary* reports\n",
    "\n",
    "Aggegration operations can be invoked using the `aggregate()` method.\n",
    "\n",
    "To find the total value of imports traded for each commodity within the period, take the world dataframe, and sum the values over the trade value column within each grouping."
   ]
  },
  {
   "cell_type": "code",
   "execution_count": 110,
   "metadata": {
    "activity": false,
    "collapsed": false,
    "run_control": {
     "read_only": false
    }
   },
   "outputs": [
    {
     "data": {
      "text/plain": [
       "Commodity Code\n",
       "0401    222107770\n",
       "0402    341777173\n",
       "Name: Trade Value (US$), dtype: int64"
      ]
     },
     "execution_count": 110,
     "metadata": {},
     "output_type": "execute_result"
    }
   ],
   "source": [
    "milk_world_imports.groupby('Commodity Code')['Trade Value (US$)'].aggregate(sum)"
   ]
  },
  {
   "cell_type": "markdown",
   "metadata": {},
   "source": [
    "So that's 222 million dollars or so on the 0401 commodity, and 341 million dollars or so on 0402.\n",
    "\n",
    "If you total (sum) up all the individual country contributions, you should get similar amounts."
   ]
  },
  {
   "cell_type": "code",
   "execution_count": 111,
   "metadata": {
    "activity": false,
    "collapsed": false,
    "run_control": {
     "read_only": false
    }
   },
   "outputs": [
    {
     "data": {
      "text/plain": [
       "Commodity Code\n",
       "0401    222107771\n",
       "0402    341777171\n",
       "Name: Trade Value (US$), dtype: int64"
      ]
     },
     "execution_count": 111,
     "metadata": {},
     "output_type": "execute_result"
    }
   ],
   "source": [
    "milk_imports_grouped=milk_countries_imports.groupby('Commodity Code')\n",
    "milk_imports_grouped['Trade Value (US$)'].aggregate(sum)"
   ]
  },
  {
   "cell_type": "markdown",
   "metadata": {},
   "source": [
    "Not far off – there are perhaps a few rounding errors that would account for the odd couple of million that appear to be missing..."
   ]
  },
  {
   "cell_type": "markdown",
   "metadata": {},
   "source": [
    "###Finding top ranked elements within a group\n",
    "\n",
    "To find the leading import partners across all the milk products, group by partner, sum (total) the trade value within each group, and then sort the result in descending order before displaying the top few entries."
   ]
  },
  {
   "cell_type": "code",
   "execution_count": 112,
   "metadata": {
    "activity": false,
    "collapsed": false,
    "run_control": {
     "read_only": false
    }
   },
   "outputs": [
    {
     "data": {
      "text/html": [
       "<div>\n",
       "<table border=\"1\" class=\"dataframe\">\n",
       "  <thead>\n",
       "    <tr style=\"text-align: right;\">\n",
       "      <th></th>\n",
       "      <th>Trade Value (US$)</th>\n",
       "    </tr>\n",
       "    <tr>\n",
       "      <th>Partner</th>\n",
       "      <th></th>\n",
       "    </tr>\n",
       "  </thead>\n",
       "  <tbody>\n",
       "    <tr>\n",
       "      <th>Ireland</th>\n",
       "      <td>174315886</td>\n",
       "    </tr>\n",
       "    <tr>\n",
       "      <th>France</th>\n",
       "      <td>105008176</td>\n",
       "    </tr>\n",
       "    <tr>\n",
       "      <th>Germany</th>\n",
       "      <td>76612700</td>\n",
       "    </tr>\n",
       "    <tr>\n",
       "      <th>Netherlands</th>\n",
       "      <td>72209235</td>\n",
       "    </tr>\n",
       "    <tr>\n",
       "      <th>Belgium</th>\n",
       "      <td>58338745</td>\n",
       "    </tr>\n",
       "  </tbody>\n",
       "</table>\n",
       "</div>"
      ],
      "text/plain": [
       "             Trade Value (US$)\n",
       "Partner                       \n",
       "Ireland              174315886\n",
       "France               105008176\n",
       "Germany               76612700\n",
       "Netherlands           72209235\n",
       "Belgium               58338745"
      ]
     },
     "execution_count": 112,
     "metadata": {},
     "output_type": "execute_result"
    }
   ],
   "source": [
    "milk_countries_imports_totals=milk_countries_imports.groupby('Partner')[['Trade Value (US$)']].aggregate(sum)\n",
    "milk_countries_imports_totals.sort('Trade Value (US$)', ascending=False).head()"
   ]
  },
  {
   "cell_type": "markdown",
   "metadata": {},
   "source": [
    "### Generating simple charts\n",
    "\n",
    "One of the useful features of the `aggregate()` method is that it returns an object that can be plotted from directly, in this example a horizontal bar chart."
   ]
  },
  {
   "cell_type": "code",
   "execution_count": 113,
   "metadata": {
    "activity": false,
    "collapsed": false,
    "run_control": {
     "read_only": false
    }
   },
   "outputs": [
    {
     "data": {
      "text/plain": [
       "<matplotlib.axes._subplots.AxesSubplot at 0x10bcbb048>"
      ]
     },
     "execution_count": 113,
     "metadata": {},
     "output_type": "execute_result"
    },
    {
     "data": {
      "image/png": "[encoded data removed]",
      "text/plain": [
       "<matplotlib.figure.Figure at 0x10bcb55f8>"
      ]
     },
     "metadata": {},
     "output_type": "display_data"
    }
   ],
   "source": [
    "milk_imports_grouped['Trade Value (US$)'].aggregate(sum).plot(kind='barh')"
   ]
  },
  {
   "cell_type": "markdown",
   "metadata": {},
   "source": [
    "### Generating alternative groupings\n",
    "\n",
    "Reports can also be generated to show the total imports per month for each commodity: group on commodity, trade flow and period, and then sum the trade values contained within each group."
   ]
  },
  {
   "cell_type": "code",
   "execution_count": 108,
   "metadata": {
    "activity": false,
    "collapsed": false,
    "run_control": {
     "read_only": false
    }
   },
   "outputs": [
    {
     "data": {
      "text/plain": [
       "Commodity                                           Trade Flow  Period\n",
       "Milk and cream, concentrated or sweetened           Imports     201401    30423330\n",
       "                                                                201402    20614513\n",
       "                                                                201403    26335257\n",
       "                                                                201404    24770338\n",
       "                                                                201405    26409462\n",
       "                                                                201406    29081876\n",
       "                                                                201407    25668642\n",
       "                                                                201408    23360790\n",
       "                                                                201409    37418160\n",
       "                                                                201410    38012444\n",
       "                                                                201411    39465351\n",
       "                                                                201412    20217008\n",
       "Milk and cream, neither concentrated nor sweetened  Imports     201401    21950746\n",
       "                                                                201402    18685554\n",
       "                                                                201403    17984197\n",
       "                                                                201404    19440269\n",
       "                                                                201405    21665662\n",
       "                                                                201406    16022428\n",
       "                                                                201407    19128109\n",
       "                                                                201408    16934043\n",
       "                                                                201409    19284385\n",
       "                                                                201410    18353099\n",
       "                                                                201411    17617864\n",
       "                                                                201412    15041415\n",
       "Name: Trade Value (US$), dtype: int64"
      ]
     },
     "execution_count": 108,
     "metadata": {},
     "output_type": "execute_result"
    }
   ],
   "source": [
    "monthlies=milk_countries_imports.groupby(['Commodity','Trade Flow','Period'])['Trade Value (US$)'].aggregate(sum)\n",
    "monthlies"
   ]
  },
  {
   "cell_type": "markdown",
   "metadata": {},
   "source": [
    "The `groupby()` method *splits* the data into separate distinct groups of rows, and then the `aggregate()` method takes each group of rows from the results of the `groupby()` operation, *applies* the specified aggregation function, and then *combines* the results in the output. \n",
    "\n",
    "The aggregation function itself is applied to all columns of an appropriate type. In the example, the only numeric column that makes sense to aggregate over is the trade value column.\n",
    "\n",
    "As well as built in summary operations, such as finding the total (`sum`), or maximum or minimum value in a group (`max`, `min`), aggregating functions imported from other Python packages can also be used. As shown in the next example, the `numpy` package has a function `mean` that will calculate the mean (simple average) value for a set of values.\n",
    "\n",
    "### Generating several aggregation values at the same time\n",
    "To generate several aggregate reports in a single line of code, provide a list of several aggregating operations to the `aggregate()` method:"
   ]
  },
  {
   "cell_type": "code",
   "execution_count": null,
   "metadata": {
    "activity": false,
    "collapsed": false,
    "run_control": {
     "read_only": false
    }
   },
   "outputs": [],
   "source": [
    "from numpy import mean\n",
    "\n",
    "GROUPING_COMMFLOWPERIOD=['Commodity','Trade Flow','Period']\n",
    "milk_countries.groupby(GROUPING_COMMFLOWPERIOD)['Trade Value (US$)'].aggregate([sum, min, max, mean])"
   ]
  },
  {
   "cell_type": "markdown",
   "metadata": {},
   "source": [
    "By combining different grouping combinations and aggregate functions, you can quickly ask a range of questions over the data or generate a wide variety of charts from it.\n",
    "\n",
    "Sometimes, however,  it can be quite hard to see any 'outstanding' values in a complex pivot table. In such cases, a chart may help you see which values are significantly larger or smaller than the other values.\n",
    "\n",
    "For example, plot the maximum value by month across each code/period combination to see which month saw the maximum peak flow of imports from a single partner."
   ]
  },
  {
   "cell_type": "code",
   "execution_count": 109,
   "metadata": {
    "activity": false,
    "collapsed": false,
    "run_control": {
     "read_only": false
    }
   },
   "outputs": [
    {
     "data": {
      "text/plain": [
       "<matplotlib.axes._subplots.AxesSubplot at 0x10b9a5fd0>"
      ]
     },
     "execution_count": 109,
     "metadata": {},
     "output_type": "execute_result"
    },
    {
     "data": {
      "image/png": "[encoded data removed]",
      "text/plain": [
       "<matplotlib.figure.Figure at 0x10b9a9278>"
      ]
     },
     "metadata": {},
     "output_type": "display_data"
    }
   ],
   "source": [
    "milk_countries_imports.groupby(['Commodity Code','Period'])['Trade Value (US$)'].aggregate(max).plot(kind='barh')"
   ]
  },
  {
   "cell_type": "markdown",
   "metadata": {},
   "source": [
    "For the 0401 commodity, the largest single monthly trade flow in 2014 appears to have taken place in September (201409). For the 0402 commodity, the weakest month was December, 2014."
   ]
  },
  {
   "cell_type": "markdown",
   "metadata": {},
   "source": [
    "To chart the mean trade flows by month, simply aggregate on the *mean* rather than the `max`."
   ]
  },
  {
   "cell_type": "markdown",
   "metadata": {},
   "source": [
    "In some cases, you might want to sort the order of the bars in a bar chart by value. By default, the `sort()` operator sorts a series or dataframe 'in place'. That is, it sorts the dataframe and doesn't return anything. Use the `inplace=False` parameter to return the sorted values so that the plot function can work on them, or alternatively use the `order()` function.\n",
    "\n",
    "The following chart displays the total imports for the combined commodities by partner (including the *World* partner) for the top five partners: the `sort()` element sorts the values in descending order, passes them to the `head()` element, which selects the top five and passes those onto the plotting function."
   ]
  },
  {
   "cell_type": "code",
   "execution_count": 114,
   "metadata": {
    "activity": false,
    "collapsed": false,
    "run_control": {
     "read_only": false
    }
   },
   "outputs": [
    {
     "data": {
      "text/plain": [
       "<matplotlib.axes._subplots.AxesSubplot at 0x10be99668>"
      ]
     },
     "execution_count": 114,
     "metadata": {},
     "output_type": "execute_result"
    },
    {
     "data": {
      "image/png": "[encoded data removed]",
      "text/plain": [
       "<matplotlib.figure.Figure at 0x10bea4e80>"
      ]
     },
     "metadata": {},
     "output_type": "display_data"
    }
   ],
   "source": [
    "milk_bypartner_total=milk.groupby(['Partner'])['Trade Value (US$)'].aggregate(sum)\n",
    "milk_bypartner_total.sort('Trade Value (US$)',inplace=False,ascending=False).head(5).plot(kind='barh')\n",
    "#milk_bypartner_total.order('Trade Value (US$)',ascending=False).head(5).plot(kind='barh')"
   ]
  },
  {
   "cell_type": "markdown",
   "metadata": {},
   "source": [
    "### Tasks\n",
    "\n",
    "For the 0402 trade item, which months saw the greatest average (mean) activity? How does that compare with the maximum flows in each month? How does it compare with the total flow in each month?\n",
    "\n",
    "Download your own choice of monthly dataset over one or two years containing both import and export data. (To start with, you may find it convenient to split the data into two dataframes, one for exports and one for imports.)\n",
    "\n",
    "Using your own data:\n",
    "\n",
    "- find out which months saw the largest total value of imports, or exports? \n",
    "- assess, by eye, if there appears to be any seasonal trend in the behaviour of imports or exports?\n",
    "- plot a bar chart showing the top three importers or exporters of your selected trade item over the period you grabbed the data for, compared to the total world trade value.\n"
   ]
  },
  {
   "cell_type": "markdown",
   "metadata": {},
   "source": [
    "### Aggregation operations – Generating *Summary* reports"
   ]
  },
  {
   "cell_type": "markdown",
   "metadata": {},
   "source": [
    "We can check trade by grouping by period, then aggregrating it."
   ]
  },
  {
   "cell_type": "code",
   "execution_count": 99,
   "metadata": {
    "collapsed": false
   },
   "outputs": [
    {
     "data": {
      "text/plain": [
       "Year                  int64\n",
       "Period                int64\n",
       "Trade Flow           object\n",
       "Reporter             object\n",
       "Partner              object\n",
       "Commodity            object\n",
       "Commodity Code       object\n",
       "Trade Value (US$)     int64\n",
       "dtype: object"
      ]
     },
     "execution_count": 99,
     "metadata": {},
     "output_type": "execute_result"
    }
   ],
   "source": [
    "palmOilWorld.dtypes"
   ]
  },
  {
   "cell_type": "code",
   "execution_count": 104,
   "metadata": {
    "collapsed": false
   },
   "outputs": [
    {
     "data": {
      "text/html": [
       "<div>\n",
       "<table border=\"1\" class=\"dataframe\">\n",
       "  <thead>\n",
       "    <tr style=\"text-align: right;\">\n",
       "      <th></th>\n",
       "      <th>Year</th>\n",
       "      <th>Trade Value (US$)</th>\n",
       "    </tr>\n",
       "    <tr>\n",
       "      <th>Period</th>\n",
       "      <th></th>\n",
       "      <th></th>\n",
       "    </tr>\n",
       "  </thead>\n",
       "  <tbody>\n",
       "    <tr>\n",
       "      <th>201401</th>\n",
       "      <td>4028</td>\n",
       "      <td>33685544</td>\n",
       "    </tr>\n",
       "    <tr>\n",
       "      <th>201402</th>\n",
       "      <td>4028</td>\n",
       "      <td>32866754</td>\n",
       "    </tr>\n",
       "    <tr>\n",
       "      <th>201403</th>\n",
       "      <td>4028</td>\n",
       "      <td>40821245</td>\n",
       "    </tr>\n",
       "    <tr>\n",
       "      <th>201404</th>\n",
       "      <td>4028</td>\n",
       "      <td>34407653</td>\n",
       "    </tr>\n",
       "    <tr>\n",
       "      <th>201405</th>\n",
       "      <td>4028</td>\n",
       "      <td>31947843</td>\n",
       "    </tr>\n",
       "    <tr>\n",
       "      <th>201406</th>\n",
       "      <td>6042</td>\n",
       "      <td>29372805</td>\n",
       "    </tr>\n",
       "    <tr>\n",
       "      <th>201407</th>\n",
       "      <td>4028</td>\n",
       "      <td>61961959</td>\n",
       "    </tr>\n",
       "    <tr>\n",
       "      <th>201408</th>\n",
       "      <td>4028</td>\n",
       "      <td>16715263</td>\n",
       "    </tr>\n",
       "    <tr>\n",
       "      <th>201409</th>\n",
       "      <td>4028</td>\n",
       "      <td>38592011</td>\n",
       "    </tr>\n",
       "    <tr>\n",
       "      <th>201410</th>\n",
       "      <td>4028</td>\n",
       "      <td>46531595</td>\n",
       "    </tr>\n",
       "    <tr>\n",
       "      <th>201411</th>\n",
       "      <td>4028</td>\n",
       "      <td>15317954</td>\n",
       "    </tr>\n",
       "    <tr>\n",
       "      <th>201412</th>\n",
       "      <td>4028</td>\n",
       "      <td>34920215</td>\n",
       "    </tr>\n",
       "  </tbody>\n",
       "</table>\n",
       "</div>"
      ],
      "text/plain": [
       "        Year  Trade Value (US$)\n",
       "Period                         \n",
       "201401  4028           33685544\n",
       "201402  4028           32866754\n",
       "201403  4028           40821245\n",
       "201404  4028           34407653\n",
       "201405  4028           31947843\n",
       "201406  6042           29372805\n",
       "201407  4028           61961959\n",
       "201408  4028           16715263\n",
       "201409  4028           38592011\n",
       "201410  4028           46531595\n",
       "201411  4028           15317954\n",
       "201412  4028           34920215"
      ]
     },
     "execution_count": 104,
     "metadata": {},
     "output_type": "execute_result"
    }
   ],
   "source": [
    "palmOilWorld.groupby(\"Period\").aggregate(sum)\n"
   ]
  },
  {
   "cell_type": "markdown",
   "metadata": {},
   "source": [
    "We can lose the nonsensical year value by making a new dataframe we pass into the groupby:"
   ]
  },
  {
   "cell_type": "code",
   "execution_count": 105,
   "metadata": {
    "collapsed": false
   },
   "outputs": [
    {
     "data": {
      "text/html": [
       "<div>\n",
       "<table border=\"1\" class=\"dataframe\">\n",
       "  <thead>\n",
       "    <tr style=\"text-align: right;\">\n",
       "      <th></th>\n",
       "      <th>Trade Value (US$)</th>\n",
       "    </tr>\n",
       "    <tr>\n",
       "      <th>Period</th>\n",
       "      <th></th>\n",
       "    </tr>\n",
       "  </thead>\n",
       "  <tbody>\n",
       "    <tr>\n",
       "      <th>201401</th>\n",
       "      <td>33685544</td>\n",
       "    </tr>\n",
       "    <tr>\n",
       "      <th>201402</th>\n",
       "      <td>32866754</td>\n",
       "    </tr>\n",
       "    <tr>\n",
       "      <th>201403</th>\n",
       "      <td>40821245</td>\n",
       "    </tr>\n",
       "    <tr>\n",
       "      <th>201404</th>\n",
       "      <td>34407653</td>\n",
       "    </tr>\n",
       "    <tr>\n",
       "      <th>201405</th>\n",
       "      <td>31947843</td>\n",
       "    </tr>\n",
       "    <tr>\n",
       "      <th>201406</th>\n",
       "      <td>29372805</td>\n",
       "    </tr>\n",
       "    <tr>\n",
       "      <th>201407</th>\n",
       "      <td>61961959</td>\n",
       "    </tr>\n",
       "    <tr>\n",
       "      <th>201408</th>\n",
       "      <td>16715263</td>\n",
       "    </tr>\n",
       "    <tr>\n",
       "      <th>201409</th>\n",
       "      <td>38592011</td>\n",
       "    </tr>\n",
       "    <tr>\n",
       "      <th>201410</th>\n",
       "      <td>46531595</td>\n",
       "    </tr>\n",
       "    <tr>\n",
       "      <th>201411</th>\n",
       "      <td>15317954</td>\n",
       "    </tr>\n",
       "    <tr>\n",
       "      <th>201412</th>\n",
       "      <td>34920215</td>\n",
       "    </tr>\n",
       "  </tbody>\n",
       "</table>\n",
       "</div>"
      ],
      "text/plain": [
       "        Trade Value (US$)\n",
       "Period                   \n",
       "201401           33685544\n",
       "201402           32866754\n",
       "201403           40821245\n",
       "201404           34407653\n",
       "201405           31947843\n",
       "201406           29372805\n",
       "201407           61961959\n",
       "201408           16715263\n",
       "201409           38592011\n",
       "201410           46531595\n",
       "201411           15317954\n",
       "201412           34920215"
      ]
     },
     "execution_count": 105,
     "metadata": {},
     "output_type": "execute_result"
    }
   ],
   "source": [
    "palmOilWorldSales = palmOilWorld[[\"Period\", \"Trade Value (US$)\"]]\n",
    "palmOilWorldSales.groupby(\"Period\").aggregate(sum)"
   ]
  },
  {
   "cell_type": "markdown",
   "metadata": {},
   "source": [
    "And we can make this easier to read, by plotting"
   ]
  },
  {
   "cell_type": "code",
   "execution_count": 107,
   "metadata": {
    "collapsed": false
   },
   "outputs": [
    {
     "data": {
      "text/plain": [
       "<matplotlib.axes._subplots.AxesSubplot at 0x10b8c0ef0>"
      ]
     },
     "execution_count": 107,
     "metadata": {},
     "output_type": "execute_result"
    },
    {
     "data": {
      "image/png": "[encoded data removed]",
      "text/plain": [
       "<matplotlib.figure.Figure at 0x10b7b6b38>"
      ]
     },
     "metadata": {},
     "output_type": "display_data"
    }
   ],
   "source": [
    "palmOilWorldSales.groupby(\"Period\").aggregate(sum).plot(kind='bar', figsize=(10,4))"
   ]
  },
  {
   "cell_type": "markdown",
   "metadata": {},
   "source": [
    "As you can see, there's a big spike in summer."
   ]
  },
  {
   "cell_type": "markdown",
   "metadata": {},
   "source": [
    "###Finding top ranked elements within a group\n",
    "\n",
    "To find the leading import partners of palm oil, group by partner, sum (total) the trade value within each group, and then sort the result in descending order before displaying the top few entries."
   ]
  },
  {
   "cell_type": "code",
   "execution_count": 116,
   "metadata": {
    "collapsed": false
   },
   "outputs": [
    {
     "data": {
      "text/html": [
       "<div>\n",
       "<table border=\"1\" class=\"dataframe\">\n",
       "  <thead>\n",
       "    <tr style=\"text-align: right;\">\n",
       "      <th></th>\n",
       "      <th>Year</th>\n",
       "      <th>Period</th>\n",
       "      <th>Trade Flow</th>\n",
       "      <th>Reporter</th>\n",
       "      <th>Partner</th>\n",
       "      <th>Commodity</th>\n",
       "      <th>Commodity Code</th>\n",
       "      <th>Trade Value (US$)</th>\n",
       "    </tr>\n",
       "  </thead>\n",
       "  <tbody>\n",
       "    <tr>\n",
       "      <th>5</th>\n",
       "      <td>2014</td>\n",
       "      <td>201401</td>\n",
       "      <td>Imports</td>\n",
       "      <td>United Kingdom</td>\n",
       "      <td>Brazil</td>\n",
       "      <td>Palm oil and its fractions, not chemically mod...</td>\n",
       "      <td>1511</td>\n",
       "      <td>1663182</td>\n",
       "    </tr>\n",
       "    <tr>\n",
       "      <th>7</th>\n",
       "      <td>2014</td>\n",
       "      <td>201401</td>\n",
       "      <td>Imports</td>\n",
       "      <td>United Kingdom</td>\n",
       "      <td>Solomon Isds</td>\n",
       "      <td>Palm oil and its fractions, not chemically mod...</td>\n",
       "      <td>1511</td>\n",
       "      <td>2004587</td>\n",
       "    </tr>\n",
       "    <tr>\n",
       "      <th>11</th>\n",
       "      <td>2014</td>\n",
       "      <td>201401</td>\n",
       "      <td>Imports</td>\n",
       "      <td>United Kingdom</td>\n",
       "      <td>France</td>\n",
       "      <td>Palm oil and its fractions, not chemically mod...</td>\n",
       "      <td>1511</td>\n",
       "      <td>43918</td>\n",
       "    </tr>\n",
       "    <tr>\n",
       "      <th>13</th>\n",
       "      <td>2014</td>\n",
       "      <td>201401</td>\n",
       "      <td>Imports</td>\n",
       "      <td>United Kingdom</td>\n",
       "      <td>Germany</td>\n",
       "      <td>Palm oil and its fractions, not chemically mod...</td>\n",
       "      <td>1511</td>\n",
       "      <td>301684</td>\n",
       "    </tr>\n",
       "    <tr>\n",
       "      <th>15</th>\n",
       "      <td>2014</td>\n",
       "      <td>201401</td>\n",
       "      <td>Imports</td>\n",
       "      <td>United Kingdom</td>\n",
       "      <td>Ghana</td>\n",
       "      <td>Palm oil and its fractions, not chemically mod...</td>\n",
       "      <td>1511</td>\n",
       "      <td>58990</td>\n",
       "    </tr>\n",
       "  </tbody>\n",
       "</table>\n",
       "</div>"
      ],
      "text/plain": [
       "    Year  Period Trade Flow        Reporter       Partner  \\\n",
       "5   2014  201401    Imports  United Kingdom        Brazil   \n",
       "7   2014  201401    Imports  United Kingdom  Solomon Isds   \n",
       "11  2014  201401    Imports  United Kingdom        France   \n",
       "13  2014  201401    Imports  United Kingdom       Germany   \n",
       "15  2014  201401    Imports  United Kingdom         Ghana   \n",
       "\n",
       "                                            Commodity Commodity Code  \\\n",
       "5   Palm oil and its fractions, not chemically mod...           1511   \n",
       "7   Palm oil and its fractions, not chemically mod...           1511   \n",
       "11  Palm oil and its fractions, not chemically mod...           1511   \n",
       "13  Palm oil and its fractions, not chemically mod...           1511   \n",
       "15  Palm oil and its fractions, not chemically mod...           1511   \n",
       "\n",
       "    Trade Value (US$)  \n",
       "5             1663182  \n",
       "7             2004587  \n",
       "11              43918  \n",
       "13             301684  \n",
       "15              58990  "
      ]
     },
     "execution_count": 116,
     "metadata": {},
     "output_type": "execute_result"
    }
   ],
   "source": [
    "palmOilCountriesImports.head()"
   ]
  },
  {
   "cell_type": "code",
   "execution_count": 129,
   "metadata": {
    "collapsed": false
   },
   "outputs": [
    {
     "data": {
      "text/plain": [
       "<matplotlib.axes._subplots.AxesSubplot at 0x10c53ef98>"
      ]
     },
     "execution_count": 129,
     "metadata": {},
     "output_type": "execute_result"
    },
    {
     "data": {
      "image/png": "[encoded data removed]",
      "text/plain": [
       "<matplotlib.figure.Figure at 0x10c4c6c88>"
      ]
     },
     "metadata": {},
     "output_type": "display_data"
    }
   ],
   "source": [
    "# acpoi => annual country palm oil imports \n",
    "acpoi = palmOilCountriesImports[[\"Trade Value (US$)\", \"Partner\"]]\n",
    "acpoi.groupby(\"Partner\").aggregate(sum).plot(kind='bar', figsize=(10,5))"
   ]
  },
  {
   "cell_type": "markdown",
   "metadata": {},
   "source": [
    "Wow, PNG is so much higher than everything else. We might need to use a log scale here."
   ]
  },
  {
   "cell_type": "code",
   "execution_count": 135,
   "metadata": {
    "collapsed": false
   },
   "outputs": [
    {
     "data": {
      "text/plain": [
       "<matplotlib.axes._subplots.AxesSubplot at 0x10ced32e8>"
      ]
     },
     "execution_count": 135,
     "metadata": {},
     "output_type": "execute_result"
    },
    {
     "data": {
      "image/png": "[encoded data removed]",
      "text/plain": [
       "<matplotlib.figure.Figure at 0x10d606a90>"
      ]
     },
     "metadata": {},
     "output_type": "display_data"
    }
   ],
   "source": [
    "acpoi.groupby(\"Partner\").aggregate(sum).plot(kind='bar', figsize=(15,5), logx=True)"
   ]
  },
  {
   "cell_type": "markdown",
   "metadata": {},
   "source": [
    "### Nope. That didn't help at all"
   ]
  },
  {
   "cell_type": "markdown",
   "metadata": {},
   "source": [
    "Also, splitting this across two lines gives me weird results."
   ]
  },
  {
   "cell_type": "code",
   "execution_count": null,
   "metadata": {
    "collapsed": true
   },
   "outputs": [],
   "source": [
    "grapho = acpoi.groupby(\"Partner\").aggregate(sum)"
   ]
  },
  {
   "cell_type": "code",
   "execution_count": 131,
   "metadata": {
    "collapsed": false
   },
   "outputs": [
    {
     "data": {
      "text/plain": [
       "<matplotlib.axes._subplots.AxesSubplot at 0x10cd00f60>"
      ]
     },
     "execution_count": 131,
     "metadata": {},
     "output_type": "execute_result"
    },
    {
     "data": {
      "image/png": "[encoded data removed]",
      "text/plain": [
       "<matplotlib.figure.Figure at 0x10cd085c0>"
      ]
     },
     "metadata": {},
     "output_type": "display_data"
    }
   ],
   "source": [
    "grapho.plot(logx=True, kind='bar', figsize=(15,5))"
   ]
  },
  {
   "cell_type": "markdown",
   "metadata": {},
   "source": [
    "Nope. That didn't help. What did I do wrong? Meh. Not bothered. However..."
   ]
  },
  {
   "cell_type": "code",
   "execution_count": 166,
   "metadata": {
    "collapsed": false
   },
   "outputs": [],
   "source": [
    "def top3(g):\n",
    "    \"\"\" \n",
    "    Returns the top 3 trades in palm oil for each month.\n",
    "    \"\"\"\n",
    "    return g.sort(\"Trade Value (US$)\", ascending=False).head(2)\n",
    "    \n",
    "# not palmOilWorldSales.groupby(\"Period\").aggregate(sum)"
   ]
  },
  {
   "cell_type": "markdown",
   "metadata": {},
   "source": [
    "Whoops! Didn't filter the years. I'm not sure how to do this, actually. I might need to come back in a bit."
   ]
  },
  {
   "cell_type": "code",
   "execution_count": 153,
   "metadata": {
    "collapsed": false
   },
   "outputs": [
    {
     "data": {
      "text/html": [
       "<div>\n",
       "<table border=\"1\" class=\"dataframe\">\n",
       "  <thead>\n",
       "    <tr style=\"text-align: right;\">\n",
       "      <th></th>\n",
       "      <th></th>\n",
       "      <th>Period</th>\n",
       "      <th>Trade Value (US$)</th>\n",
       "    </tr>\n",
       "    <tr>\n",
       "      <th>Period</th>\n",
       "      <th></th>\n",
       "      <th></th>\n",
       "      <th></th>\n",
       "    </tr>\n",
       "  </thead>\n",
       "  <tbody>\n",
       "    <tr>\n",
       "      <th rowspan=\"2\" valign=\"top\">201401</th>\n",
       "      <th>0</th>\n",
       "      <td>201401</td>\n",
       "      <td>30453298</td>\n",
       "    </tr>\n",
       "    <tr>\n",
       "      <th>1</th>\n",
       "      <td>201401</td>\n",
       "      <td>3232246</td>\n",
       "    </tr>\n",
       "    <tr>\n",
       "      <th rowspan=\"2\" valign=\"top\">201402</th>\n",
       "      <th>37</th>\n",
       "      <td>201402</td>\n",
       "      <td>29950202</td>\n",
       "    </tr>\n",
       "    <tr>\n",
       "      <th>38</th>\n",
       "      <td>201402</td>\n",
       "      <td>2916552</td>\n",
       "    </tr>\n",
       "    <tr>\n",
       "      <th rowspan=\"2\" valign=\"top\">201403</th>\n",
       "      <th>73</th>\n",
       "      <td>201403</td>\n",
       "      <td>37723949</td>\n",
       "    </tr>\n",
       "    <tr>\n",
       "      <th>74</th>\n",
       "      <td>201403</td>\n",
       "      <td>3097296</td>\n",
       "    </tr>\n",
       "    <tr>\n",
       "      <th rowspan=\"2\" valign=\"top\">201404</th>\n",
       "      <th>113</th>\n",
       "      <td>201404</td>\n",
       "      <td>30888330</td>\n",
       "    </tr>\n",
       "    <tr>\n",
       "      <th>114</th>\n",
       "      <td>201404</td>\n",
       "      <td>3519323</td>\n",
       "    </tr>\n",
       "    <tr>\n",
       "      <th rowspan=\"2\" valign=\"top\">201405</th>\n",
       "      <th>149</th>\n",
       "      <td>201405</td>\n",
       "      <td>28891074</td>\n",
       "    </tr>\n",
       "    <tr>\n",
       "      <th>150</th>\n",
       "      <td>201405</td>\n",
       "      <td>3056769</td>\n",
       "    </tr>\n",
       "    <tr>\n",
       "      <th rowspan=\"2\" valign=\"top\">201406</th>\n",
       "      <th>188</th>\n",
       "      <td>201406</td>\n",
       "      <td>25941229</td>\n",
       "    </tr>\n",
       "    <tr>\n",
       "      <th>189</th>\n",
       "      <td>201406</td>\n",
       "      <td>3429534</td>\n",
       "    </tr>\n",
       "    <tr>\n",
       "      <th rowspan=\"2\" valign=\"top\">201407</th>\n",
       "      <th>231</th>\n",
       "      <td>201407</td>\n",
       "      <td>60149143</td>\n",
       "    </tr>\n",
       "    <tr>\n",
       "      <th>232</th>\n",
       "      <td>201407</td>\n",
       "      <td>1812816</td>\n",
       "    </tr>\n",
       "    <tr>\n",
       "      <th rowspan=\"2\" valign=\"top\">201408</th>\n",
       "      <th>268</th>\n",
       "      <td>201408</td>\n",
       "      <td>14706640</td>\n",
       "    </tr>\n",
       "    <tr>\n",
       "      <th>269</th>\n",
       "      <td>201408</td>\n",
       "      <td>2008623</td>\n",
       "    </tr>\n",
       "    <tr>\n",
       "      <th rowspan=\"2\" valign=\"top\">201409</th>\n",
       "      <th>306</th>\n",
       "      <td>201409</td>\n",
       "      <td>35478934</td>\n",
       "    </tr>\n",
       "    <tr>\n",
       "      <th>307</th>\n",
       "      <td>201409</td>\n",
       "      <td>3113077</td>\n",
       "    </tr>\n",
       "    <tr>\n",
       "      <th rowspan=\"2\" valign=\"top\">201410</th>\n",
       "      <th>342</th>\n",
       "      <td>201410</td>\n",
       "      <td>43713838</td>\n",
       "    </tr>\n",
       "    <tr>\n",
       "      <th>343</th>\n",
       "      <td>201410</td>\n",
       "      <td>2817757</td>\n",
       "    </tr>\n",
       "    <tr>\n",
       "      <th rowspan=\"2\" valign=\"top\">201411</th>\n",
       "      <th>380</th>\n",
       "      <td>201411</td>\n",
       "      <td>12451432</td>\n",
       "    </tr>\n",
       "    <tr>\n",
       "      <th>381</th>\n",
       "      <td>201411</td>\n",
       "      <td>2866522</td>\n",
       "    </tr>\n",
       "    <tr>\n",
       "      <th rowspan=\"2\" valign=\"top\">201412</th>\n",
       "      <th>419</th>\n",
       "      <td>201412</td>\n",
       "      <td>30568455</td>\n",
       "    </tr>\n",
       "    <tr>\n",
       "      <th>420</th>\n",
       "      <td>201412</td>\n",
       "      <td>4351760</td>\n",
       "    </tr>\n",
       "  </tbody>\n",
       "</table>\n",
       "</div>"
      ],
      "text/plain": [
       "            Period  Trade Value (US$)\n",
       "Period                               \n",
       "201401 0    201401           30453298\n",
       "       1    201401            3232246\n",
       "201402 37   201402           29950202\n",
       "       38   201402            2916552\n",
       "201403 73   201403           37723949\n",
       "       74   201403            3097296\n",
       "201404 113  201404           30888330\n",
       "       114  201404            3519323\n",
       "201405 149  201405           28891074\n",
       "       150  201405            3056769\n",
       "201406 188  201406           25941229\n",
       "       189  201406            3429534\n",
       "201407 231  201407           60149143\n",
       "       232  201407            1812816\n",
       "201408 268  201408           14706640\n",
       "       269  201408            2008623\n",
       "201409 306  201409           35478934\n",
       "       307  201409            3113077\n",
       "201410 342  201410           43713838\n",
       "       343  201410            2817757\n",
       "201411 380  201411           12451432\n",
       "       381  201411            2866522\n",
       "201412 419  201412           30568455\n",
       "       420  201412            4351760"
      ]
     },
     "execution_count": 153,
     "metadata": {},
     "output_type": "execute_result"
    }
   ],
   "source": [
    "palmOilWorldSales.groupby(\"Period\").apply(top3)"
   ]
  },
  {
   "cell_type": "markdown",
   "metadata": {},
   "source": [
    "This isn't quite what we need. Maybe we need the index again."
   ]
  },
  {
   "cell_type": "code",
   "execution_count": 154,
   "metadata": {
    "collapsed": false
   },
   "outputs": [
    {
     "data": {
      "text/plain": [
       "Int64Index([  0,   1,  37,  38,  73,  74, 113, 114, 149, 150, 188, 189, 190,\n",
       "            231, 232, 268, 269, 306, 307, 342, 343, 380, 381, 419, 420],\n",
       "           dtype='int64')"
      ]
     },
     "execution_count": 154,
     "metadata": {},
     "output_type": "execute_result"
    }
   ],
   "source": [
    "palmOilWorldSales.index"
   ]
  },
  {
   "cell_type": "code",
   "execution_count": 156,
   "metadata": {
    "collapsed": false
   },
   "outputs": [
    {
     "data": {
      "text/plain": [
       "<bound method DataFrame.keys of      Period  Trade Value (US$)\n",
       "0    201401           30453298\n",
       "1    201401            3232246\n",
       "37   201402           29950202\n",
       "38   201402            2916552\n",
       "73   201403           37723949\n",
       "74   201403            3097296\n",
       "113  201404           30888330\n",
       "114  201404            3519323\n",
       "149  201405           28891074\n",
       "150  201405            3056769\n",
       "188  201406           25941229\n",
       "189  201406            3429534\n",
       "190  201406               2042\n",
       "231  201407           60149143\n",
       "232  201407            1812816\n",
       "268  201408           14706640\n",
       "269  201408            2008623\n",
       "306  201409           35478934\n",
       "307  201409            3113077\n",
       "342  201410           43713838\n",
       "343  201410            2817757\n",
       "380  201411           12451432\n",
       "381  201411            2866522\n",
       "419  201412           30568455\n",
       "420  201412            4351760>"
      ]
     },
     "execution_count": 156,
     "metadata": {},
     "output_type": "execute_result"
    }
   ],
   "source": [
    "palmOilWorldSales.keys"
   ]
  },
  {
   "cell_type": "markdown",
   "metadata": {},
   "source": [
    "ah, we have no partner column to index on. Lets' try again, sarting with `palmOilWorld`"
   ]
  },
  {
   "cell_type": "code",
   "execution_count": 163,
   "metadata": {
    "collapsed": false
   },
   "outputs": [],
   "source": [
    "palmOilWorldSales = palmOilWorld[[\"Period\", \"Trade Value (US$)\"]]\n",
    "palmOilWorldSalesCountry = palmOilWorld[[\"Period\", \"Trade Flow\",\"Partner\", \"Trade Value (US$)\"]]"
   ]
  },
  {
   "cell_type": "markdown",
   "metadata": {},
   "source": [
    "Now, with the missing partner column, we should be able to index by the partner, then spit out our report"
   ]
  },
  {
   "cell_type": "code",
   "execution_count": 178,
   "metadata": {
    "collapsed": false
   },
   "outputs": [
    {
     "data": {
      "text/html": [
       "<div>\n",
       "<table border=\"1\" class=\"dataframe\">\n",
       "  <thead>\n",
       "    <tr style=\"text-align: right;\">\n",
       "      <th></th>\n",
       "      <th></th>\n",
       "      <th>Period</th>\n",
       "      <th>Trade Flow</th>\n",
       "      <th>Partner</th>\n",
       "      <th>Trade Value (US$)</th>\n",
       "    </tr>\n",
       "    <tr>\n",
       "      <th>Period</th>\n",
       "      <th>Trade Flow</th>\n",
       "      <th></th>\n",
       "      <th></th>\n",
       "      <th></th>\n",
       "      <th></th>\n",
       "    </tr>\n",
       "  </thead>\n",
       "  <tbody>\n",
       "    <tr>\n",
       "      <th rowspan=\"2\" valign=\"top\">201401</th>\n",
       "      <th>Imports</th>\n",
       "      <td>201401</td>\n",
       "      <td>Imports</td>\n",
       "      <td>World</td>\n",
       "      <td>30453298</td>\n",
       "    </tr>\n",
       "    <tr>\n",
       "      <th>Exports</th>\n",
       "      <td>201401</td>\n",
       "      <td>Exports</td>\n",
       "      <td>World</td>\n",
       "      <td>3232246</td>\n",
       "    </tr>\n",
       "    <tr>\n",
       "      <th rowspan=\"2\" valign=\"top\">201402</th>\n",
       "      <th>Imports</th>\n",
       "      <td>201402</td>\n",
       "      <td>Imports</td>\n",
       "      <td>World</td>\n",
       "      <td>29950202</td>\n",
       "    </tr>\n",
       "    <tr>\n",
       "      <th>Exports</th>\n",
       "      <td>201402</td>\n",
       "      <td>Exports</td>\n",
       "      <td>World</td>\n",
       "      <td>2916552</td>\n",
       "    </tr>\n",
       "    <tr>\n",
       "      <th rowspan=\"2\" valign=\"top\">201403</th>\n",
       "      <th>Imports</th>\n",
       "      <td>201403</td>\n",
       "      <td>Imports</td>\n",
       "      <td>World</td>\n",
       "      <td>37723949</td>\n",
       "    </tr>\n",
       "    <tr>\n",
       "      <th>Exports</th>\n",
       "      <td>201403</td>\n",
       "      <td>Exports</td>\n",
       "      <td>World</td>\n",
       "      <td>3097296</td>\n",
       "    </tr>\n",
       "    <tr>\n",
       "      <th rowspan=\"2\" valign=\"top\">201404</th>\n",
       "      <th>Imports</th>\n",
       "      <td>201404</td>\n",
       "      <td>Imports</td>\n",
       "      <td>World</td>\n",
       "      <td>30888330</td>\n",
       "    </tr>\n",
       "    <tr>\n",
       "      <th>Exports</th>\n",
       "      <td>201404</td>\n",
       "      <td>Exports</td>\n",
       "      <td>World</td>\n",
       "      <td>3519323</td>\n",
       "    </tr>\n",
       "    <tr>\n",
       "      <th rowspan=\"2\" valign=\"top\">201405</th>\n",
       "      <th>Imports</th>\n",
       "      <td>201405</td>\n",
       "      <td>Imports</td>\n",
       "      <td>World</td>\n",
       "      <td>28891074</td>\n",
       "    </tr>\n",
       "    <tr>\n",
       "      <th>Exports</th>\n",
       "      <td>201405</td>\n",
       "      <td>Exports</td>\n",
       "      <td>World</td>\n",
       "      <td>3056769</td>\n",
       "    </tr>\n",
       "    <tr>\n",
       "      <th rowspan=\"2\" valign=\"top\">201406</th>\n",
       "      <th>Imports</th>\n",
       "      <td>201406</td>\n",
       "      <td>Imports</td>\n",
       "      <td>World</td>\n",
       "      <td>25941229</td>\n",
       "    </tr>\n",
       "    <tr>\n",
       "      <th>Exports</th>\n",
       "      <td>201406</td>\n",
       "      <td>Exports</td>\n",
       "      <td>World</td>\n",
       "      <td>3429534</td>\n",
       "    </tr>\n",
       "    <tr>\n",
       "      <th rowspan=\"2\" valign=\"top\">201407</th>\n",
       "      <th>Imports</th>\n",
       "      <td>201407</td>\n",
       "      <td>Imports</td>\n",
       "      <td>World</td>\n",
       "      <td>60149143</td>\n",
       "    </tr>\n",
       "    <tr>\n",
       "      <th>Exports</th>\n",
       "      <td>201407</td>\n",
       "      <td>Exports</td>\n",
       "      <td>World</td>\n",
       "      <td>1812816</td>\n",
       "    </tr>\n",
       "    <tr>\n",
       "      <th rowspan=\"2\" valign=\"top\">201408</th>\n",
       "      <th>Imports</th>\n",
       "      <td>201408</td>\n",
       "      <td>Imports</td>\n",
       "      <td>World</td>\n",
       "      <td>14706640</td>\n",
       "    </tr>\n",
       "    <tr>\n",
       "      <th>Exports</th>\n",
       "      <td>201408</td>\n",
       "      <td>Exports</td>\n",
       "      <td>World</td>\n",
       "      <td>2008623</td>\n",
       "    </tr>\n",
       "    <tr>\n",
       "      <th rowspan=\"2\" valign=\"top\">201409</th>\n",
       "      <th>Imports</th>\n",
       "      <td>201409</td>\n",
       "      <td>Imports</td>\n",
       "      <td>World</td>\n",
       "      <td>35478934</td>\n",
       "    </tr>\n",
       "    <tr>\n",
       "      <th>Exports</th>\n",
       "      <td>201409</td>\n",
       "      <td>Exports</td>\n",
       "      <td>World</td>\n",
       "      <td>3113077</td>\n",
       "    </tr>\n",
       "    <tr>\n",
       "      <th rowspan=\"2\" valign=\"top\">201410</th>\n",
       "      <th>Imports</th>\n",
       "      <td>201410</td>\n",
       "      <td>Imports</td>\n",
       "      <td>World</td>\n",
       "      <td>43713838</td>\n",
       "    </tr>\n",
       "    <tr>\n",
       "      <th>Exports</th>\n",
       "      <td>201410</td>\n",
       "      <td>Exports</td>\n",
       "      <td>World</td>\n",
       "      <td>2817757</td>\n",
       "    </tr>\n",
       "    <tr>\n",
       "      <th rowspan=\"2\" valign=\"top\">201411</th>\n",
       "      <th>Imports</th>\n",
       "      <td>201411</td>\n",
       "      <td>Imports</td>\n",
       "      <td>World</td>\n",
       "      <td>12451432</td>\n",
       "    </tr>\n",
       "    <tr>\n",
       "      <th>Exports</th>\n",
       "      <td>201411</td>\n",
       "      <td>Exports</td>\n",
       "      <td>World</td>\n",
       "      <td>2866522</td>\n",
       "    </tr>\n",
       "    <tr>\n",
       "      <th rowspan=\"2\" valign=\"top\">201412</th>\n",
       "      <th>Imports</th>\n",
       "      <td>201412</td>\n",
       "      <td>Imports</td>\n",
       "      <td>World</td>\n",
       "      <td>30568455</td>\n",
       "    </tr>\n",
       "    <tr>\n",
       "      <th>Exports</th>\n",
       "      <td>201412</td>\n",
       "      <td>Exports</td>\n",
       "      <td>World</td>\n",
       "      <td>4351760</td>\n",
       "    </tr>\n",
       "  </tbody>\n",
       "</table>\n",
       "</div>"
      ],
      "text/plain": [
       "                   Period Trade Flow Partner  Trade Value (US$)\n",
       "Period Trade Flow                                              \n",
       "201401 Imports     201401    Imports   World           30453298\n",
       "       Exports     201401    Exports   World            3232246\n",
       "201402 Imports     201402    Imports   World           29950202\n",
       "       Exports     201402    Exports   World            2916552\n",
       "201403 Imports     201403    Imports   World           37723949\n",
       "       Exports     201403    Exports   World            3097296\n",
       "201404 Imports     201404    Imports   World           30888330\n",
       "       Exports     201404    Exports   World            3519323\n",
       "201405 Imports     201405    Imports   World           28891074\n",
       "       Exports     201405    Exports   World            3056769\n",
       "201406 Imports     201406    Imports   World           25941229\n",
       "       Exports     201406    Exports   World            3429534\n",
       "201407 Imports     201407    Imports   World           60149143\n",
       "       Exports     201407    Exports   World            1812816\n",
       "201408 Imports     201408    Imports   World           14706640\n",
       "       Exports     201408    Exports   World            2008623\n",
       "201409 Imports     201409    Imports   World           35478934\n",
       "       Exports     201409    Exports   World            3113077\n",
       "201410 Imports     201410    Imports   World           43713838\n",
       "       Exports     201410    Exports   World            2817757\n",
       "201411 Imports     201411    Imports   World           12451432\n",
       "       Exports     201411    Exports   World            2866522\n",
       "201412 Imports     201412    Imports   World           30568455\n",
       "       Exports     201412    Exports   World            4351760"
      ]
     },
     "execution_count": 178,
     "metadata": {},
     "output_type": "execute_result"
    }
   ],
   "source": [
    "\n",
    "palmOilWorldSalesCountry.index = palmOilWorldSalesCountry[\"Trade Flow\"]\n",
    "palmOilWorldSalesCountry.groupby(\"Period\").apply(top3)"
   ]
  },
  {
   "cell_type": "code",
   "execution_count": 181,
   "metadata": {
    "collapsed": false
   },
   "outputs": [
    {
     "data": {
      "text/html": [
       "<div>\n",
       "<table border=\"1\" class=\"dataframe\">\n",
       "  <thead>\n",
       "    <tr style=\"text-align: right;\">\n",
       "      <th></th>\n",
       "      <th></th>\n",
       "      <th></th>\n",
       "      <th>Period</th>\n",
       "      <th>Trade Flow</th>\n",
       "      <th>Partner</th>\n",
       "      <th>Trade Value (US$)</th>\n",
       "    </tr>\n",
       "    <tr>\n",
       "      <th>Period</th>\n",
       "      <th>Trade Flow</th>\n",
       "      <th>Trade Flow</th>\n",
       "      <th></th>\n",
       "      <th></th>\n",
       "      <th></th>\n",
       "      <th></th>\n",
       "    </tr>\n",
       "  </thead>\n",
       "  <tbody>\n",
       "    <tr>\n",
       "      <th rowspan=\"2\" valign=\"top\">201401</th>\n",
       "      <th>Exports</th>\n",
       "      <th>Exports</th>\n",
       "      <td>201401</td>\n",
       "      <td>Exports</td>\n",
       "      <td>World</td>\n",
       "      <td>3232246</td>\n",
       "    </tr>\n",
       "    <tr>\n",
       "      <th>Imports</th>\n",
       "      <th>Imports</th>\n",
       "      <td>201401</td>\n",
       "      <td>Imports</td>\n",
       "      <td>World</td>\n",
       "      <td>30453298</td>\n",
       "    </tr>\n",
       "    <tr>\n",
       "      <th rowspan=\"2\" valign=\"top\">201402</th>\n",
       "      <th>Exports</th>\n",
       "      <th>Exports</th>\n",
       "      <td>201402</td>\n",
       "      <td>Exports</td>\n",
       "      <td>World</td>\n",
       "      <td>2916552</td>\n",
       "    </tr>\n",
       "    <tr>\n",
       "      <th>Imports</th>\n",
       "      <th>Imports</th>\n",
       "      <td>201402</td>\n",
       "      <td>Imports</td>\n",
       "      <td>World</td>\n",
       "      <td>29950202</td>\n",
       "    </tr>\n",
       "    <tr>\n",
       "      <th rowspan=\"2\" valign=\"top\">201403</th>\n",
       "      <th>Exports</th>\n",
       "      <th>Exports</th>\n",
       "      <td>201403</td>\n",
       "      <td>Exports</td>\n",
       "      <td>World</td>\n",
       "      <td>3097296</td>\n",
       "    </tr>\n",
       "    <tr>\n",
       "      <th>Imports</th>\n",
       "      <th>Imports</th>\n",
       "      <td>201403</td>\n",
       "      <td>Imports</td>\n",
       "      <td>World</td>\n",
       "      <td>37723949</td>\n",
       "    </tr>\n",
       "    <tr>\n",
       "      <th rowspan=\"2\" valign=\"top\">201404</th>\n",
       "      <th>Exports</th>\n",
       "      <th>Exports</th>\n",
       "      <td>201404</td>\n",
       "      <td>Exports</td>\n",
       "      <td>World</td>\n",
       "      <td>3519323</td>\n",
       "    </tr>\n",
       "    <tr>\n",
       "      <th>Imports</th>\n",
       "      <th>Imports</th>\n",
       "      <td>201404</td>\n",
       "      <td>Imports</td>\n",
       "      <td>World</td>\n",
       "      <td>30888330</td>\n",
       "    </tr>\n",
       "    <tr>\n",
       "      <th rowspan=\"2\" valign=\"top\">201405</th>\n",
       "      <th>Exports</th>\n",
       "      <th>Exports</th>\n",
       "      <td>201405</td>\n",
       "      <td>Exports</td>\n",
       "      <td>World</td>\n",
       "      <td>3056769</td>\n",
       "    </tr>\n",
       "    <tr>\n",
       "      <th>Imports</th>\n",
       "      <th>Imports</th>\n",
       "      <td>201405</td>\n",
       "      <td>Imports</td>\n",
       "      <td>World</td>\n",
       "      <td>28891074</td>\n",
       "    </tr>\n",
       "    <tr>\n",
       "      <th rowspan=\"3\" valign=\"top\">201406</th>\n",
       "      <th>Exports</th>\n",
       "      <th>Exports</th>\n",
       "      <td>201406</td>\n",
       "      <td>Exports</td>\n",
       "      <td>World</td>\n",
       "      <td>3429534</td>\n",
       "    </tr>\n",
       "    <tr>\n",
       "      <th>Imports</th>\n",
       "      <th>Imports</th>\n",
       "      <td>201406</td>\n",
       "      <td>Imports</td>\n",
       "      <td>World</td>\n",
       "      <td>25941229</td>\n",
       "    </tr>\n",
       "    <tr>\n",
       "      <th>Re-imports</th>\n",
       "      <th>Re-imports</th>\n",
       "      <td>201406</td>\n",
       "      <td>Re-imports</td>\n",
       "      <td>World</td>\n",
       "      <td>2042</td>\n",
       "    </tr>\n",
       "    <tr>\n",
       "      <th rowspan=\"2\" valign=\"top\">201407</th>\n",
       "      <th>Exports</th>\n",
       "      <th>Exports</th>\n",
       "      <td>201407</td>\n",
       "      <td>Exports</td>\n",
       "      <td>World</td>\n",
       "      <td>1812816</td>\n",
       "    </tr>\n",
       "    <tr>\n",
       "      <th>Imports</th>\n",
       "      <th>Imports</th>\n",
       "      <td>201407</td>\n",
       "      <td>Imports</td>\n",
       "      <td>World</td>\n",
       "      <td>60149143</td>\n",
       "    </tr>\n",
       "    <tr>\n",
       "      <th rowspan=\"2\" valign=\"top\">201408</th>\n",
       "      <th>Exports</th>\n",
       "      <th>Exports</th>\n",
       "      <td>201408</td>\n",
       "      <td>Exports</td>\n",
       "      <td>World</td>\n",
       "      <td>2008623</td>\n",
       "    </tr>\n",
       "    <tr>\n",
       "      <th>Imports</th>\n",
       "      <th>Imports</th>\n",
       "      <td>201408</td>\n",
       "      <td>Imports</td>\n",
       "      <td>World</td>\n",
       "      <td>14706640</td>\n",
       "    </tr>\n",
       "    <tr>\n",
       "      <th rowspan=\"2\" valign=\"top\">201409</th>\n",
       "      <th>Exports</th>\n",
       "      <th>Exports</th>\n",
       "      <td>201409</td>\n",
       "      <td>Exports</td>\n",
       "      <td>World</td>\n",
       "      <td>3113077</td>\n",
       "    </tr>\n",
       "    <tr>\n",
       "      <th>Imports</th>\n",
       "      <th>Imports</th>\n",
       "      <td>201409</td>\n",
       "      <td>Imports</td>\n",
       "      <td>World</td>\n",
       "      <td>35478934</td>\n",
       "    </tr>\n",
       "    <tr>\n",
       "      <th rowspan=\"2\" valign=\"top\">201410</th>\n",
       "      <th>Exports</th>\n",
       "      <th>Exports</th>\n",
       "      <td>201410</td>\n",
       "      <td>Exports</td>\n",
       "      <td>World</td>\n",
       "      <td>2817757</td>\n",
       "    </tr>\n",
       "    <tr>\n",
       "      <th>Imports</th>\n",
       "      <th>Imports</th>\n",
       "      <td>201410</td>\n",
       "      <td>Imports</td>\n",
       "      <td>World</td>\n",
       "      <td>43713838</td>\n",
       "    </tr>\n",
       "    <tr>\n",
       "      <th rowspan=\"2\" valign=\"top\">201411</th>\n",
       "      <th>Exports</th>\n",
       "      <th>Exports</th>\n",
       "      <td>201411</td>\n",
       "      <td>Exports</td>\n",
       "      <td>World</td>\n",
       "      <td>2866522</td>\n",
       "    </tr>\n",
       "    <tr>\n",
       "      <th>Imports</th>\n",
       "      <th>Imports</th>\n",
       "      <td>201411</td>\n",
       "      <td>Imports</td>\n",
       "      <td>World</td>\n",
       "      <td>12451432</td>\n",
       "    </tr>\n",
       "    <tr>\n",
       "      <th rowspan=\"2\" valign=\"top\">201412</th>\n",
       "      <th>Exports</th>\n",
       "      <th>Exports</th>\n",
       "      <td>201412</td>\n",
       "      <td>Exports</td>\n",
       "      <td>World</td>\n",
       "      <td>4351760</td>\n",
       "    </tr>\n",
       "    <tr>\n",
       "      <th>Imports</th>\n",
       "      <th>Imports</th>\n",
       "      <td>201412</td>\n",
       "      <td>Imports</td>\n",
       "      <td>World</td>\n",
       "      <td>30568455</td>\n",
       "    </tr>\n",
       "  </tbody>\n",
       "</table>\n",
       "</div>"
      ],
      "text/plain": [
       "                              Period  Trade Flow Partner  Trade Value (US$)\n",
       "Period Trade Flow Trade Flow                                               \n",
       "201401 Exports    Exports     201401     Exports   World            3232246\n",
       "       Imports    Imports     201401     Imports   World           30453298\n",
       "201402 Exports    Exports     201402     Exports   World            2916552\n",
       "       Imports    Imports     201402     Imports   World           29950202\n",
       "201403 Exports    Exports     201403     Exports   World            3097296\n",
       "       Imports    Imports     201403     Imports   World           37723949\n",
       "201404 Exports    Exports     201404     Exports   World            3519323\n",
       "       Imports    Imports     201404     Imports   World           30888330\n",
       "201405 Exports    Exports     201405     Exports   World            3056769\n",
       "       Imports    Imports     201405     Imports   World           28891074\n",
       "201406 Exports    Exports     201406     Exports   World            3429534\n",
       "       Imports    Imports     201406     Imports   World           25941229\n",
       "       Re-imports Re-imports  201406  Re-imports   World               2042\n",
       "201407 Exports    Exports     201407     Exports   World            1812816\n",
       "       Imports    Imports     201407     Imports   World           60149143\n",
       "201408 Exports    Exports     201408     Exports   World            2008623\n",
       "       Imports    Imports     201408     Imports   World           14706640\n",
       "201409 Exports    Exports     201409     Exports   World            3113077\n",
       "       Imports    Imports     201409     Imports   World           35478934\n",
       "201410 Exports    Exports     201410     Exports   World            2817757\n",
       "       Imports    Imports     201410     Imports   World           43713838\n",
       "201411 Exports    Exports     201411     Exports   World            2866522\n",
       "       Imports    Imports     201411     Imports   World           12451432\n",
       "201412 Exports    Exports     201412     Exports   World            4351760\n",
       "       Imports    Imports     201412     Imports   World           30568455"
      ]
     },
     "execution_count": 181,
     "metadata": {},
     "output_type": "execute_result"
    }
   ],
   "source": [
    "palmOilWorldSalesCountry.groupby((\"Period\", \"Trade Flow\")).apply(top3)"
   ]
  },
  {
   "cell_type": "code",
   "execution_count": 183,
   "metadata": {
    "collapsed": false
   },
   "outputs": [
    {
     "data": {
      "text/plain": [
       "<matplotlib.axes._subplots.AxesSubplot at 0x10ea6a278>"
      ]
     },
     "execution_count": 183,
     "metadata": {},
     "output_type": "execute_result"
    },
    {
     "data": {
      "image/png": "[encoded data removed]",
      "text/plain": [
       "<matplotlib.figure.Figure at 0x10e0d3cf8>"
      ]
     },
     "metadata": {},
     "output_type": "display_data"
    }
   ],
   "source": [
    "palmOilWorldSalesCountry.groupby((\"Period\", \"Trade Flow\")).apply(top3).plot(kind='bar', figsize=(14,4))"
   ]
  },
  {
   "cell_type": "markdown",
   "metadata": {},
   "source": [
    "\n",
    "We don't want period on the y axis though. Let's get rid of it somehow. _Update: I don't know how to do this yet._"
   ]
  },
  {
   "cell_type": "code",
   "execution_count": 188,
   "metadata": {
    "collapsed": false
   },
   "outputs": [
    {
     "data": {
      "text/plain": [
       "<matplotlib.axes._subplots.AxesSubplot at 0x1105d1cf8>"
      ]
     },
     "execution_count": 188,
     "metadata": {},
     "output_type": "execute_result"
    },
    {
     "data": {
      "image/png": "[encoded data removed]",
      "text/plain": [
       "<matplotlib.figure.Figure at 0x1102c2358>"
      ]
     },
     "metadata": {},
     "output_type": "display_data"
    }
   ],
   "source": [
    "palmOilWorldSalesCountry.groupby((\"Period\", \"Trade Flow\")).apply(top3).plot(kind='bar', figsize=(14,4))"
   ]
  },
  {
   "cell_type": "markdown",
   "metadata": {},
   "source": [
    "Hmm, so we now appear to be getting somewhere, but we still have a few problems. We'll need to do this one more time, on the country breakdown. I'm not sure why World exports are so much lower than imports though."
   ]
  },
  {
   "cell_type": "markdown",
   "metadata": {},
   "source": [
    "Ah, it looks like you can filter the results of a groupby, before calling `apply`like so:\n"
   ]
  },
  {
   "cell_type": "code",
   "execution_count": 191,
   "metadata": {
    "collapsed": false
   },
   "outputs": [
    {
     "data": {
      "text/plain": [
       "<matplotlib.axes._subplots.AxesSubplot at 0x11093d978>"
      ]
     },
     "execution_count": 191,
     "metadata": {},
     "output_type": "execute_result"
    },
    {
     "data": {
      "image/png": "[encoded data removed]",
      "text/plain": [
       "<matplotlib.figure.Figure at 0x1109794e0>"
      ]
     },
     "metadata": {},
     "output_type": "display_data"
    }
   ],
   "source": [
    "just_trade = palmOilWorldSalesCountry.groupby((\"Period\", \"Trade Flow\"))[[\"Trade Value (US$)\"]]\n",
    "\n",
    "just_trade.apply(top3).plot(kind='bar', figsize=(14,4))"
   ]
  },
  {
   "cell_type": "markdown",
   "metadata": {},
   "source": [
    "### Sweet! the trick was to pass in a _list_ showing just the `\"trade value (US$)\"` instead of just the string `\"trade value (US$)\"`"
   ]
  },
  {
   "cell_type": "markdown",
   "metadata": {},
   "source": [
    "**Now go back to the Exercise 3 step in FutureLearn to discuss and mark it complete.**"
   ]
  },
  {
   "cell_type": "markdown",
   "metadata": {},
   "source": [
    "## Exercise 4: Filtering groups\n",
    "\n",
    "If you have a large dataset that can be split into multiple groups but for which you only want to report on groups that have a particular property, the `filter()` method can be used to apply a test to a group and only return rows from groups that pass a particular group-wide test. If the test evaluates as `False`, the rows included in that group will be ignored."
   ]
  },
  {
   "cell_type": "markdown",
   "metadata": {},
   "source": [
    "Consider the following simple test dataset:"
   ]
  },
  {
   "cell_type": "code",
   "execution_count": 193,
   "metadata": {
    "activity": false,
    "collapsed": false,
    "run_control": {
     "read_only": false
    }
   },
   "outputs": [
    {
     "data": {
      "text/html": [
       "<div>\n",
       "<table border=\"1\" class=\"dataframe\">\n",
       "  <thead>\n",
       "    <tr style=\"text-align: right;\">\n",
       "      <th></th>\n",
       "      <th>Commodity</th>\n",
       "      <th>Trade Flow</th>\n",
       "      <th>Value</th>\n",
       "    </tr>\n",
       "  </thead>\n",
       "  <tbody>\n",
       "    <tr>\n",
       "      <th>0</th>\n",
       "      <td>Fish</td>\n",
       "      <td>Import</td>\n",
       "      <td>1</td>\n",
       "    </tr>\n",
       "    <tr>\n",
       "      <th>1</th>\n",
       "      <td>Milk</td>\n",
       "      <td>Import</td>\n",
       "      <td>2</td>\n",
       "    </tr>\n",
       "    <tr>\n",
       "      <th>2</th>\n",
       "      <td>Eggs</td>\n",
       "      <td>Import</td>\n",
       "      <td>4</td>\n",
       "    </tr>\n",
       "    <tr>\n",
       "      <th>3</th>\n",
       "      <td>Fish</td>\n",
       "      <td>Export</td>\n",
       "      <td>8</td>\n",
       "    </tr>\n",
       "    <tr>\n",
       "      <th>4</th>\n",
       "      <td>Milk</td>\n",
       "      <td>Export</td>\n",
       "      <td>16</td>\n",
       "    </tr>\n",
       "  </tbody>\n",
       "</table>\n",
       "</div>"
      ],
      "text/plain": [
       "  Commodity Trade Flow  Value\n",
       "0      Fish     Import      1\n",
       "1      Milk     Import      2\n",
       "2      Eggs     Import      4\n",
       "3      Fish     Export      8\n",
       "4      Milk     Export     16"
      ]
     },
     "execution_count": 193,
     "metadata": {},
     "output_type": "execute_result"
    }
   ],
   "source": [
    "df = DataFrame({'Commodity' : ['Fish', 'Milk', 'Eggs', 'Fish', 'Milk'],\n",
    "                'Trade Flow' : ['Import', 'Import', 'Import', 'Export','Export'],\n",
    "                'Value' : [1,2,4,8,16]})\n",
    "df"
   ]
  },
  {
   "cell_type": "markdown",
   "metadata": {},
   "source": [
    "One reason for filtering a dataset might be to exclude 'sparse' or infrequently occurring items, such as trade partners who only seem to trade for less than six months of the year.\n",
    "\n",
    "To select just the groups that contain more than a certain number of rows, define a function to test the length (that is, the number of rows) of each group and return a `True` or `False` value depending on the test.\n",
    "\n",
    "In the following case, group by trade flow and only return rows from groups containing three or more rows."
   ]
  },
  {
   "cell_type": "code",
   "execution_count": 194,
   "metadata": {
    "activity": false,
    "collapsed": false,
    "run_control": {
     "read_only": false
    }
   },
   "outputs": [
    {
     "data": {
      "text/html": [
       "<div>\n",
       "<table border=\"1\" class=\"dataframe\">\n",
       "  <thead>\n",
       "    <tr style=\"text-align: right;\">\n",
       "      <th></th>\n",
       "      <th>Commodity</th>\n",
       "      <th>Trade Flow</th>\n",
       "      <th>Value</th>\n",
       "    </tr>\n",
       "  </thead>\n",
       "  <tbody>\n",
       "    <tr>\n",
       "      <th>0</th>\n",
       "      <td>Fish</td>\n",
       "      <td>Import</td>\n",
       "      <td>1</td>\n",
       "    </tr>\n",
       "    <tr>\n",
       "      <th>1</th>\n",
       "      <td>Milk</td>\n",
       "      <td>Import</td>\n",
       "      <td>2</td>\n",
       "    </tr>\n",
       "    <tr>\n",
       "      <th>2</th>\n",
       "      <td>Eggs</td>\n",
       "      <td>Import</td>\n",
       "      <td>4</td>\n",
       "    </tr>\n",
       "  </tbody>\n",
       "</table>\n",
       "</div>"
      ],
      "text/plain": [
       "  Commodity Trade Flow  Value\n",
       "0      Fish     Import      1\n",
       "1      Milk     Import      2\n",
       "2      Eggs     Import      4"
      ]
     },
     "execution_count": 194,
     "metadata": {},
     "output_type": "execute_result"
    }
   ],
   "source": [
    "def groupsOfThreeOrMoreRows(g):\n",
    "    return len(g) >= 3\n",
    "\n",
    "df.groupby('Trade Flow').filter(groupsOfThreeOrMoreRows)"
   ]
  },
  {
   "cell_type": "markdown",
   "metadata": {},
   "source": [
    "You can also select groups based on other group properties. For example, you might select just the groups where the total value for a particular column within a group exceeds a certain threshold.\n",
    "\n",
    "In the following case, select just those commodities where the sum of import and export values is greater than a certain amount to indicate which ones have a large value of trade, in whatever direction, associated with them. First group by the commodity, then filter on the group property of interest."
   ]
  },
  {
   "cell_type": "code",
   "execution_count": 195,
   "metadata": {
    "activity": false,
    "collapsed": false,
    "run_control": {
     "read_only": false
    }
   },
   "outputs": [
    {
     "data": {
      "text/html": [
       "<div>\n",
       "<table border=\"1\" class=\"dataframe\">\n",
       "  <thead>\n",
       "    <tr style=\"text-align: right;\">\n",
       "      <th></th>\n",
       "      <th>Commodity</th>\n",
       "      <th>Trade Flow</th>\n",
       "      <th>Value</th>\n",
       "    </tr>\n",
       "  </thead>\n",
       "  <tbody>\n",
       "    <tr>\n",
       "      <th>0</th>\n",
       "      <td>Fish</td>\n",
       "      <td>Import</td>\n",
       "      <td>1</td>\n",
       "    </tr>\n",
       "    <tr>\n",
       "      <th>1</th>\n",
       "      <td>Milk</td>\n",
       "      <td>Import</td>\n",
       "      <td>2</td>\n",
       "    </tr>\n",
       "    <tr>\n",
       "      <th>3</th>\n",
       "      <td>Fish</td>\n",
       "      <td>Export</td>\n",
       "      <td>8</td>\n",
       "    </tr>\n",
       "    <tr>\n",
       "      <th>4</th>\n",
       "      <td>Milk</td>\n",
       "      <td>Export</td>\n",
       "      <td>16</td>\n",
       "    </tr>\n",
       "  </tbody>\n",
       "</table>\n",
       "</div>"
      ],
      "text/plain": [
       "  Commodity Trade Flow  Value\n",
       "0      Fish     Import      1\n",
       "1      Milk     Import      2\n",
       "3      Fish     Export      8\n",
       "4      Milk     Export     16"
      ]
     },
     "execution_count": 195,
     "metadata": {},
     "output_type": "execute_result"
    }
   ],
   "source": [
    "def groupsWithValueGreaterThanFive(g):\n",
    "    return g['Value'].sum() > 5\n",
    "\n",
    "df.groupby('Commodity').filter(groupsWithValueGreaterThanFive)"
   ]
  },
  {
   "cell_type": "markdown",
   "metadata": {},
   "source": [
    "### Filtering on the Comtrade data\n",
    "\n",
    "Now try filtering the Comtrade data relating to the milk imports. Start by creating a subset of the data containing only rows where the total trade value of imports for a particular commodity and partner is is greater than $25 million (that is, 25000000)."
   ]
  },
  {
   "cell_type": "code",
   "execution_count": 196,
   "metadata": {
    "activity": false,
    "collapsed": false,
    "run_control": {
     "read_only": false
    }
   },
   "outputs": [],
   "source": [
    "def groupsWithImportsOver25million(g):\n",
    "    return g['Trade Value (US$)'].sum() > 25000000\n",
    "\n",
    "rows=milk_countries_imports.groupby(['Commodity','Partner']).filter(groupsWithImportsOver25million)"
   ]
  },
  {
   "cell_type": "markdown",
   "metadata": {},
   "source": [
    "Check the filtering by grouping on the commodity and partner and summing the result."
   ]
  },
  {
   "cell_type": "code",
   "execution_count": 197,
   "metadata": {
    "activity": false,
    "collapsed": false,
    "run_control": {
     "read_only": false
    }
   },
   "outputs": [
    {
     "data": {
      "text/plain": [
       "Commodity                                           Partner    \n",
       "Milk and cream, concentrated or sweetened           Belgium         36155409\n",
       "                                                    France          85631781\n",
       "                                                    Germany         59776965\n",
       "                                                    Ireland         62936247\n",
       "                                                    Netherlands     61531712\n",
       "Milk and cream, neither concentrated nor sweetened  Denmark         29432607\n",
       "                                                    Ireland        111379639\n",
       "Name: Trade Value (US$), dtype: int64"
      ]
     },
     "execution_count": 197,
     "metadata": {},
     "output_type": "execute_result"
    }
   ],
   "source": [
    "rows.groupby(['Commodity','Partner'])['Trade Value (US$)'].aggregate(sum)"
   ]
  },
  {
   "cell_type": "markdown",
   "metadata": {},
   "source": [
    "As before, you can plot the results."
   ]
  },
  {
   "cell_type": "code",
   "execution_count": 198,
   "metadata": {
    "activity": false,
    "collapsed": false,
    "run_control": {
     "read_only": false
    }
   },
   "outputs": [
    {
     "data": {
      "text/plain": [
       "<matplotlib.axes._subplots.AxesSubplot at 0x110b9ea58>"
      ]
     },
     "execution_count": 198,
     "metadata": {},
     "output_type": "execute_result"
    },
    {
     "data": {
      "image/png": "[encoded data removed]",
      "text/plain": [
       "<matplotlib.figure.Figure at 0x110b86da0>"
      ]
     },
     "metadata": {},
     "output_type": "display_data"
    }
   ],
   "source": [
    "rows.groupby(['Commodity','Partner'])['Trade Value (US$)'].aggregate(sum).sort('Trade Value (US$)',inplace=False,ascending=False).plot(kind='barh')"
   ]
  },
  {
   "cell_type": "markdown",
   "metadata": {},
   "source": [
    "Logical tests can be combined in a filter function, for example testing for partners that only appear to trade infrequently *or* for small total amounts in any particular commodity."
   ]
  },
  {
   "cell_type": "code",
   "execution_count": 201,
   "metadata": {
    "activity": false,
    "collapsed": false,
    "run_control": {
     "read_only": false
    }
   },
   "outputs": [
    {
     "data": {
      "text/html": [
       "<div>\n",
       "<table border=\"1\" class=\"dataframe\">\n",
       "  <thead>\n",
       "    <tr>\n",
       "      <th></th>\n",
       "      <th></th>\n",
       "      <th colspan=\"2\" halign=\"left\">Trade Value (US$)</th>\n",
       "    </tr>\n",
       "    <tr>\n",
       "      <th></th>\n",
       "      <th></th>\n",
       "      <th>len</th>\n",
       "      <th>sum</th>\n",
       "    </tr>\n",
       "    <tr>\n",
       "      <th>Commodity</th>\n",
       "      <th>Partner</th>\n",
       "      <th></th>\n",
       "      <th></th>\n",
       "    </tr>\n",
       "  </thead>\n",
       "  <tbody>\n",
       "    <tr>\n",
       "      <th rowspan=\"7\" valign=\"top\">Milk and cream, concentrated or sweetened</th>\n",
       "      <th>Greece</th>\n",
       "      <td>1</td>\n",
       "      <td>7</td>\n",
       "    </tr>\n",
       "    <tr>\n",
       "      <th>Hungary</th>\n",
       "      <td>8</td>\n",
       "      <td>4956</td>\n",
       "    </tr>\n",
       "    <tr>\n",
       "      <th>Latvia</th>\n",
       "      <td>1</td>\n",
       "      <td>432</td>\n",
       "    </tr>\n",
       "    <tr>\n",
       "      <th>Luxembourg</th>\n",
       "      <td>1</td>\n",
       "      <td>23724</td>\n",
       "    </tr>\n",
       "    <tr>\n",
       "      <th>New Zealand</th>\n",
       "      <td>1</td>\n",
       "      <td>19291</td>\n",
       "    </tr>\n",
       "    <tr>\n",
       "      <th>United Arab Emirates</th>\n",
       "      <td>2</td>\n",
       "      <td>5779</td>\n",
       "    </tr>\n",
       "    <tr>\n",
       "      <th>United States of America</th>\n",
       "      <td>2</td>\n",
       "      <td>4375</td>\n",
       "    </tr>\n",
       "    <tr>\n",
       "      <th rowspan=\"5\" valign=\"top\">Milk and cream, neither concentrated nor sweetened</th>\n",
       "      <th>Finland</th>\n",
       "      <td>1</td>\n",
       "      <td>12</td>\n",
       "    </tr>\n",
       "    <tr>\n",
       "      <th>Latvia</th>\n",
       "      <td>4</td>\n",
       "      <td>1678</td>\n",
       "    </tr>\n",
       "    <tr>\n",
       "      <th>Spain</th>\n",
       "      <td>1</td>\n",
       "      <td>68</td>\n",
       "    </tr>\n",
       "    <tr>\n",
       "      <th>Ukraine</th>\n",
       "      <td>1</td>\n",
       "      <td>3733</td>\n",
       "    </tr>\n",
       "    <tr>\n",
       "      <th>United States of America</th>\n",
       "      <td>1</td>\n",
       "      <td>2415</td>\n",
       "    </tr>\n",
       "  </tbody>\n",
       "</table>\n",
       "</div>"
      ],
      "text/plain": [
       "                                                                            Trade Value (US$)  \\\n",
       "                                                                                          len   \n",
       "Commodity                                          Partner                                      \n",
       "Milk and cream, concentrated or sweetened          Greece                                   1   \n",
       "                                                   Hungary                                  8   \n",
       "                                                   Latvia                                   1   \n",
       "                                                   Luxembourg                               1   \n",
       "                                                   New Zealand                              1   \n",
       "                                                   United Arab Emirates                     2   \n",
       "                                                   United States of America                 2   \n",
       "Milk and cream, neither concentrated nor sweetened Finland                                  1   \n",
       "                                                   Latvia                                   4   \n",
       "                                                   Spain                                    1   \n",
       "                                                   Ukraine                                  1   \n",
       "                                                   United States of America                 1   \n",
       "\n",
       "                                                                                    \n",
       "                                                                               sum  \n",
       "Commodity                                          Partner                          \n",
       "Milk and cream, concentrated or sweetened          Greece                        7  \n",
       "                                                   Hungary                    4956  \n",
       "                                                   Latvia                      432  \n",
       "                                                   Luxembourg                23724  \n",
       "                                                   New Zealand               19291  \n",
       "                                                   United Arab Emirates       5779  \n",
       "                                                   United States of America   4375  \n",
       "Milk and cream, neither concentrated nor sweetened Finland                      12  \n",
       "                                                   Latvia                     1678  \n",
       "                                                   Spain                        68  \n",
       "                                                   Ukraine                    3733  \n",
       "                                                   United States of America   2415  "
      ]
     },
     "execution_count": 201,
     "metadata": {},
     "output_type": "execute_result"
    }
   ],
   "source": [
    "def weakpartner(g):\n",
    "    return len(g)<=3 | g['Trade Value (US$)'].sum()<25000\n",
    "\n",
    "weak_milk_countries_imports=milk_countries_imports.groupby(['Commodity','Partner']).filter(weakpartner)\n",
    "weak_milk_countries_imports.groupby(['Commodity','Partner'])[['Trade Value (US$)']].aggregate([len,sum])"
   ]
  },
  {
   "cell_type": "markdown",
   "metadata": {},
   "source": [
    "In this report, many of the listed countries appear to have traded in only one or two months; but while Hungary traded concentrated/sweetened products eight times, the total trade value was not very significant at all."
   ]
  },
  {
   "cell_type": "markdown",
   "metadata": {},
   "source": [
    "### Tasks\n",
    "\n",
    "Filter the dataset so that it only contains rows where the total exports across all the milk products for a particular country are at least two million dollars in any given monthly period. (HINT: group on partner and period and filter against a function that tests the minimum trade value exceeds the required value.)\n",
    "\n",
    "Generate a chart from that dataset that displays the sum total trade value for each partner. (HINT: group on the partner and then aggregate on the sum.)\n",
    "\n",
    "Using your own monthly data for a single year, which countries only trade in your selected trade item rarely or for small amounts? Which partners trade on a regular basis (for example, in at least nine of the months)? \n",
    "\n",
    "Can you also find countries that trade regularly but only for small amounts (for example whose maximum monthly trade value is less than a certain threshold amount) or who trade infrequently but for large amounts (or other combinations thereof)?"
   ]
  },
  {
   "cell_type": "code",
   "execution_count": 220,
   "metadata": {
    "collapsed": true
   },
   "outputs": [],
   "source": [
    "def strongPartner(g):\n",
    "    return g['Trade Value (US$)'].sum() > (2 * 1000 * 1000)\n",
    "\n",
    "strong_milk_countries_imports = milk_countries_imports.groupby(['Commodity','Partner', \"Period\"]).filter(strongPartner)"
   ]
  },
  {
   "cell_type": "code",
   "execution_count": 230,
   "metadata": {
    "collapsed": false
   },
   "outputs": [
    {
     "data": {
      "text/html": [
       "<div>\n",
       "<table border=\"1\" class=\"dataframe\">\n",
       "  <thead>\n",
       "    <tr style=\"text-align: right;\">\n",
       "      <th></th>\n",
       "      <th>Trade Value (US$)</th>\n",
       "    </tr>\n",
       "    <tr>\n",
       "      <th>Partner</th>\n",
       "      <th></th>\n",
       "    </tr>\n",
       "  </thead>\n",
       "  <tbody>\n",
       "    <tr>\n",
       "      <th>Belgium</th>\n",
       "      <td>43098706</td>\n",
       "    </tr>\n",
       "    <tr>\n",
       "      <th>Denmark</th>\n",
       "      <td>27459714</td>\n",
       "    </tr>\n",
       "    <tr>\n",
       "      <th>France</th>\n",
       "      <td>87728552</td>\n",
       "    </tr>\n",
       "    <tr>\n",
       "      <th>Germany</th>\n",
       "      <td>64332679</td>\n",
       "    </tr>\n",
       "    <tr>\n",
       "      <th>Ireland</th>\n",
       "      <td>174315886</td>\n",
       "    </tr>\n",
       "    <tr>\n",
       "      <th>Netherlands</th>\n",
       "      <td>61531712</td>\n",
       "    </tr>\n",
       "    <tr>\n",
       "      <th>Spain</th>\n",
       "      <td>5061259</td>\n",
       "    </tr>\n",
       "  </tbody>\n",
       "</table>\n",
       "</div>"
      ],
      "text/plain": [
       "             Trade Value (US$)\n",
       "Partner                       \n",
       "Belgium               43098706\n",
       "Denmark               27459714\n",
       "France                87728552\n",
       "Germany               64332679\n",
       "Ireland              174315886\n",
       "Netherlands           61531712\n",
       "Spain                  5061259"
      ]
     },
     "execution_count": 230,
     "metadata": {},
     "output_type": "execute_result"
    }
   ],
   "source": [
    "strong_annual_milk_imports_by_country = strong_milk_countries_imports.groupby(['Partner'])[['Trade Value (US$)']]\n",
    "strong_annual_milk_imports_by_country.aggregate(sum)"
   ]
  },
  {
   "cell_type": "markdown",
   "metadata": {},
   "source": [
    "_you can chain groupby calls so you can use one set of groupings for filters, then another groupby to arrange a bar chart_"
   ]
  },
  {
   "cell_type": "code",
   "execution_count": 221,
   "metadata": {
    "collapsed": false
   },
   "outputs": [
    {
     "data": {
      "text/plain": [
       "<matplotlib.axes._subplots.AxesSubplot at 0x113943400>"
      ]
     },
     "execution_count": 221,
     "metadata": {},
     "output_type": "execute_result"
    },
    {
     "data": {
      "image/png": "[encoded data removed]",
      "text/plain": [
       "<matplotlib.figure.Figure at 0x113965fd0>"
      ]
     },
     "metadata": {},
     "output_type": "display_data"
    }
   ],
   "source": [
    "strong_annual_milk_imports_by_country = strong_milk_countries_imports.groupby(['Partner'])[['Trade Value (US$)']].aggregate([sum])\n",
    "strong_annual_milk_imports_by_country.plot(kind='bar', figsize=(15,5))"
   ]
  },
  {
   "cell_type": "markdown",
   "metadata": {},
   "source": [
    "Lets' check this by month as well though:"
   ]
  },
  {
   "cell_type": "markdown",
   "metadata": {},
   "source": [
    "> Using your own monthly data for a single year, which countries only trade in your selected trade item rarely or for small amounts? Which partners trade on a regular basis (for example, in at least nine of the months)? "
   ]
  },
  {
   "cell_type": "markdown",
   "metadata": {},
   "source": [
    "#### First of all, break it down commodity partner to count the months of trade for each commodity"
   ]
  },
  {
   "cell_type": "code",
   "execution_count": 241,
   "metadata": {
    "collapsed": false
   },
   "outputs": [
    {
     "data": {
      "text/html": [
       "<div>\n",
       "<table border=\"1\" class=\"dataframe\">\n",
       "  <thead>\n",
       "    <tr>\n",
       "      <th></th>\n",
       "      <th></th>\n",
       "      <th colspan=\"2\" halign=\"left\">Trade Value (US$)</th>\n",
       "    </tr>\n",
       "    <tr>\n",
       "      <th></th>\n",
       "      <th></th>\n",
       "      <th>len</th>\n",
       "      <th>sum</th>\n",
       "    </tr>\n",
       "    <tr>\n",
       "      <th>Partner</th>\n",
       "      <th>Commodity</th>\n",
       "      <th></th>\n",
       "      <th></th>\n",
       "    </tr>\n",
       "  </thead>\n",
       "  <tbody>\n",
       "    <tr>\n",
       "      <th rowspan=\"2\" valign=\"top\">Belgium</th>\n",
       "      <th>Milk and cream, concentrated or sweetened</th>\n",
       "      <td>9</td>\n",
       "      <td>30403010</td>\n",
       "    </tr>\n",
       "    <tr>\n",
       "      <th>Milk and cream, neither concentrated nor sweetened</th>\n",
       "      <td>4</td>\n",
       "      <td>12695696</td>\n",
       "    </tr>\n",
       "    <tr>\n",
       "      <th>Denmark</th>\n",
       "      <th>Milk and cream, neither concentrated nor sweetened</th>\n",
       "      <td>11</td>\n",
       "      <td>27459714</td>\n",
       "    </tr>\n",
       "    <tr>\n",
       "      <th rowspan=\"2\" valign=\"top\">France</th>\n",
       "      <th>Milk and cream, concentrated or sweetened</th>\n",
       "      <td>12</td>\n",
       "      <td>85631781</td>\n",
       "    </tr>\n",
       "    <tr>\n",
       "      <th>Milk and cream, neither concentrated nor sweetened</th>\n",
       "      <td>1</td>\n",
       "      <td>2096771</td>\n",
       "    </tr>\n",
       "    <tr>\n",
       "      <th rowspan=\"2\" valign=\"top\">Germany</th>\n",
       "      <th>Milk and cream, concentrated or sweetened</th>\n",
       "      <td>12</td>\n",
       "      <td>59776965</td>\n",
       "    </tr>\n",
       "    <tr>\n",
       "      <th>Milk and cream, neither concentrated nor sweetened</th>\n",
       "      <td>2</td>\n",
       "      <td>4555714</td>\n",
       "    </tr>\n",
       "    <tr>\n",
       "      <th rowspan=\"2\" valign=\"top\">Ireland</th>\n",
       "      <th>Milk and cream, concentrated or sweetened</th>\n",
       "      <td>12</td>\n",
       "      <td>62936247</td>\n",
       "    </tr>\n",
       "    <tr>\n",
       "      <th>Milk and cream, neither concentrated nor sweetened</th>\n",
       "      <td>12</td>\n",
       "      <td>111379639</td>\n",
       "    </tr>\n",
       "    <tr>\n",
       "      <th>Netherlands</th>\n",
       "      <th>Milk and cream, concentrated or sweetened</th>\n",
       "      <td>12</td>\n",
       "      <td>61531712</td>\n",
       "    </tr>\n",
       "    <tr>\n",
       "      <th>Spain</th>\n",
       "      <th>Milk and cream, concentrated or sweetened</th>\n",
       "      <td>2</td>\n",
       "      <td>5061259</td>\n",
       "    </tr>\n",
       "  </tbody>\n",
       "</table>\n",
       "</div>"
      ],
      "text/plain": [
       "                                                               Trade Value (US$)  \\\n",
       "                                                                             len   \n",
       "Partner     Commodity                                                              \n",
       "Belgium     Milk and cream, concentrated or sweetened                          9   \n",
       "            Milk and cream, neither concentrated nor sweetened                 4   \n",
       "Denmark     Milk and cream, neither concentrated nor sweetened                11   \n",
       "France      Milk and cream, concentrated or sweetened                         12   \n",
       "            Milk and cream, neither concentrated nor sweetened                 1   \n",
       "Germany     Milk and cream, concentrated or sweetened                         12   \n",
       "            Milk and cream, neither concentrated nor sweetened                 2   \n",
       "Ireland     Milk and cream, concentrated or sweetened                         12   \n",
       "            Milk and cream, neither concentrated nor sweetened                12   \n",
       "Netherlands Milk and cream, concentrated or sweetened                         12   \n",
       "Spain       Milk and cream, concentrated or sweetened                          2   \n",
       "\n",
       "                                                                           \n",
       "                                                                      sum  \n",
       "Partner     Commodity                                                      \n",
       "Belgium     Milk and cream, concentrated or sweetened            30403010  \n",
       "            Milk and cream, neither concentrated nor sweetened   12695696  \n",
       "Denmark     Milk and cream, neither concentrated nor sweetened   27459714  \n",
       "France      Milk and cream, concentrated or sweetened            85631781  \n",
       "            Milk and cream, neither concentrated nor sweetened    2096771  \n",
       "Germany     Milk and cream, concentrated or sweetened            59776965  \n",
       "            Milk and cream, neither concentrated nor sweetened    4555714  \n",
       "Ireland     Milk and cream, concentrated or sweetened            62936247  \n",
       "            Milk and cream, neither concentrated nor sweetened  111379639  \n",
       "Netherlands Milk and cream, concentrated or sweetened            61531712  \n",
       "Spain       Milk and cream, concentrated or sweetened             5061259  "
      ]
     },
     "execution_count": 241,
     "metadata": {},
     "output_type": "execute_result"
    }
   ],
   "source": [
    "strong_monthly_milk_imports_by_country = strong_milk_countries_imports.groupby(['Partner',\"Commodity\"])[['Trade Value (US$)']]\n",
    "strong_monthly_milk_imports_by_country.aggregate([len, sum])"
   ]
  },
  {
   "cell_type": "markdown",
   "metadata": {},
   "source": [
    "But this only shows the strong traders. Let's go back to the initial dataframe."
   ]
  },
  {
   "cell_type": "code",
   "execution_count": 246,
   "metadata": {
    "collapsed": false
   },
   "outputs": [
    {
     "data": {
      "text/html": [
       "<div>\n",
       "<table border=\"1\" class=\"dataframe\">\n",
       "  <thead>\n",
       "    <tr>\n",
       "      <th></th>\n",
       "      <th></th>\n",
       "      <th colspan=\"2\" halign=\"left\">Trade Value (US$)</th>\n",
       "    </tr>\n",
       "    <tr>\n",
       "      <th></th>\n",
       "      <th></th>\n",
       "      <th>len</th>\n",
       "      <th>sum</th>\n",
       "    </tr>\n",
       "    <tr>\n",
       "      <th>Partner</th>\n",
       "      <th>Commodity</th>\n",
       "      <th></th>\n",
       "      <th></th>\n",
       "    </tr>\n",
       "  </thead>\n",
       "  <tbody>\n",
       "    <tr>\n",
       "      <th>Austria</th>\n",
       "      <th>Milk and cream, concentrated or sweetened</th>\n",
       "      <td>3</td>\n",
       "      <td>798816</td>\n",
       "    </tr>\n",
       "    <tr>\n",
       "      <th rowspan=\"2\" valign=\"top\">Belgium</th>\n",
       "      <th>Milk and cream, concentrated or sweetened</th>\n",
       "      <td>12</td>\n",
       "      <td>36155409</td>\n",
       "    </tr>\n",
       "    <tr>\n",
       "      <th>Milk and cream, neither concentrated nor sweetened</th>\n",
       "      <td>12</td>\n",
       "      <td>22183336</td>\n",
       "    </tr>\n",
       "    <tr>\n",
       "      <th rowspan=\"2\" valign=\"top\">Czech Rep.</th>\n",
       "      <th>Milk and cream, concentrated or sweetened</th>\n",
       "      <td>7</td>\n",
       "      <td>1178586</td>\n",
       "    </tr>\n",
       "    <tr>\n",
       "      <th>Milk and cream, neither concentrated nor sweetened</th>\n",
       "      <td>2</td>\n",
       "      <td>76403</td>\n",
       "    </tr>\n",
       "    <tr>\n",
       "      <th rowspan=\"2\" valign=\"top\">Denmark</th>\n",
       "      <th>Milk and cream, concentrated or sweetened</th>\n",
       "      <td>7</td>\n",
       "      <td>1102035</td>\n",
       "    </tr>\n",
       "    <tr>\n",
       "      <th>Milk and cream, neither concentrated nor sweetened</th>\n",
       "      <td>12</td>\n",
       "      <td>29432607</td>\n",
       "    </tr>\n",
       "    <tr>\n",
       "      <th>Finland</th>\n",
       "      <th>Milk and cream, neither concentrated nor sweetened</th>\n",
       "      <td>1</td>\n",
       "      <td>12</td>\n",
       "    </tr>\n",
       "    <tr>\n",
       "      <th rowspan=\"2\" valign=\"top\">France</th>\n",
       "      <th>Milk and cream, concentrated or sweetened</th>\n",
       "      <td>12</td>\n",
       "      <td>85631781</td>\n",
       "    </tr>\n",
       "    <tr>\n",
       "      <th>Milk and cream, neither concentrated nor sweetened</th>\n",
       "      <td>12</td>\n",
       "      <td>19376395</td>\n",
       "    </tr>\n",
       "    <tr>\n",
       "      <th rowspan=\"2\" valign=\"top\">Germany</th>\n",
       "      <th>Milk and cream, concentrated or sweetened</th>\n",
       "      <td>12</td>\n",
       "      <td>59776965</td>\n",
       "    </tr>\n",
       "    <tr>\n",
       "      <th>Milk and cream, neither concentrated nor sweetened</th>\n",
       "      <td>12</td>\n",
       "      <td>16835735</td>\n",
       "    </tr>\n",
       "    <tr>\n",
       "      <th>Greece</th>\n",
       "      <th>Milk and cream, concentrated or sweetened</th>\n",
       "      <td>1</td>\n",
       "      <td>7</td>\n",
       "    </tr>\n",
       "    <tr>\n",
       "      <th>Hungary</th>\n",
       "      <th>Milk and cream, concentrated or sweetened</th>\n",
       "      <td>8</td>\n",
       "      <td>4956</td>\n",
       "    </tr>\n",
       "    <tr>\n",
       "      <th rowspan=\"2\" valign=\"top\">Ireland</th>\n",
       "      <th>Milk and cream, concentrated or sweetened</th>\n",
       "      <td>12</td>\n",
       "      <td>62936247</td>\n",
       "    </tr>\n",
       "    <tr>\n",
       "      <th>Milk and cream, neither concentrated nor sweetened</th>\n",
       "      <td>12</td>\n",
       "      <td>111379639</td>\n",
       "    </tr>\n",
       "    <tr>\n",
       "      <th rowspan=\"2\" valign=\"top\">Italy</th>\n",
       "      <th>Milk and cream, concentrated or sweetened</th>\n",
       "      <td>12</td>\n",
       "      <td>2219507</td>\n",
       "    </tr>\n",
       "    <tr>\n",
       "      <th>Milk and cream, neither concentrated nor sweetened</th>\n",
       "      <td>12</td>\n",
       "      <td>81328</td>\n",
       "    </tr>\n",
       "    <tr>\n",
       "      <th rowspan=\"2\" valign=\"top\">Latvia</th>\n",
       "      <th>Milk and cream, concentrated or sweetened</th>\n",
       "      <td>1</td>\n",
       "      <td>432</td>\n",
       "    </tr>\n",
       "    <tr>\n",
       "      <th>Milk and cream, neither concentrated nor sweetened</th>\n",
       "      <td>4</td>\n",
       "      <td>1678</td>\n",
       "    </tr>\n",
       "    <tr>\n",
       "      <th rowspan=\"2\" valign=\"top\">Lithuania</th>\n",
       "      <th>Milk and cream, concentrated or sweetened</th>\n",
       "      <td>12</td>\n",
       "      <td>484493</td>\n",
       "    </tr>\n",
       "    <tr>\n",
       "      <th>Milk and cream, neither concentrated nor sweetened</th>\n",
       "      <td>12</td>\n",
       "      <td>93164</td>\n",
       "    </tr>\n",
       "    <tr>\n",
       "      <th>Luxembourg</th>\n",
       "      <th>Milk and cream, concentrated or sweetened</th>\n",
       "      <td>1</td>\n",
       "      <td>23724</td>\n",
       "    </tr>\n",
       "    <tr>\n",
       "      <th rowspan=\"2\" valign=\"top\">Netherlands</th>\n",
       "      <th>Milk and cream, concentrated or sweetened</th>\n",
       "      <td>12</td>\n",
       "      <td>61531712</td>\n",
       "    </tr>\n",
       "    <tr>\n",
       "      <th>Milk and cream, neither concentrated nor sweetened</th>\n",
       "      <td>12</td>\n",
       "      <td>10677523</td>\n",
       "    </tr>\n",
       "    <tr>\n",
       "      <th>New Zealand</th>\n",
       "      <th>Milk and cream, concentrated or sweetened</th>\n",
       "      <td>1</td>\n",
       "      <td>19291</td>\n",
       "    </tr>\n",
       "    <tr>\n",
       "      <th rowspan=\"2\" valign=\"top\">Poland</th>\n",
       "      <th>Milk and cream, concentrated or sweetened</th>\n",
       "      <td>12</td>\n",
       "      <td>6725337</td>\n",
       "    </tr>\n",
       "    <tr>\n",
       "      <th>Milk and cream, neither concentrated nor sweetened</th>\n",
       "      <td>12</td>\n",
       "      <td>8234575</td>\n",
       "    </tr>\n",
       "    <tr>\n",
       "      <th rowspan=\"2\" valign=\"top\">Portugal</th>\n",
       "      <th>Milk and cream, concentrated or sweetened</th>\n",
       "      <td>12</td>\n",
       "      <td>121342</td>\n",
       "    </tr>\n",
       "    <tr>\n",
       "      <th>Milk and cream, neither concentrated nor sweetened</th>\n",
       "      <td>11</td>\n",
       "      <td>125465</td>\n",
       "    </tr>\n",
       "    <tr>\n",
       "      <th>Romania</th>\n",
       "      <th>Milk and cream, neither concentrated nor sweetened</th>\n",
       "      <td>12</td>\n",
       "      <td>2706179</td>\n",
       "    </tr>\n",
       "    <tr>\n",
       "      <th rowspan=\"2\" valign=\"top\">Slovakia</th>\n",
       "      <th>Milk and cream, concentrated or sweetened</th>\n",
       "      <td>7</td>\n",
       "      <td>529810</td>\n",
       "    </tr>\n",
       "    <tr>\n",
       "      <th>Milk and cream, neither concentrated nor sweetened</th>\n",
       "      <td>3</td>\n",
       "      <td>89615</td>\n",
       "    </tr>\n",
       "    <tr>\n",
       "      <th rowspan=\"2\" valign=\"top\">Spain</th>\n",
       "      <th>Milk and cream, concentrated or sweetened</th>\n",
       "      <td>12</td>\n",
       "      <td>16919483</td>\n",
       "    </tr>\n",
       "    <tr>\n",
       "      <th>Milk and cream, neither concentrated nor sweetened</th>\n",
       "      <td>1</td>\n",
       "      <td>68</td>\n",
       "    </tr>\n",
       "    <tr>\n",
       "      <th rowspan=\"2\" valign=\"top\">Sweden</th>\n",
       "      <th>Milk and cream, concentrated or sweetened</th>\n",
       "      <td>12</td>\n",
       "      <td>5607084</td>\n",
       "    </tr>\n",
       "    <tr>\n",
       "      <th>Milk and cream, neither concentrated nor sweetened</th>\n",
       "      <td>11</td>\n",
       "      <td>769634</td>\n",
       "    </tr>\n",
       "    <tr>\n",
       "      <th>Ukraine</th>\n",
       "      <th>Milk and cream, neither concentrated nor sweetened</th>\n",
       "      <td>1</td>\n",
       "      <td>3733</td>\n",
       "    </tr>\n",
       "    <tr>\n",
       "      <th rowspan=\"2\" valign=\"top\">United Arab Emirates</th>\n",
       "      <th>Milk and cream, concentrated or sweetened</th>\n",
       "      <td>2</td>\n",
       "      <td>5779</td>\n",
       "    </tr>\n",
       "    <tr>\n",
       "      <th>Milk and cream, neither concentrated nor sweetened</th>\n",
       "      <td>8</td>\n",
       "      <td>38267</td>\n",
       "    </tr>\n",
       "    <tr>\n",
       "      <th rowspan=\"2\" valign=\"top\">United States of America</th>\n",
       "      <th>Milk and cream, concentrated or sweetened</th>\n",
       "      <td>2</td>\n",
       "      <td>4375</td>\n",
       "    </tr>\n",
       "    <tr>\n",
       "      <th>Milk and cream, neither concentrated nor sweetened</th>\n",
       "      <td>1</td>\n",
       "      <td>2415</td>\n",
       "    </tr>\n",
       "  </tbody>\n",
       "</table>\n",
       "</div>"
      ],
      "text/plain": [
       "                                                                            Trade Value (US$)  \\\n",
       "                                                                                          len   \n",
       "Partner                  Commodity                                                              \n",
       "Austria                  Milk and cream, concentrated or sweetened                          3   \n",
       "Belgium                  Milk and cream, concentrated or sweetened                         12   \n",
       "                         Milk and cream, neither concentrated nor sweetened                12   \n",
       "Czech Rep.               Milk and cream, concentrated or sweetened                          7   \n",
       "                         Milk and cream, neither concentrated nor sweetened                 2   \n",
       "Denmark                  Milk and cream, concentrated or sweetened                          7   \n",
       "                         Milk and cream, neither concentrated nor sweetened                12   \n",
       "Finland                  Milk and cream, neither concentrated nor sweetened                 1   \n",
       "France                   Milk and cream, concentrated or sweetened                         12   \n",
       "                         Milk and cream, neither concentrated nor sweetened                12   \n",
       "Germany                  Milk and cream, concentrated or sweetened                         12   \n",
       "                         Milk and cream, neither concentrated nor sweetened                12   \n",
       "Greece                   Milk and cream, concentrated or sweetened                          1   \n",
       "Hungary                  Milk and cream, concentrated or sweetened                          8   \n",
       "Ireland                  Milk and cream, concentrated or sweetened                         12   \n",
       "                         Milk and cream, neither concentrated nor sweetened                12   \n",
       "Italy                    Milk and cream, concentrated or sweetened                         12   \n",
       "                         Milk and cream, neither concentrated nor sweetened                12   \n",
       "Latvia                   Milk and cream, concentrated or sweetened                          1   \n",
       "                         Milk and cream, neither concentrated nor sweetened                 4   \n",
       "Lithuania                Milk and cream, concentrated or sweetened                         12   \n",
       "                         Milk and cream, neither concentrated nor sweetened                12   \n",
       "Luxembourg               Milk and cream, concentrated or sweetened                          1   \n",
       "Netherlands              Milk and cream, concentrated or sweetened                         12   \n",
       "                         Milk and cream, neither concentrated nor sweetened                12   \n",
       "New Zealand              Milk and cream, concentrated or sweetened                          1   \n",
       "Poland                   Milk and cream, concentrated or sweetened                         12   \n",
       "                         Milk and cream, neither concentrated nor sweetened                12   \n",
       "Portugal                 Milk and cream, concentrated or sweetened                         12   \n",
       "                         Milk and cream, neither concentrated nor sweetened                11   \n",
       "Romania                  Milk and cream, neither concentrated nor sweetened                12   \n",
       "Slovakia                 Milk and cream, concentrated or sweetened                          7   \n",
       "                         Milk and cream, neither concentrated nor sweetened                 3   \n",
       "Spain                    Milk and cream, concentrated or sweetened                         12   \n",
       "                         Milk and cream, neither concentrated nor sweetened                 1   \n",
       "Sweden                   Milk and cream, concentrated or sweetened                         12   \n",
       "                         Milk and cream, neither concentrated nor sweetened                11   \n",
       "Ukraine                  Milk and cream, neither concentrated nor sweetened                 1   \n",
       "United Arab Emirates     Milk and cream, concentrated or sweetened                          2   \n",
       "                         Milk and cream, neither concentrated nor sweetened                 8   \n",
       "United States of America Milk and cream, concentrated or sweetened                          2   \n",
       "                         Milk and cream, neither concentrated nor sweetened                 1   \n",
       "\n",
       "                                                                                        \n",
       "                                                                                   sum  \n",
       "Partner                  Commodity                                                      \n",
       "Austria                  Milk and cream, concentrated or sweetened              798816  \n",
       "Belgium                  Milk and cream, concentrated or sweetened            36155409  \n",
       "                         Milk and cream, neither concentrated nor sweetened   22183336  \n",
       "Czech Rep.               Milk and cream, concentrated or sweetened             1178586  \n",
       "                         Milk and cream, neither concentrated nor sweetened      76403  \n",
       "Denmark                  Milk and cream, concentrated or sweetened             1102035  \n",
       "                         Milk and cream, neither concentrated nor sweetened   29432607  \n",
       "Finland                  Milk and cream, neither concentrated nor sweetened         12  \n",
       "France                   Milk and cream, concentrated or sweetened            85631781  \n",
       "                         Milk and cream, neither concentrated nor sweetened   19376395  \n",
       "Germany                  Milk and cream, concentrated or sweetened            59776965  \n",
       "                         Milk and cream, neither concentrated nor sweetened   16835735  \n",
       "Greece                   Milk and cream, concentrated or sweetened                   7  \n",
       "Hungary                  Milk and cream, concentrated or sweetened                4956  \n",
       "Ireland                  Milk and cream, concentrated or sweetened            62936247  \n",
       "                         Milk and cream, neither concentrated nor sweetened  111379639  \n",
       "Italy                    Milk and cream, concentrated or sweetened             2219507  \n",
       "                         Milk and cream, neither concentrated nor sweetened      81328  \n",
       "Latvia                   Milk and cream, concentrated or sweetened                 432  \n",
       "                         Milk and cream, neither concentrated nor sweetened       1678  \n",
       "Lithuania                Milk and cream, concentrated or sweetened              484493  \n",
       "                         Milk and cream, neither concentrated nor sweetened      93164  \n",
       "Luxembourg               Milk and cream, concentrated or sweetened               23724  \n",
       "Netherlands              Milk and cream, concentrated or sweetened            61531712  \n",
       "                         Milk and cream, neither concentrated nor sweetened   10677523  \n",
       "New Zealand              Milk and cream, concentrated or sweetened               19291  \n",
       "Poland                   Milk and cream, concentrated or sweetened             6725337  \n",
       "                         Milk and cream, neither concentrated nor sweetened    8234575  \n",
       "Portugal                 Milk and cream, concentrated or sweetened              121342  \n",
       "                         Milk and cream, neither concentrated nor sweetened     125465  \n",
       "Romania                  Milk and cream, neither concentrated nor sweetened    2706179  \n",
       "Slovakia                 Milk and cream, concentrated or sweetened              529810  \n",
       "                         Milk and cream, neither concentrated nor sweetened      89615  \n",
       "Spain                    Milk and cream, concentrated or sweetened            16919483  \n",
       "                         Milk and cream, neither concentrated nor sweetened         68  \n",
       "Sweden                   Milk and cream, concentrated or sweetened             5607084  \n",
       "                         Milk and cream, neither concentrated nor sweetened     769634  \n",
       "Ukraine                  Milk and cream, neither concentrated nor sweetened       3733  \n",
       "United Arab Emirates     Milk and cream, concentrated or sweetened                5779  \n",
       "                         Milk and cream, neither concentrated nor sweetened      38267  \n",
       "United States of America Milk and cream, concentrated or sweetened                4375  \n",
       "                         Milk and cream, neither concentrated nor sweetened       2415  "
      ]
     },
     "execution_count": 246,
     "metadata": {},
     "output_type": "execute_result"
    }
   ],
   "source": [
    "milk_countries_imports.groupby([\"Partner\", \"Commodity\"])[[\"Trade Value (US$)\"]].aggregate([len, sum])"
   ]
  },
  {
   "cell_type": "markdown",
   "metadata": {},
   "source": [
    "Now, lets filter this by weak traders one more time."
   ]
  },
  {
   "cell_type": "code",
   "execution_count": 252,
   "metadata": {
    "collapsed": false
   },
   "outputs": [
    {
     "data": {
      "text/html": [
       "<div>\n",
       "<table border=\"1\" class=\"dataframe\">\n",
       "  <thead>\n",
       "    <tr style=\"text-align: right;\">\n",
       "      <th></th>\n",
       "      <th></th>\n",
       "      <th></th>\n",
       "      <th>len</th>\n",
       "      <th>sum</th>\n",
       "    </tr>\n",
       "    <tr>\n",
       "      <th>Partner</th>\n",
       "      <th>Commodity</th>\n",
       "      <th>Period</th>\n",
       "      <th></th>\n",
       "      <th></th>\n",
       "    </tr>\n",
       "  </thead>\n",
       "  <tbody>\n",
       "    <tr>\n",
       "      <th>Finland</th>\n",
       "      <th>Milk and cream, neither concentrated nor sweetened</th>\n",
       "      <th>201402</th>\n",
       "      <td>1</td>\n",
       "      <td>12</td>\n",
       "    </tr>\n",
       "    <tr>\n",
       "      <th>Greece</th>\n",
       "      <th>Milk and cream, concentrated or sweetened</th>\n",
       "      <th>201405</th>\n",
       "      <td>1</td>\n",
       "      <td>7</td>\n",
       "    </tr>\n",
       "    <tr>\n",
       "      <th rowspan=\"8\" valign=\"top\">Hungary</th>\n",
       "      <th rowspan=\"8\" valign=\"top\">Milk and cream, concentrated or sweetened</th>\n",
       "      <th>201404</th>\n",
       "      <td>1</td>\n",
       "      <td>346</td>\n",
       "    </tr>\n",
       "    <tr>\n",
       "      <th>201406</th>\n",
       "      <td>1</td>\n",
       "      <td>1065</td>\n",
       "    </tr>\n",
       "    <tr>\n",
       "      <th>201407</th>\n",
       "      <td>1</td>\n",
       "      <td>734</td>\n",
       "    </tr>\n",
       "    <tr>\n",
       "      <th>201408</th>\n",
       "      <td>1</td>\n",
       "      <td>292</td>\n",
       "    </tr>\n",
       "    <tr>\n",
       "      <th>201409</th>\n",
       "      <td>1</td>\n",
       "      <td>284</td>\n",
       "    </tr>\n",
       "    <tr>\n",
       "      <th>201410</th>\n",
       "      <td>1</td>\n",
       "      <td>623</td>\n",
       "    </tr>\n",
       "    <tr>\n",
       "      <th>201411</th>\n",
       "      <td>1</td>\n",
       "      <td>1201</td>\n",
       "    </tr>\n",
       "    <tr>\n",
       "      <th>201412</th>\n",
       "      <td>1</td>\n",
       "      <td>411</td>\n",
       "    </tr>\n",
       "    <tr>\n",
       "      <th rowspan=\"5\" valign=\"top\">Latvia</th>\n",
       "      <th>Milk and cream, concentrated or sweetened</th>\n",
       "      <th>201410</th>\n",
       "      <td>1</td>\n",
       "      <td>432</td>\n",
       "    </tr>\n",
       "    <tr>\n",
       "      <th rowspan=\"4\" valign=\"top\">Milk and cream, neither concentrated nor sweetened</th>\n",
       "      <th>201404</th>\n",
       "      <td>1</td>\n",
       "      <td>567</td>\n",
       "    </tr>\n",
       "    <tr>\n",
       "      <th>201406</th>\n",
       "      <td>1</td>\n",
       "      <td>250</td>\n",
       "    </tr>\n",
       "    <tr>\n",
       "      <th>201409</th>\n",
       "      <td>1</td>\n",
       "      <td>440</td>\n",
       "    </tr>\n",
       "    <tr>\n",
       "      <th>201411</th>\n",
       "      <td>1</td>\n",
       "      <td>421</td>\n",
       "    </tr>\n",
       "    <tr>\n",
       "      <th>Luxembourg</th>\n",
       "      <th>Milk and cream, concentrated or sweetened</th>\n",
       "      <th>201403</th>\n",
       "      <td>1</td>\n",
       "      <td>23724</td>\n",
       "    </tr>\n",
       "    <tr>\n",
       "      <th>New Zealand</th>\n",
       "      <th>Milk and cream, concentrated or sweetened</th>\n",
       "      <th>201406</th>\n",
       "      <td>1</td>\n",
       "      <td>19291</td>\n",
       "    </tr>\n",
       "    <tr>\n",
       "      <th>Spain</th>\n",
       "      <th>Milk and cream, neither concentrated nor sweetened</th>\n",
       "      <th>201401</th>\n",
       "      <td>1</td>\n",
       "      <td>68</td>\n",
       "    </tr>\n",
       "    <tr>\n",
       "      <th>Ukraine</th>\n",
       "      <th>Milk and cream, neither concentrated nor sweetened</th>\n",
       "      <th>201402</th>\n",
       "      <td>1</td>\n",
       "      <td>3733</td>\n",
       "    </tr>\n",
       "    <tr>\n",
       "      <th rowspan=\"2\" valign=\"top\">United Arab Emirates</th>\n",
       "      <th rowspan=\"2\" valign=\"top\">Milk and cream, concentrated or sweetened</th>\n",
       "      <th>201404</th>\n",
       "      <td>1</td>\n",
       "      <td>3388</td>\n",
       "    </tr>\n",
       "    <tr>\n",
       "      <th>201410</th>\n",
       "      <td>1</td>\n",
       "      <td>2391</td>\n",
       "    </tr>\n",
       "    <tr>\n",
       "      <th rowspan=\"3\" valign=\"top\">United States of America</th>\n",
       "      <th rowspan=\"2\" valign=\"top\">Milk and cream, concentrated or sweetened</th>\n",
       "      <th>201402</th>\n",
       "      <td>1</td>\n",
       "      <td>1914</td>\n",
       "    </tr>\n",
       "    <tr>\n",
       "      <th>201404</th>\n",
       "      <td>1</td>\n",
       "      <td>2461</td>\n",
       "    </tr>\n",
       "    <tr>\n",
       "      <th>Milk and cream, neither concentrated nor sweetened</th>\n",
       "      <th>201404</th>\n",
       "      <td>1</td>\n",
       "      <td>2415</td>\n",
       "    </tr>\n",
       "  </tbody>\n",
       "</table>\n",
       "</div>"
      ],
      "text/plain": [
       "                                                                                    len  \\\n",
       "Partner                  Commodity                                          Period        \n",
       "Finland                  Milk and cream, neither concentrated nor sweetened 201402    1   \n",
       "Greece                   Milk and cream, concentrated or sweetened          201405    1   \n",
       "Hungary                  Milk and cream, concentrated or sweetened          201404    1   \n",
       "                                                                            201406    1   \n",
       "                                                                            201407    1   \n",
       "                                                                            201408    1   \n",
       "                                                                            201409    1   \n",
       "                                                                            201410    1   \n",
       "                                                                            201411    1   \n",
       "                                                                            201412    1   \n",
       "Latvia                   Milk and cream, concentrated or sweetened          201410    1   \n",
       "                         Milk and cream, neither concentrated nor sweetened 201404    1   \n",
       "                                                                            201406    1   \n",
       "                                                                            201409    1   \n",
       "                                                                            201411    1   \n",
       "Luxembourg               Milk and cream, concentrated or sweetened          201403    1   \n",
       "New Zealand              Milk and cream, concentrated or sweetened          201406    1   \n",
       "Spain                    Milk and cream, neither concentrated nor sweetened 201401    1   \n",
       "Ukraine                  Milk and cream, neither concentrated nor sweetened 201402    1   \n",
       "United Arab Emirates     Milk and cream, concentrated or sweetened          201404    1   \n",
       "                                                                            201410    1   \n",
       "United States of America Milk and cream, concentrated or sweetened          201402    1   \n",
       "                                                                            201404    1   \n",
       "                         Milk and cream, neither concentrated nor sweetened 201404    1   \n",
       "\n",
       "                                                                                      sum  \n",
       "Partner                  Commodity                                          Period         \n",
       "Finland                  Milk and cream, neither concentrated nor sweetened 201402     12  \n",
       "Greece                   Milk and cream, concentrated or sweetened          201405      7  \n",
       "Hungary                  Milk and cream, concentrated or sweetened          201404    346  \n",
       "                                                                            201406   1065  \n",
       "                                                                            201407    734  \n",
       "                                                                            201408    292  \n",
       "                                                                            201409    284  \n",
       "                                                                            201410    623  \n",
       "                                                                            201411   1201  \n",
       "                                                                            201412    411  \n",
       "Latvia                   Milk and cream, concentrated or sweetened          201410    432  \n",
       "                         Milk and cream, neither concentrated nor sweetened 201404    567  \n",
       "                                                                            201406    250  \n",
       "                                                                            201409    440  \n",
       "                                                                            201411    421  \n",
       "Luxembourg               Milk and cream, concentrated or sweetened          201403  23724  \n",
       "New Zealand              Milk and cream, concentrated or sweetened          201406  19291  \n",
       "Spain                    Milk and cream, neither concentrated nor sweetened 201401     68  \n",
       "Ukraine                  Milk and cream, neither concentrated nor sweetened 201402   3733  \n",
       "United Arab Emirates     Milk and cream, concentrated or sweetened          201404   3388  \n",
       "                                                                            201410   2391  \n",
       "United States of America Milk and cream, concentrated or sweetened          201402   1914  \n",
       "                                                                            201404   2461  \n",
       "                         Milk and cream, neither concentrated nor sweetened 201404   2415  "
      ]
     },
     "execution_count": 252,
     "metadata": {},
     "output_type": "execute_result"
    }
   ],
   "source": [
    "TV = \"Trade Value (US$)\"\n",
    "weak_milk_countries_imports\n",
    "weak_milk_countries_imports.groupby([\"Partner\", \"Commodity\",\"Period\"]).aggregate([len, sum])[TV]"
   ]
  },
  {
   "cell_type": "markdown",
   "metadata": {},
   "source": [
    "\n",
    "\n",
    "> Which partners trade on a regular basis (for example, in at least nine of the months)? "
   ]
  },
  {
   "cell_type": "code",
   "execution_count": 279,
   "metadata": {
    "collapsed": false
   },
   "outputs": [],
   "source": [
    "def atleastNineTradingMonths(g):\n",
    "    return len(g) >= 9\n"
   ]
  },
  {
   "cell_type": "markdown",
   "metadata": {},
   "source": [
    "How add lets see what we get back"
   ]
  },
  {
   "cell_type": "code",
   "execution_count": 282,
   "metadata": {
    "collapsed": false
   },
   "outputs": [
    {
     "data": {
      "text/html": [
       "<div>\n",
       "<table border=\"1\" class=\"dataframe\">\n",
       "  <thead>\n",
       "    <tr style=\"text-align: right;\">\n",
       "      <th></th>\n",
       "      <th></th>\n",
       "      <th></th>\n",
       "      <th>len</th>\n",
       "    </tr>\n",
       "    <tr>\n",
       "      <th>Partner</th>\n",
       "      <th>Commodity</th>\n",
       "      <th>Period</th>\n",
       "      <th></th>\n",
       "    </tr>\n",
       "  </thead>\n",
       "  <tbody>\n",
       "    <tr>\n",
       "      <th rowspan=\"3\" valign=\"top\">Austria</th>\n",
       "      <th rowspan=\"3\" valign=\"top\">Milk and cream, concentrated or sweetened</th>\n",
       "      <th>201409</th>\n",
       "      <td>1</td>\n",
       "    </tr>\n",
       "    <tr>\n",
       "      <th>201410</th>\n",
       "      <td>1</td>\n",
       "    </tr>\n",
       "    <tr>\n",
       "      <th>201411</th>\n",
       "      <td>1</td>\n",
       "    </tr>\n",
       "    <tr>\n",
       "      <th rowspan=\"24\" valign=\"top\">Belgium</th>\n",
       "      <th rowspan=\"12\" valign=\"top\">Milk and cream, concentrated or sweetened</th>\n",
       "      <th>201401</th>\n",
       "      <td>1</td>\n",
       "    </tr>\n",
       "    <tr>\n",
       "      <th>201402</th>\n",
       "      <td>1</td>\n",
       "    </tr>\n",
       "    <tr>\n",
       "      <th>201403</th>\n",
       "      <td>1</td>\n",
       "    </tr>\n",
       "    <tr>\n",
       "      <th>201404</th>\n",
       "      <td>1</td>\n",
       "    </tr>\n",
       "    <tr>\n",
       "      <th>201405</th>\n",
       "      <td>1</td>\n",
       "    </tr>\n",
       "    <tr>\n",
       "      <th>201406</th>\n",
       "      <td>1</td>\n",
       "    </tr>\n",
       "    <tr>\n",
       "      <th>201407</th>\n",
       "      <td>1</td>\n",
       "    </tr>\n",
       "    <tr>\n",
       "      <th>201408</th>\n",
       "      <td>1</td>\n",
       "    </tr>\n",
       "    <tr>\n",
       "      <th>201409</th>\n",
       "      <td>1</td>\n",
       "    </tr>\n",
       "    <tr>\n",
       "      <th>201410</th>\n",
       "      <td>1</td>\n",
       "    </tr>\n",
       "    <tr>\n",
       "      <th>201411</th>\n",
       "      <td>1</td>\n",
       "    </tr>\n",
       "    <tr>\n",
       "      <th>201412</th>\n",
       "      <td>1</td>\n",
       "    </tr>\n",
       "    <tr>\n",
       "      <th rowspan=\"12\" valign=\"top\">Milk and cream, neither concentrated nor sweetened</th>\n",
       "      <th>201401</th>\n",
       "      <td>1</td>\n",
       "    </tr>\n",
       "    <tr>\n",
       "      <th>201402</th>\n",
       "      <td>1</td>\n",
       "    </tr>\n",
       "    <tr>\n",
       "      <th>201403</th>\n",
       "      <td>1</td>\n",
       "    </tr>\n",
       "    <tr>\n",
       "      <th>201404</th>\n",
       "      <td>1</td>\n",
       "    </tr>\n",
       "    <tr>\n",
       "      <th>201405</th>\n",
       "      <td>1</td>\n",
       "    </tr>\n",
       "    <tr>\n",
       "      <th>201406</th>\n",
       "      <td>1</td>\n",
       "    </tr>\n",
       "    <tr>\n",
       "      <th>201407</th>\n",
       "      <td>1</td>\n",
       "    </tr>\n",
       "    <tr>\n",
       "      <th>201408</th>\n",
       "      <td>1</td>\n",
       "    </tr>\n",
       "    <tr>\n",
       "      <th>201409</th>\n",
       "      <td>1</td>\n",
       "    </tr>\n",
       "    <tr>\n",
       "      <th>201410</th>\n",
       "      <td>1</td>\n",
       "    </tr>\n",
       "    <tr>\n",
       "      <th>201411</th>\n",
       "      <td>1</td>\n",
       "    </tr>\n",
       "    <tr>\n",
       "      <th>201412</th>\n",
       "      <td>1</td>\n",
       "    </tr>\n",
       "    <tr>\n",
       "      <th rowspan=\"3\" valign=\"top\">Czech Rep.</th>\n",
       "      <th rowspan=\"3\" valign=\"top\">Milk and cream, concentrated or sweetened</th>\n",
       "      <th>201404</th>\n",
       "      <td>1</td>\n",
       "    </tr>\n",
       "    <tr>\n",
       "      <th>201405</th>\n",
       "      <td>1</td>\n",
       "    </tr>\n",
       "    <tr>\n",
       "      <th>201406</th>\n",
       "      <td>1</td>\n",
       "    </tr>\n",
       "    <tr>\n",
       "      <th>...</th>\n",
       "      <th>...</th>\n",
       "      <th>...</th>\n",
       "      <td>...</td>\n",
       "    </tr>\n",
       "    <tr>\n",
       "      <th rowspan=\"16\" valign=\"top\">Sweden</th>\n",
       "      <th rowspan=\"5\" valign=\"top\">Milk and cream, concentrated or sweetened</th>\n",
       "      <th>201408</th>\n",
       "      <td>1</td>\n",
       "    </tr>\n",
       "    <tr>\n",
       "      <th>201409</th>\n",
       "      <td>1</td>\n",
       "    </tr>\n",
       "    <tr>\n",
       "      <th>201410</th>\n",
       "      <td>1</td>\n",
       "    </tr>\n",
       "    <tr>\n",
       "      <th>201411</th>\n",
       "      <td>1</td>\n",
       "    </tr>\n",
       "    <tr>\n",
       "      <th>201412</th>\n",
       "      <td>1</td>\n",
       "    </tr>\n",
       "    <tr>\n",
       "      <th rowspan=\"11\" valign=\"top\">Milk and cream, neither concentrated nor sweetened</th>\n",
       "      <th>201401</th>\n",
       "      <td>1</td>\n",
       "    </tr>\n",
       "    <tr>\n",
       "      <th>201402</th>\n",
       "      <td>1</td>\n",
       "    </tr>\n",
       "    <tr>\n",
       "      <th>201403</th>\n",
       "      <td>1</td>\n",
       "    </tr>\n",
       "    <tr>\n",
       "      <th>201404</th>\n",
       "      <td>1</td>\n",
       "    </tr>\n",
       "    <tr>\n",
       "      <th>201405</th>\n",
       "      <td>1</td>\n",
       "    </tr>\n",
       "    <tr>\n",
       "      <th>201406</th>\n",
       "      <td>1</td>\n",
       "    </tr>\n",
       "    <tr>\n",
       "      <th>201407</th>\n",
       "      <td>1</td>\n",
       "    </tr>\n",
       "    <tr>\n",
       "      <th>201408</th>\n",
       "      <td>1</td>\n",
       "    </tr>\n",
       "    <tr>\n",
       "      <th>201410</th>\n",
       "      <td>1</td>\n",
       "    </tr>\n",
       "    <tr>\n",
       "      <th>201411</th>\n",
       "      <td>1</td>\n",
       "    </tr>\n",
       "    <tr>\n",
       "      <th>201412</th>\n",
       "      <td>1</td>\n",
       "    </tr>\n",
       "    <tr>\n",
       "      <th>Ukraine</th>\n",
       "      <th>Milk and cream, neither concentrated nor sweetened</th>\n",
       "      <th>201402</th>\n",
       "      <td>1</td>\n",
       "    </tr>\n",
       "    <tr>\n",
       "      <th rowspan=\"10\" valign=\"top\">United Arab Emirates</th>\n",
       "      <th rowspan=\"2\" valign=\"top\">Milk and cream, concentrated or sweetened</th>\n",
       "      <th>201404</th>\n",
       "      <td>1</td>\n",
       "    </tr>\n",
       "    <tr>\n",
       "      <th>201410</th>\n",
       "      <td>1</td>\n",
       "    </tr>\n",
       "    <tr>\n",
       "      <th rowspan=\"8\" valign=\"top\">Milk and cream, neither concentrated nor sweetened</th>\n",
       "      <th>201404</th>\n",
       "      <td>1</td>\n",
       "    </tr>\n",
       "    <tr>\n",
       "      <th>201405</th>\n",
       "      <td>1</td>\n",
       "    </tr>\n",
       "    <tr>\n",
       "      <th>201407</th>\n",
       "      <td>1</td>\n",
       "    </tr>\n",
       "    <tr>\n",
       "      <th>201408</th>\n",
       "      <td>1</td>\n",
       "    </tr>\n",
       "    <tr>\n",
       "      <th>201409</th>\n",
       "      <td>1</td>\n",
       "    </tr>\n",
       "    <tr>\n",
       "      <th>201410</th>\n",
       "      <td>1</td>\n",
       "    </tr>\n",
       "    <tr>\n",
       "      <th>201411</th>\n",
       "      <td>1</td>\n",
       "    </tr>\n",
       "    <tr>\n",
       "      <th>201412</th>\n",
       "      <td>1</td>\n",
       "    </tr>\n",
       "    <tr>\n",
       "      <th rowspan=\"3\" valign=\"top\">United States of America</th>\n",
       "      <th rowspan=\"2\" valign=\"top\">Milk and cream, concentrated or sweetened</th>\n",
       "      <th>201402</th>\n",
       "      <td>1</td>\n",
       "    </tr>\n",
       "    <tr>\n",
       "      <th>201404</th>\n",
       "      <td>1</td>\n",
       "    </tr>\n",
       "    <tr>\n",
       "      <th>Milk and cream, neither concentrated nor sweetened</th>\n",
       "      <th>201404</th>\n",
       "      <td>1</td>\n",
       "    </tr>\n",
       "  </tbody>\n",
       "</table>\n",
       "<p>335 rows × 1 columns</p>\n",
       "</div>"
      ],
      "text/plain": [
       "                                                                                    len\n",
       "Partner                  Commodity                                          Period     \n",
       "Austria                  Milk and cream, concentrated or sweetened          201409    1\n",
       "                                                                            201410    1\n",
       "                                                                            201411    1\n",
       "Belgium                  Milk and cream, concentrated or sweetened          201401    1\n",
       "                                                                            201402    1\n",
       "                                                                            201403    1\n",
       "                                                                            201404    1\n",
       "                                                                            201405    1\n",
       "                                                                            201406    1\n",
       "                                                                            201407    1\n",
       "                                                                            201408    1\n",
       "                                                                            201409    1\n",
       "                                                                            201410    1\n",
       "                                                                            201411    1\n",
       "                                                                            201412    1\n",
       "                         Milk and cream, neither concentrated nor sweetened 201401    1\n",
       "                                                                            201402    1\n",
       "                                                                            201403    1\n",
       "                                                                            201404    1\n",
       "                                                                            201405    1\n",
       "                                                                            201406    1\n",
       "                                                                            201407    1\n",
       "                                                                            201408    1\n",
       "                                                                            201409    1\n",
       "                                                                            201410    1\n",
       "                                                                            201411    1\n",
       "                                                                            201412    1\n",
       "Czech Rep.               Milk and cream, concentrated or sweetened          201404    1\n",
       "                                                                            201405    1\n",
       "                                                                            201406    1\n",
       "...                                                                                 ...\n",
       "Sweden                   Milk and cream, concentrated or sweetened          201408    1\n",
       "                                                                            201409    1\n",
       "                                                                            201410    1\n",
       "                                                                            201411    1\n",
       "                                                                            201412    1\n",
       "                         Milk and cream, neither concentrated nor sweetened 201401    1\n",
       "                                                                            201402    1\n",
       "                                                                            201403    1\n",
       "                                                                            201404    1\n",
       "                                                                            201405    1\n",
       "                                                                            201406    1\n",
       "                                                                            201407    1\n",
       "                                                                            201408    1\n",
       "                                                                            201410    1\n",
       "                                                                            201411    1\n",
       "                                                                            201412    1\n",
       "Ukraine                  Milk and cream, neither concentrated nor sweetened 201402    1\n",
       "United Arab Emirates     Milk and cream, concentrated or sweetened          201404    1\n",
       "                                                                            201410    1\n",
       "                         Milk and cream, neither concentrated nor sweetened 201404    1\n",
       "                                                                            201405    1\n",
       "                                                                            201407    1\n",
       "                                                                            201408    1\n",
       "                                                                            201409    1\n",
       "                                                                            201410    1\n",
       "                                                                            201411    1\n",
       "                                                                            201412    1\n",
       "United States of America Milk and cream, concentrated or sweetened          201402    1\n",
       "                                                                            201404    1\n",
       "                         Milk and cream, neither concentrated nor sweetened 201404    1\n",
       "\n",
       "[335 rows x 1 columns]"
      ]
     },
     "execution_count": 282,
     "metadata": {},
     "output_type": "execute_result"
    }
   ],
   "source": [
    "regular_partners = milk_countries_imports.groupby([\"Commodity\"]).filter(atleastNineTradingMonths)\n",
    "regular_partners.groupby([\"Partner\", \"Commodity\", \"Period\"])[TV].aggregate([len])"
   ]
  },
  {
   "cell_type": "markdown",
   "metadata": {},
   "source": [
    "Ths problem here is that some of these trading partners have less than 9 trading months. What am I doing wrong?\n",
    "\n",
    "\n",
    "Ah, found it. I need to group by Partner, otherwise we _only_ have a single grouping to count up inside."
   ]
  },
  {
   "cell_type": "code",
   "execution_count": 288,
   "metadata": {
    "collapsed": false
   },
   "outputs": [
    {
     "data": {
      "text/html": [
       "<div>\n",
       "<table border=\"1\" class=\"dataframe\">\n",
       "  <thead>\n",
       "    <tr style=\"text-align: right;\">\n",
       "      <th></th>\n",
       "      <th></th>\n",
       "      <th>len</th>\n",
       "    </tr>\n",
       "    <tr>\n",
       "      <th>Partner</th>\n",
       "      <th>Commodity</th>\n",
       "      <th></th>\n",
       "    </tr>\n",
       "  </thead>\n",
       "  <tbody>\n",
       "    <tr>\n",
       "      <th rowspan=\"2\" valign=\"top\">Belgium</th>\n",
       "      <th>Milk and cream, concentrated or sweetened</th>\n",
       "      <td>12</td>\n",
       "    </tr>\n",
       "    <tr>\n",
       "      <th>Milk and cream, neither concentrated nor sweetened</th>\n",
       "      <td>12</td>\n",
       "    </tr>\n",
       "    <tr>\n",
       "      <th>Denmark</th>\n",
       "      <th>Milk and cream, neither concentrated nor sweetened</th>\n",
       "      <td>12</td>\n",
       "    </tr>\n",
       "    <tr>\n",
       "      <th rowspan=\"2\" valign=\"top\">France</th>\n",
       "      <th>Milk and cream, concentrated or sweetened</th>\n",
       "      <td>12</td>\n",
       "    </tr>\n",
       "    <tr>\n",
       "      <th>Milk and cream, neither concentrated nor sweetened</th>\n",
       "      <td>12</td>\n",
       "    </tr>\n",
       "    <tr>\n",
       "      <th rowspan=\"2\" valign=\"top\">Germany</th>\n",
       "      <th>Milk and cream, concentrated or sweetened</th>\n",
       "      <td>12</td>\n",
       "    </tr>\n",
       "    <tr>\n",
       "      <th>Milk and cream, neither concentrated nor sweetened</th>\n",
       "      <td>12</td>\n",
       "    </tr>\n",
       "    <tr>\n",
       "      <th rowspan=\"2\" valign=\"top\">Ireland</th>\n",
       "      <th>Milk and cream, concentrated or sweetened</th>\n",
       "      <td>12</td>\n",
       "    </tr>\n",
       "    <tr>\n",
       "      <th>Milk and cream, neither concentrated nor sweetened</th>\n",
       "      <td>12</td>\n",
       "    </tr>\n",
       "    <tr>\n",
       "      <th rowspan=\"2\" valign=\"top\">Italy</th>\n",
       "      <th>Milk and cream, concentrated or sweetened</th>\n",
       "      <td>12</td>\n",
       "    </tr>\n",
       "    <tr>\n",
       "      <th>Milk and cream, neither concentrated nor sweetened</th>\n",
       "      <td>12</td>\n",
       "    </tr>\n",
       "    <tr>\n",
       "      <th rowspan=\"2\" valign=\"top\">Lithuania</th>\n",
       "      <th>Milk and cream, concentrated or sweetened</th>\n",
       "      <td>12</td>\n",
       "    </tr>\n",
       "    <tr>\n",
       "      <th>Milk and cream, neither concentrated nor sweetened</th>\n",
       "      <td>12</td>\n",
       "    </tr>\n",
       "    <tr>\n",
       "      <th rowspan=\"2\" valign=\"top\">Netherlands</th>\n",
       "      <th>Milk and cream, concentrated or sweetened</th>\n",
       "      <td>12</td>\n",
       "    </tr>\n",
       "    <tr>\n",
       "      <th>Milk and cream, neither concentrated nor sweetened</th>\n",
       "      <td>12</td>\n",
       "    </tr>\n",
       "    <tr>\n",
       "      <th rowspan=\"2\" valign=\"top\">Poland</th>\n",
       "      <th>Milk and cream, concentrated or sweetened</th>\n",
       "      <td>12</td>\n",
       "    </tr>\n",
       "    <tr>\n",
       "      <th>Milk and cream, neither concentrated nor sweetened</th>\n",
       "      <td>12</td>\n",
       "    </tr>\n",
       "    <tr>\n",
       "      <th rowspan=\"2\" valign=\"top\">Portugal</th>\n",
       "      <th>Milk and cream, concentrated or sweetened</th>\n",
       "      <td>12</td>\n",
       "    </tr>\n",
       "    <tr>\n",
       "      <th>Milk and cream, neither concentrated nor sweetened</th>\n",
       "      <td>11</td>\n",
       "    </tr>\n",
       "    <tr>\n",
       "      <th>Romania</th>\n",
       "      <th>Milk and cream, neither concentrated nor sweetened</th>\n",
       "      <td>12</td>\n",
       "    </tr>\n",
       "    <tr>\n",
       "      <th>Spain</th>\n",
       "      <th>Milk and cream, concentrated or sweetened</th>\n",
       "      <td>12</td>\n",
       "    </tr>\n",
       "    <tr>\n",
       "      <th rowspan=\"2\" valign=\"top\">Sweden</th>\n",
       "      <th>Milk and cream, concentrated or sweetened</th>\n",
       "      <td>12</td>\n",
       "    </tr>\n",
       "    <tr>\n",
       "      <th>Milk and cream, neither concentrated nor sweetened</th>\n",
       "      <td>11</td>\n",
       "    </tr>\n",
       "  </tbody>\n",
       "</table>\n",
       "</div>"
      ],
      "text/plain": [
       "                                                                len\n",
       "Partner     Commodity                                              \n",
       "Belgium     Milk and cream, concentrated or sweetened            12\n",
       "            Milk and cream, neither concentrated nor sweetened   12\n",
       "Denmark     Milk and cream, neither concentrated nor sweetened   12\n",
       "France      Milk and cream, concentrated or sweetened            12\n",
       "            Milk and cream, neither concentrated nor sweetened   12\n",
       "Germany     Milk and cream, concentrated or sweetened            12\n",
       "            Milk and cream, neither concentrated nor sweetened   12\n",
       "Ireland     Milk and cream, concentrated or sweetened            12\n",
       "            Milk and cream, neither concentrated nor sweetened   12\n",
       "Italy       Milk and cream, concentrated or sweetened            12\n",
       "            Milk and cream, neither concentrated nor sweetened   12\n",
       "Lithuania   Milk and cream, concentrated or sweetened            12\n",
       "            Milk and cream, neither concentrated nor sweetened   12\n",
       "Netherlands Milk and cream, concentrated or sweetened            12\n",
       "            Milk and cream, neither concentrated nor sweetened   12\n",
       "Poland      Milk and cream, concentrated or sweetened            12\n",
       "            Milk and cream, neither concentrated nor sweetened   12\n",
       "Portugal    Milk and cream, concentrated or sweetened            12\n",
       "            Milk and cream, neither concentrated nor sweetened   11\n",
       "Romania     Milk and cream, neither concentrated nor sweetened   12\n",
       "Spain       Milk and cream, concentrated or sweetened            12\n",
       "Sweden      Milk and cream, concentrated or sweetened            12\n",
       "            Milk and cream, neither concentrated nor sweetened   11"
      ]
     },
     "execution_count": 288,
     "metadata": {},
     "output_type": "execute_result"
    }
   ],
   "source": [
    "regular_partners = milk_countries_imports.groupby([\"Partner\", \"Commodity\"]).filter(atleastNineTradingMonths)\n",
    "regular_partners.groupby([\"Partner\", \"Commodity\"])[TV].aggregate([len])"
   ]
  },
  {
   "cell_type": "markdown",
   "metadata": {},
   "source": [
    "> Can you also find countries that trade regularly but only for small amounts (for example whose maximum monthly trade value is less than a certain threshold amount) or who trade infrequently but for large amounts (or other combinations thereof)?"
   ]
  },
  {
   "cell_type": "code",
   "execution_count": 304,
   "metadata": {
    "collapsed": false
   },
   "outputs": [
    {
     "data": {
      "text/html": [
       "<div>\n",
       "<table border=\"1\" class=\"dataframe\">\n",
       "  <thead>\n",
       "    <tr style=\"text-align: right;\">\n",
       "      <th></th>\n",
       "      <th></th>\n",
       "      <th>len</th>\n",
       "      <th>sum</th>\n",
       "    </tr>\n",
       "    <tr>\n",
       "      <th>Partner</th>\n",
       "      <th>Commodity</th>\n",
       "      <th></th>\n",
       "      <th></th>\n",
       "    </tr>\n",
       "  </thead>\n",
       "  <tbody>\n",
       "    <tr>\n",
       "      <th>Austria</th>\n",
       "      <th>Milk and cream, concentrated or sweetened</th>\n",
       "      <td>3</td>\n",
       "      <td>798816</td>\n",
       "    </tr>\n",
       "    <tr>\n",
       "      <th>Czech Rep.</th>\n",
       "      <th>Milk and cream, neither concentrated nor sweetened</th>\n",
       "      <td>2</td>\n",
       "      <td>76403</td>\n",
       "    </tr>\n",
       "    <tr>\n",
       "      <th>Luxembourg</th>\n",
       "      <th>Milk and cream, concentrated or sweetened</th>\n",
       "      <td>1</td>\n",
       "      <td>23724</td>\n",
       "    </tr>\n",
       "    <tr>\n",
       "      <th>New Zealand</th>\n",
       "      <th>Milk and cream, concentrated or sweetened</th>\n",
       "      <td>1</td>\n",
       "      <td>19291</td>\n",
       "    </tr>\n",
       "    <tr>\n",
       "      <th>Slovakia</th>\n",
       "      <th>Milk and cream, neither concentrated nor sweetened</th>\n",
       "      <td>3</td>\n",
       "      <td>89615</td>\n",
       "    </tr>\n",
       "  </tbody>\n",
       "</table>\n",
       "</div>"
      ],
      "text/plain": [
       "                                                                len     sum\n",
       "Partner     Commodity                                                      \n",
       "Austria     Milk and cream, concentrated or sweetened             3  798816\n",
       "Czech Rep.  Milk and cream, neither concentrated nor sweetened    2   76403\n",
       "Luxembourg  Milk and cream, concentrated or sweetened             1   23724\n",
       "New Zealand Milk and cream, concentrated or sweetened             1   19291\n",
       "Slovakia    Milk and cream, neither concentrated nor sweetened    3   89615"
      ]
     },
     "execution_count": 304,
     "metadata": {},
     "output_type": "execute_result"
    }
   ],
   "source": [
    "def big_but_infrequent(g):\n",
    "    return len(g) <  6 and g[TV].sum() > (10 * 1000)\n",
    "\n",
    "infrequent_big_spenders = milk_countries_imports.groupby([\"Partner\", \"Commodity\"]).filter(big_but_infrequent)\n",
    "infrequent_big_spenders.groupby([\"Partner\", \"Commodity\"])[TV].aggregate([len, sum])"
   ]
  },
  {
   "cell_type": "code",
   "execution_count": 311,
   "metadata": {
    "collapsed": false
   },
   "outputs": [
    {
     "data": {
      "text/html": [
       "<div>\n",
       "<table border=\"1\" class=\"dataframe\">\n",
       "  <thead>\n",
       "    <tr style=\"text-align: right;\">\n",
       "      <th></th>\n",
       "      <th></th>\n",
       "      <th>len</th>\n",
       "      <th>sum</th>\n",
       "    </tr>\n",
       "    <tr>\n",
       "      <th>Partner</th>\n",
       "      <th>Commodity</th>\n",
       "      <th></th>\n",
       "      <th></th>\n",
       "    </tr>\n",
       "  </thead>\n",
       "  <tbody>\n",
       "    <tr>\n",
       "      <th>Czech Rep.</th>\n",
       "      <th>Milk and cream, concentrated or sweetened</th>\n",
       "      <td>7</td>\n",
       "      <td>1178586</td>\n",
       "    </tr>\n",
       "    <tr>\n",
       "      <th>Denmark</th>\n",
       "      <th>Milk and cream, concentrated or sweetened</th>\n",
       "      <td>7</td>\n",
       "      <td>1102035</td>\n",
       "    </tr>\n",
       "    <tr>\n",
       "      <th>Hungary</th>\n",
       "      <th>Milk and cream, concentrated or sweetened</th>\n",
       "      <td>8</td>\n",
       "      <td>4956</td>\n",
       "    </tr>\n",
       "    <tr>\n",
       "      <th>Italy</th>\n",
       "      <th>Milk and cream, neither concentrated nor sweetened</th>\n",
       "      <td>12</td>\n",
       "      <td>81328</td>\n",
       "    </tr>\n",
       "    <tr>\n",
       "      <th rowspan=\"2\" valign=\"top\">Lithuania</th>\n",
       "      <th>Milk and cream, concentrated or sweetened</th>\n",
       "      <td>12</td>\n",
       "      <td>484493</td>\n",
       "    </tr>\n",
       "    <tr>\n",
       "      <th>Milk and cream, neither concentrated nor sweetened</th>\n",
       "      <td>12</td>\n",
       "      <td>93164</td>\n",
       "    </tr>\n",
       "    <tr>\n",
       "      <th rowspan=\"2\" valign=\"top\">Portugal</th>\n",
       "      <th>Milk and cream, concentrated or sweetened</th>\n",
       "      <td>12</td>\n",
       "      <td>121342</td>\n",
       "    </tr>\n",
       "    <tr>\n",
       "      <th>Milk and cream, neither concentrated nor sweetened</th>\n",
       "      <td>11</td>\n",
       "      <td>125465</td>\n",
       "    </tr>\n",
       "    <tr>\n",
       "      <th>Slovakia</th>\n",
       "      <th>Milk and cream, concentrated or sweetened</th>\n",
       "      <td>7</td>\n",
       "      <td>529810</td>\n",
       "    </tr>\n",
       "    <tr>\n",
       "      <th>Sweden</th>\n",
       "      <th>Milk and cream, neither concentrated nor sweetened</th>\n",
       "      <td>11</td>\n",
       "      <td>769634</td>\n",
       "    </tr>\n",
       "    <tr>\n",
       "      <th>United Arab Emirates</th>\n",
       "      <th>Milk and cream, neither concentrated nor sweetened</th>\n",
       "      <td>8</td>\n",
       "      <td>38267</td>\n",
       "    </tr>\n",
       "  </tbody>\n",
       "</table>\n",
       "</div>"
      ],
      "text/plain": [
       "                                                                         len  \\\n",
       "Partner              Commodity                                                 \n",
       "Czech Rep.           Milk and cream, concentrated or sweetened             7   \n",
       "Denmark              Milk and cream, concentrated or sweetened             7   \n",
       "Hungary              Milk and cream, concentrated or sweetened             8   \n",
       "Italy                Milk and cream, neither concentrated nor sweetened   12   \n",
       "Lithuania            Milk and cream, concentrated or sweetened            12   \n",
       "                     Milk and cream, neither concentrated nor sweetened   12   \n",
       "Portugal             Milk and cream, concentrated or sweetened            12   \n",
       "                     Milk and cream, neither concentrated nor sweetened   11   \n",
       "Slovakia             Milk and cream, concentrated or sweetened             7   \n",
       "Sweden               Milk and cream, neither concentrated nor sweetened   11   \n",
       "United Arab Emirates Milk and cream, neither concentrated nor sweetened    8   \n",
       "\n",
       "                                                                             sum  \n",
       "Partner              Commodity                                                    \n",
       "Czech Rep.           Milk and cream, concentrated or sweetened           1178586  \n",
       "Denmark              Milk and cream, concentrated or sweetened           1102035  \n",
       "Hungary              Milk and cream, concentrated or sweetened              4956  \n",
       "Italy                Milk and cream, neither concentrated nor sweetened    81328  \n",
       "Lithuania            Milk and cream, concentrated or sweetened            484493  \n",
       "                     Milk and cream, neither concentrated nor sweetened    93164  \n",
       "Portugal             Milk and cream, concentrated or sweetened            121342  \n",
       "                     Milk and cream, neither concentrated nor sweetened   125465  \n",
       "Slovakia             Milk and cream, concentrated or sweetened            529810  \n",
       "Sweden               Milk and cream, neither concentrated nor sweetened   769634  \n",
       "United Arab Emirates Milk and cream, neither concentrated nor sweetened    38267  "
      ]
     },
     "execution_count": 311,
     "metadata": {},
     "output_type": "execute_result"
    }
   ],
   "source": [
    "def regular_but_frugal(g):\n",
    "    return len(g) >  6 and g[TV].sum() < (2 * 1000 * 1000)\n",
    "\n",
    "regular_but_frugal_spenders = milk_countries_imports.groupby([\"Partner\", \"Commodity\"]).filter(regular_but_frugal)\n",
    "regular_but_frugal_spenders.groupby([\"Partner\", \"Commodity\"])[TV].aggregate([len, sum])"
   ]
  },
  {
   "cell_type": "markdown",
   "metadata": {},
   "source": [
    "\n",
    "**Now go back to the Exercise 4 step in FutureLearn to discuss and mark it complete.**"
   ]
  },
  {
   "cell_type": "markdown",
   "metadata": {},
   "source": [
    "## Exercise 5: Interactive pivot table\n",
    "\n",
    "The interactive pivot table contains a fragment of the milk data downloaded from Comtrade relating to the leading partner importers of milk products to the UK. (**Note:** If you can't see the pivot table, check you have downloaded it to the same folder as this notebook and run the cell below.)\n",
    "\n",
    "Configure the pivot table by dragging the labels into the appropriate row and column selection areas. (You do not need to add all the labels to those areas). Select the aggregation type using the calculation list (which defauts to *count*). Click on the down arrow associated with a label in order to select a subset of values associated with that label.\n",
    "\n",
    "Use the interactive pivot table to generate reports that display:\n",
    "\n",
    "- a single column containing the total value of each trade flow for each commodity  each year (in rows: Year, Commodity, Trade Flow; no columns; sum Trade Value(US$))\n",
    "- for each year and each commodity, a column containing the total trade value by Trade flow (rows: year, commodity; cols Trade Flow; sum trade value)\n",
    "- the total exports for each partner country (rows) by year (columns). Row: partner, trade flow with filter set to export); col: year; sum trade value"
   ]
  },
  {
   "cell_type": "code",
   "execution_count": 312,
   "metadata": {
    "activity": false,
    "collapsed": false,
    "run_control": {
     "read_only": false
    }
   },
   "outputs": [
    {
     "data": {
      "text/html": [
       "\n",
       "        <iframe\n",
       "            width=\"1000\"\n",
       "            height=\"600\"\n",
       "            src=\"comtrade_pivot.html\"\n",
       "            frameborder=\"0\"\n",
       "            allowfullscreen\n",
       "        ></iframe>\n",
       "        "
      ],
      "text/plain": [
       "<IPython.lib.display.IFrame at 0x114267160>"
      ]
     },
     "execution_count": 312,
     "metadata": {},
     "output_type": "execute_result"
    }
   ],
   "source": [
    "from IPython.display import HTML,IFrame\n",
    "\n",
    "IFrame('comtrade_pivot.html',width=1000,height=600)\n"
   ]
  },
  {
   "cell_type": "markdown",
   "metadata": {},
   "source": [
    "## Task\n",
    "\n",
    "Try to come up with some of your own questions and then see if you can use the pivot table to answer them.\n",
    "\n",
    "For example, see if you can use the table to find:\n",
    "\n",
    "- the total value by partner country of each commodity type (with each row corresponding to a particular country)\n",
    "- the total value of trade in commodity type for each month of the year\n",
    "- the leading partners associated with the 0402 commodity code\n",
    "- the minimum trade value, by month and commodity type, for Ireland.\n"
   ]
  },
  {
   "cell_type": "markdown",
   "metadata": {},
   "source": [
    "**Now go back to the Exercise 5 step in FutureLearn to discuss and mark it complete.**"
   ]
  },
  {
   "cell_type": "markdown",
   "metadata": {},
   "source": [
    "## Exercise 6: Pivot tables with pandas\n"
   ]
  },
  {
   "cell_type": "markdown",
   "metadata": {},
   "source": [
    "Pivot tables can be quite hard to understand, so if you want a gentle dataset to pratice with, here is the simple example dataset used in the previous step that you can try out a few pivot table functions on."
   ]
  },
  {
   "cell_type": "code",
   "execution_count": 313,
   "metadata": {
    "activity": false,
    "collapsed": false,
    "run_control": {
     "read_only": false
    }
   },
   "outputs": [
    {
     "data": {
      "text/html": [
       "<div>\n",
       "<table border=\"1\" class=\"dataframe\">\n",
       "  <thead>\n",
       "    <tr style=\"text-align: right;\">\n",
       "      <th></th>\n",
       "      <th>Commodity</th>\n",
       "      <th>Reporter</th>\n",
       "      <th>Flow</th>\n",
       "      <th>Amount</th>\n",
       "    </tr>\n",
       "  </thead>\n",
       "  <tbody>\n",
       "    <tr>\n",
       "      <th>0</th>\n",
       "      <td>A</td>\n",
       "      <td>P</td>\n",
       "      <td>X</td>\n",
       "      <td>10</td>\n",
       "    </tr>\n",
       "    <tr>\n",
       "      <th>1</th>\n",
       "      <td>A</td>\n",
       "      <td>P</td>\n",
       "      <td>Y</td>\n",
       "      <td>15</td>\n",
       "    </tr>\n",
       "    <tr>\n",
       "      <th>2</th>\n",
       "      <td>A</td>\n",
       "      <td>Q</td>\n",
       "      <td>X</td>\n",
       "      <td>5</td>\n",
       "    </tr>\n",
       "    <tr>\n",
       "      <th>3</th>\n",
       "      <td>A</td>\n",
       "      <td>Q</td>\n",
       "      <td>Y</td>\n",
       "      <td>20</td>\n",
       "    </tr>\n",
       "    <tr>\n",
       "      <th>4</th>\n",
       "      <td>B</td>\n",
       "      <td>P</td>\n",
       "      <td>X</td>\n",
       "      <td>10</td>\n",
       "    </tr>\n",
       "    <tr>\n",
       "      <th>5</th>\n",
       "      <td>B</td>\n",
       "      <td>P</td>\n",
       "      <td>Y</td>\n",
       "      <td>10</td>\n",
       "    </tr>\n",
       "    <tr>\n",
       "      <th>6</th>\n",
       "      <td>B</td>\n",
       "      <td>Q</td>\n",
       "      <td>X</td>\n",
       "      <td>5</td>\n",
       "    </tr>\n",
       "    <tr>\n",
       "      <th>7</th>\n",
       "      <td>C</td>\n",
       "      <td>P</td>\n",
       "      <td>X</td>\n",
       "      <td>20</td>\n",
       "    </tr>\n",
       "    <tr>\n",
       "      <th>8</th>\n",
       "      <td>C</td>\n",
       "      <td>Q</td>\n",
       "      <td>Y</td>\n",
       "      <td>30</td>\n",
       "    </tr>\n",
       "  </tbody>\n",
       "</table>\n",
       "</div>"
      ],
      "text/plain": [
       "  Commodity Reporter Flow  Amount\n",
       "0         A        P    X      10\n",
       "1         A        P    Y      15\n",
       "2         A        Q    X       5\n",
       "3         A        Q    Y      20\n",
       "4         B        P    X      10\n",
       "5         B        P    Y      10\n",
       "6         B        Q    X       5\n",
       "7         C        P    X      20\n",
       "8         C        Q    Y      30"
      ]
     },
     "execution_count": 313,
     "metadata": {},
     "output_type": "execute_result"
    }
   ],
   "source": [
    "#Example dataframe\n",
    "df = DataFrame({\"Commodity\":[\"A\",\"A\",\"A\",\"A\",\"B\",\"B\",\"B\",\"C\",\"C\"],\n",
    "                  \"Amount\":[10,15,5,20,10,10,5,20,30],\n",
    "                  \"Reporter\":[\"P\",\"P\",\"Q\",\"Q\",\"P\",\"P\",\"Q\",\"P\",\"Q\"],\n",
    "                  \"Flow\":[\"X\",\"Y\",\"X\",\"Y\",\"X\",\"Y\",\"X\",\"X\",\"Y\"]},\n",
    "                 columns=[\"Commodity\",\"Reporter\",\"Flow\",\"Amount\"])\n",
    "\n",
    "df"
   ]
  },
  {
   "cell_type": "markdown",
   "metadata": {},
   "source": [
    "### Getting started with pivot tables in pandas \n",
    "\n",
    "The pandas library provides a `pivot_table()` function into which you can pass the elements needed to define the pivot table view you would like to generate over a particular dataset.\n",
    "\n",
    "If you inspect the documentation for the pandas `pivot_table()` function, you will see that it is quite involved (but *DON'T PANIC!*)."
   ]
  },
  {
   "cell_type": "code",
   "execution_count": 314,
   "metadata": {
    "activity": false,
    "collapsed": true,
    "run_control": {
     "read_only": false
    }
   },
   "outputs": [],
   "source": [
    "##Inspect the documentation for the pandas pivot_table() function\n",
    "##Uncomment the following command (remove the #) and then click the play button in the toolbar to run the cell\n",
    "?pivot_table\n",
    "##The documentation file should pop up from the bottom of the browser.\n",
    "##Click the x to close it."
   ]
  },
  {
   "cell_type": "markdown",
   "metadata": {},
   "source": [
    "You can start to use the pivot table quite straightforwardly, drawing inspiration from the way you configured the interactive pivot table. The function itself takes the form:\n",
    "\n",
    "`pd.pivot_table(DATAFRAME,\n",
    "                index= (LIST_OF_)DATA_COLUMN(S)_THAT_DEFINE_PIVOT_TABLE_ROWS,\n",
    "                columns= (LIST_OF_)DATA_COLUMN(S)_THAT_DEFINE_PIVOT_TABLE_COLUMNS\n",
    "                values= DATA_COLUMN_TO_APPLY_THE SUMMARYFUNCTION_TO,\n",
    "                aggfunc=sum\n",
    "               )`\n",
    "\n",
    "\n",
    "You can generate a pivot table that shows the total trade value as a single column, grouped into row based subdivisions based on year, country, trade flow and commodity in the following way.\n",
    "\n",
    "The following pivot table reports on a subset of countries. The `isin()` method selects rows whose partner value 'is in' the list of specified partners."
   ]
  },
  {
   "cell_type": "code",
   "execution_count": 315,
   "metadata": {
    "activity": false,
    "collapsed": false,
    "run_control": {
     "read_only": false
    }
   },
   "outputs": [
    {
     "data": {
      "text/plain": [
       "Year  Partner      Trade Flow  Commodity                                         \n",
       "2014  Belgium      Exports     Milk and cream, concentrated or sweetened               6301229\n",
       "                               Milk and cream, neither concentrated nor sweetened     23041778\n",
       "                   Imports     Milk and cream, concentrated or sweetened              36155409\n",
       "                               Milk and cream, neither concentrated nor sweetened     22183336\n",
       "      Denmark      Exports     Milk and cream, concentrated or sweetened               1849170\n",
       "                               Milk and cream, neither concentrated nor sweetened      1059287\n",
       "                   Imports     Milk and cream, concentrated or sweetened               1102035\n",
       "                               Milk and cream, neither concentrated nor sweetened     29432607\n",
       "      France       Exports     Milk and cream, concentrated or sweetened               9025441\n",
       "                               Milk and cream, neither concentrated nor sweetened     25597541\n",
       "                   Imports     Milk and cream, concentrated or sweetened              85631781\n",
       "                               Milk and cream, neither concentrated nor sweetened     19376395\n",
       "      Germany      Exports     Milk and cream, concentrated or sweetened              24785683\n",
       "                               Milk and cream, neither concentrated nor sweetened     11310950\n",
       "                   Imports     Milk and cream, concentrated or sweetened              59776965\n",
       "                               Milk and cream, neither concentrated nor sweetened     16835735\n",
       "      Ireland      Exports     Milk and cream, concentrated or sweetened              94889874\n",
       "                               Milk and cream, neither concentrated nor sweetened    326338567\n",
       "                   Imports     Milk and cream, concentrated or sweetened              62936247\n",
       "                               Milk and cream, neither concentrated nor sweetened    111379639\n",
       "      Netherlands  Exports     Milk and cream, concentrated or sweetened              47518672\n",
       "                               Milk and cream, neither concentrated nor sweetened     21130410\n",
       "                   Imports     Milk and cream, concentrated or sweetened              61531712\n",
       "                               Milk and cream, neither concentrated nor sweetened     10677523\n",
       "Name: Trade Value (US$), dtype: int64"
      ]
     },
     "execution_count": 315,
     "metadata": {},
     "output_type": "execute_result"
    }
   ],
   "source": [
    "KEYPARTNERS=['Belgium','France','Germany','Ireland','Netherlands','Denmark']\n",
    "milk_keypartners = milk_countries[milk_countries['Partner'].isin(KEYPARTNERS)]\n",
    "\n",
    "pivot_table(milk_keypartners,\n",
    "               index=['Year','Partner','Trade Flow','Commodity'],\n",
    "               values='Trade Value (US$)',\n",
    "               aggfunc=sum)"
   ]
  },
  {
   "cell_type": "markdown",
   "metadata": {},
   "source": [
    "If you just want to use a single data column from the original dataset to specify the row (that is, the `index`) groupings or the column groupings, you don't need to use a list, just pass in the name of the appropriate original data column.\n",
    "\n",
    "So, to look at rows grouped by year, country and commodity, and split columns out by trade flow:"
   ]
  },
  {
   "cell_type": "code",
   "execution_count": 316,
   "metadata": {
    "activity": false,
    "collapsed": false,
    "run_control": {
     "read_only": false
    }
   },
   "outputs": [
    {
     "data": {
      "text/html": [
       "<div>\n",
       "<table border=\"1\" class=\"dataframe\">\n",
       "  <thead>\n",
       "    <tr style=\"text-align: right;\">\n",
       "      <th></th>\n",
       "      <th></th>\n",
       "      <th>Trade Flow</th>\n",
       "      <th>Exports</th>\n",
       "      <th>Imports</th>\n",
       "    </tr>\n",
       "    <tr>\n",
       "      <th>Year</th>\n",
       "      <th>Partner</th>\n",
       "      <th>Commodity</th>\n",
       "      <th></th>\n",
       "      <th></th>\n",
       "    </tr>\n",
       "  </thead>\n",
       "  <tbody>\n",
       "    <tr>\n",
       "      <th rowspan=\"12\" valign=\"top\">2014</th>\n",
       "      <th>Ireland</th>\n",
       "      <th>Milk and cream, neither concentrated nor sweetened</th>\n",
       "      <td>326338567</td>\n",
       "      <td>111379639</td>\n",
       "    </tr>\n",
       "    <tr>\n",
       "      <th>France</th>\n",
       "      <th>Milk and cream, concentrated or sweetened</th>\n",
       "      <td>9025441</td>\n",
       "      <td>85631781</td>\n",
       "    </tr>\n",
       "    <tr>\n",
       "      <th>Ireland</th>\n",
       "      <th>Milk and cream, concentrated or sweetened</th>\n",
       "      <td>94889874</td>\n",
       "      <td>62936247</td>\n",
       "    </tr>\n",
       "    <tr>\n",
       "      <th>Netherlands</th>\n",
       "      <th>Milk and cream, concentrated or sweetened</th>\n",
       "      <td>47518672</td>\n",
       "      <td>61531712</td>\n",
       "    </tr>\n",
       "    <tr>\n",
       "      <th>Germany</th>\n",
       "      <th>Milk and cream, concentrated or sweetened</th>\n",
       "      <td>24785683</td>\n",
       "      <td>59776965</td>\n",
       "    </tr>\n",
       "    <tr>\n",
       "      <th>Belgium</th>\n",
       "      <th>Milk and cream, concentrated or sweetened</th>\n",
       "      <td>6301229</td>\n",
       "      <td>36155409</td>\n",
       "    </tr>\n",
       "    <tr>\n",
       "      <th>Denmark</th>\n",
       "      <th>Milk and cream, neither concentrated nor sweetened</th>\n",
       "      <td>1059287</td>\n",
       "      <td>29432607</td>\n",
       "    </tr>\n",
       "    <tr>\n",
       "      <th>Belgium</th>\n",
       "      <th>Milk and cream, neither concentrated nor sweetened</th>\n",
       "      <td>23041778</td>\n",
       "      <td>22183336</td>\n",
       "    </tr>\n",
       "    <tr>\n",
       "      <th>France</th>\n",
       "      <th>Milk and cream, neither concentrated nor sweetened</th>\n",
       "      <td>25597541</td>\n",
       "      <td>19376395</td>\n",
       "    </tr>\n",
       "    <tr>\n",
       "      <th>Germany</th>\n",
       "      <th>Milk and cream, neither concentrated nor sweetened</th>\n",
       "      <td>11310950</td>\n",
       "      <td>16835735</td>\n",
       "    </tr>\n",
       "    <tr>\n",
       "      <th>Netherlands</th>\n",
       "      <th>Milk and cream, neither concentrated nor sweetened</th>\n",
       "      <td>21130410</td>\n",
       "      <td>10677523</td>\n",
       "    </tr>\n",
       "    <tr>\n",
       "      <th>Denmark</th>\n",
       "      <th>Milk and cream, concentrated or sweetened</th>\n",
       "      <td>1849170</td>\n",
       "      <td>1102035</td>\n",
       "    </tr>\n",
       "  </tbody>\n",
       "</table>\n",
       "</div>"
      ],
      "text/plain": [
       "Trade Flow                                                             Exports  \\\n",
       "Year Partner     Commodity                                                       \n",
       "2014 Ireland     Milk and cream, neither concentrated nor sweetened  326338567   \n",
       "     France      Milk and cream, concentrated or sweetened             9025441   \n",
       "     Ireland     Milk and cream, concentrated or sweetened            94889874   \n",
       "     Netherlands Milk and cream, concentrated or sweetened            47518672   \n",
       "     Germany     Milk and cream, concentrated or sweetened            24785683   \n",
       "     Belgium     Milk and cream, concentrated or sweetened             6301229   \n",
       "     Denmark     Milk and cream, neither concentrated nor sweetened    1059287   \n",
       "     Belgium     Milk and cream, neither concentrated nor sweetened   23041778   \n",
       "     France      Milk and cream, neither concentrated nor sweetened   25597541   \n",
       "     Germany     Milk and cream, neither concentrated nor sweetened   11310950   \n",
       "     Netherlands Milk and cream, neither concentrated nor sweetened   21130410   \n",
       "     Denmark     Milk and cream, concentrated or sweetened             1849170   \n",
       "\n",
       "Trade Flow                                                             Imports  \n",
       "Year Partner     Commodity                                                      \n",
       "2014 Ireland     Milk and cream, neither concentrated nor sweetened  111379639  \n",
       "     France      Milk and cream, concentrated or sweetened            85631781  \n",
       "     Ireland     Milk and cream, concentrated or sweetened            62936247  \n",
       "     Netherlands Milk and cream, concentrated or sweetened            61531712  \n",
       "     Germany     Milk and cream, concentrated or sweetened            59776965  \n",
       "     Belgium     Milk and cream, concentrated or sweetened            36155409  \n",
       "     Denmark     Milk and cream, neither concentrated nor sweetened   29432607  \n",
       "     Belgium     Milk and cream, neither concentrated nor sweetened   22183336  \n",
       "     France      Milk and cream, neither concentrated nor sweetened   19376395  \n",
       "     Germany     Milk and cream, neither concentrated nor sweetened   16835735  \n",
       "     Netherlands Milk and cream, neither concentrated nor sweetened   10677523  \n",
       "     Denmark     Milk and cream, concentrated or sweetened             1102035  "
      ]
     },
     "execution_count": 316,
     "metadata": {},
     "output_type": "execute_result"
    }
   ],
   "source": [
    "#For convenience, let's assign the output of this pivot table operation to a variable...\n",
    "report=pivot_table(milk_keypartners,\n",
    "               index=['Year','Partner','Commodity'],\n",
    "               columns='Trade Flow',\n",
    "               values='Trade Value (US$)',\n",
    "               aggfunc=sum)\n",
    "\n",
    "#And then display the result, sorted by import value\n",
    "report.sort('Imports',ascending=False)"
   ]
  },
  {
   "cell_type": "markdown",
   "metadata": {},
   "source": [
    "One of the features of the interactive pivot table you did not explore was it's ability to generate bar chart style views over the pivotted data as well as tabulated results. (In fact, this requires a plugin to the pivot table that has not been installed.)\n",
    "\n",
    "In the same way that you produced charts from pandas dataframes previously, you can visualise the contents of the dataframe produced from the pivot table operation."
   ]
  },
  {
   "cell_type": "code",
   "execution_count": 317,
   "metadata": {
    "activity": false,
    "collapsed": false,
    "run_control": {
     "read_only": false
    }
   },
   "outputs": [
    {
     "data": {
      "text/plain": [
       "<matplotlib.axes._subplots.AxesSubplot at 0x1040e44a8>"
      ]
     },
     "execution_count": 317,
     "metadata": {},
     "output_type": "execute_result"
    },
    {
     "data": {
      "image/png": "[encoded data removed]",
      "text/plain": [
       "<matplotlib.figure.Figure at 0x110b6ae80>"
      ]
     },
     "metadata": {},
     "output_type": "display_data"
    }
   ],
   "source": [
    "report.sort('Imports').plot(kind='barh')"
   ]
  },
  {
   "cell_type": "markdown",
   "metadata": {},
   "source": [
    "_okay, this is how we generate the graphs I was trying to put together yesterday_"
   ]
  },
  {
   "cell_type": "markdown",
   "metadata": {},
   "source": [
    "Here, the `.plot()` command produces a *grouped bar chart* with the bars grouped according to the order of the row index values. The values contained within any numerical columns are then displayed as bars."
   ]
  },
  {
   "cell_type": "code",
   "execution_count": 318,
   "metadata": {
    "collapsed": false
   },
   "outputs": [
    {
     "data": {
      "text/html": [
       "<div>\n",
       "<table border=\"1\" class=\"dataframe\">\n",
       "  <thead>\n",
       "    <tr style=\"text-align: right;\">\n",
       "      <th></th>\n",
       "      <th></th>\n",
       "      <th>Trade Flow</th>\n",
       "      <th>Exports</th>\n",
       "      <th>Imports</th>\n",
       "      <th>All</th>\n",
       "    </tr>\n",
       "    <tr>\n",
       "      <th>Year</th>\n",
       "      <th>Partner</th>\n",
       "      <th>Commodity</th>\n",
       "      <th></th>\n",
       "      <th></th>\n",
       "      <th></th>\n",
       "    </tr>\n",
       "  </thead>\n",
       "  <tbody>\n",
       "    <tr>\n",
       "      <th>All</th>\n",
       "      <th></th>\n",
       "      <th></th>\n",
       "      <td>592848602</td>\n",
       "      <td>517019384</td>\n",
       "      <td>1109867986</td>\n",
       "    </tr>\n",
       "    <tr>\n",
       "      <th rowspan=\"12\" valign=\"top\">2014</th>\n",
       "      <th>Ireland</th>\n",
       "      <th>Milk and cream, neither concentrated nor sweetened</th>\n",
       "      <td>326338567</td>\n",
       "      <td>111379639</td>\n",
       "      <td>437718206</td>\n",
       "    </tr>\n",
       "    <tr>\n",
       "      <th>France</th>\n",
       "      <th>Milk and cream, concentrated or sweetened</th>\n",
       "      <td>9025441</td>\n",
       "      <td>85631781</td>\n",
       "      <td>94657222</td>\n",
       "    </tr>\n",
       "    <tr>\n",
       "      <th>Ireland</th>\n",
       "      <th>Milk and cream, concentrated or sweetened</th>\n",
       "      <td>94889874</td>\n",
       "      <td>62936247</td>\n",
       "      <td>157826121</td>\n",
       "    </tr>\n",
       "    <tr>\n",
       "      <th>Netherlands</th>\n",
       "      <th>Milk and cream, concentrated or sweetened</th>\n",
       "      <td>47518672</td>\n",
       "      <td>61531712</td>\n",
       "      <td>109050384</td>\n",
       "    </tr>\n",
       "    <tr>\n",
       "      <th>Germany</th>\n",
       "      <th>Milk and cream, concentrated or sweetened</th>\n",
       "      <td>24785683</td>\n",
       "      <td>59776965</td>\n",
       "      <td>84562648</td>\n",
       "    </tr>\n",
       "    <tr>\n",
       "      <th>Belgium</th>\n",
       "      <th>Milk and cream, concentrated or sweetened</th>\n",
       "      <td>6301229</td>\n",
       "      <td>36155409</td>\n",
       "      <td>42456638</td>\n",
       "    </tr>\n",
       "    <tr>\n",
       "      <th>Denmark</th>\n",
       "      <th>Milk and cream, neither concentrated nor sweetened</th>\n",
       "      <td>1059287</td>\n",
       "      <td>29432607</td>\n",
       "      <td>30491894</td>\n",
       "    </tr>\n",
       "    <tr>\n",
       "      <th>Belgium</th>\n",
       "      <th>Milk and cream, neither concentrated nor sweetened</th>\n",
       "      <td>23041778</td>\n",
       "      <td>22183336</td>\n",
       "      <td>45225114</td>\n",
       "    </tr>\n",
       "    <tr>\n",
       "      <th>France</th>\n",
       "      <th>Milk and cream, neither concentrated nor sweetened</th>\n",
       "      <td>25597541</td>\n",
       "      <td>19376395</td>\n",
       "      <td>44973936</td>\n",
       "    </tr>\n",
       "    <tr>\n",
       "      <th>Germany</th>\n",
       "      <th>Milk and cream, neither concentrated nor sweetened</th>\n",
       "      <td>11310950</td>\n",
       "      <td>16835735</td>\n",
       "      <td>28146685</td>\n",
       "    </tr>\n",
       "    <tr>\n",
       "      <th>Netherlands</th>\n",
       "      <th>Milk and cream, neither concentrated nor sweetened</th>\n",
       "      <td>21130410</td>\n",
       "      <td>10677523</td>\n",
       "      <td>31807933</td>\n",
       "    </tr>\n",
       "    <tr>\n",
       "      <th>Denmark</th>\n",
       "      <th>Milk and cream, concentrated or sweetened</th>\n",
       "      <td>1849170</td>\n",
       "      <td>1102035</td>\n",
       "      <td>2951205</td>\n",
       "    </tr>\n",
       "  </tbody>\n",
       "</table>\n",
       "</div>"
      ],
      "text/plain": [
       "Trade Flow                                                             Exports  \\\n",
       "Year Partner     Commodity                                                       \n",
       "All                                                                  592848602   \n",
       "2014 Ireland     Milk and cream, neither concentrated nor sweetened  326338567   \n",
       "     France      Milk and cream, concentrated or sweetened             9025441   \n",
       "     Ireland     Milk and cream, concentrated or sweetened            94889874   \n",
       "     Netherlands Milk and cream, concentrated or sweetened            47518672   \n",
       "     Germany     Milk and cream, concentrated or sweetened            24785683   \n",
       "     Belgium     Milk and cream, concentrated or sweetened             6301229   \n",
       "     Denmark     Milk and cream, neither concentrated nor sweetened    1059287   \n",
       "     Belgium     Milk and cream, neither concentrated nor sweetened   23041778   \n",
       "     France      Milk and cream, neither concentrated nor sweetened   25597541   \n",
       "     Germany     Milk and cream, neither concentrated nor sweetened   11310950   \n",
       "     Netherlands Milk and cream, neither concentrated nor sweetened   21130410   \n",
       "     Denmark     Milk and cream, concentrated or sweetened             1849170   \n",
       "\n",
       "Trade Flow                                                             Imports  \\\n",
       "Year Partner     Commodity                                                       \n",
       "All                                                                  517019384   \n",
       "2014 Ireland     Milk and cream, neither concentrated nor sweetened  111379639   \n",
       "     France      Milk and cream, concentrated or sweetened            85631781   \n",
       "     Ireland     Milk and cream, concentrated or sweetened            62936247   \n",
       "     Netherlands Milk and cream, concentrated or sweetened            61531712   \n",
       "     Germany     Milk and cream, concentrated or sweetened            59776965   \n",
       "     Belgium     Milk and cream, concentrated or sweetened            36155409   \n",
       "     Denmark     Milk and cream, neither concentrated nor sweetened   29432607   \n",
       "     Belgium     Milk and cream, neither concentrated nor sweetened   22183336   \n",
       "     France      Milk and cream, neither concentrated nor sweetened   19376395   \n",
       "     Germany     Milk and cream, neither concentrated nor sweetened   16835735   \n",
       "     Netherlands Milk and cream, neither concentrated nor sweetened   10677523   \n",
       "     Denmark     Milk and cream, concentrated or sweetened             1102035   \n",
       "\n",
       "Trade Flow                                                                  All  \n",
       "Year Partner     Commodity                                                       \n",
       "All                                                                  1109867986  \n",
       "2014 Ireland     Milk and cream, neither concentrated nor sweetened   437718206  \n",
       "     France      Milk and cream, concentrated or sweetened             94657222  \n",
       "     Ireland     Milk and cream, concentrated or sweetened            157826121  \n",
       "     Netherlands Milk and cream, concentrated or sweetened            109050384  \n",
       "     Germany     Milk and cream, concentrated or sweetened             84562648  \n",
       "     Belgium     Milk and cream, concentrated or sweetened             42456638  \n",
       "     Denmark     Milk and cream, neither concentrated nor sweetened    30491894  \n",
       "     Belgium     Milk and cream, neither concentrated nor sweetened    45225114  \n",
       "     France      Milk and cream, neither concentrated nor sweetened    44973936  \n",
       "     Germany     Milk and cream, neither concentrated nor sweetened    28146685  \n",
       "     Netherlands Milk and cream, neither concentrated nor sweetened    31807933  \n",
       "     Denmark     Milk and cream, concentrated or sweetened              2951205  "
      ]
     },
     "execution_count": 318,
     "metadata": {},
     "output_type": "execute_result"
    }
   ],
   "source": [
    "#For convenience, let's assign the output of this pivot table operation to a variable...\n",
    "report=pivot_table(milk_keypartners,\n",
    "               index=['Year','Partner','Commodity'],\n",
    "               columns='Trade Flow',\n",
    "               values='Trade Value (US$)',\n",
    "               margins=True, \n",
    "               aggfunc=sum)\n",
    "\n",
    "#And then display the result, sorted by import value\n",
    "report.sort('Imports',ascending=False)"
   ]
  },
  {
   "cell_type": "markdown",
   "metadata": {},
   "source": [
    "### Task\n",
    "\n",
    "Using your own data set containing data for both imports and exports of a particular trade item, see if you can use a pandas pivot table to answer the same questions you asked of your dataset in Exercise 5, as well as asking some new ones.\n",
    "\n",
    "For example, try to use a pivot table to identify partner countries engaging in 'bi-derectional' trade who have total import values and export values greater than a certain threshold every month.\n",
    "\n",
    "You can also use a pivot table in combination with other operations. For example, try using one of the filtered datasets you created using the `filter()` function, such as one that limited rows to partners trading above a certain level, as the basis for a pivot table report."
   ]
  },
  {
   "cell_type": "markdown",
   "metadata": {},
   "source": [
    "> Using your own data set containing data for both imports and exports of a particular trade item, see if you can use a pandas pivot table to answer the same questions you asked of your dataset in Exercise 5, as well as asking some new ones."
   ]
  },
  {
   "cell_type": "code",
   "execution_count": 323,
   "metadata": {
    "collapsed": false
   },
   "outputs": [
    {
     "data": {
      "text/plain": [
       "Year  Partner    Commodity                                          \n",
       "2014  Argentina  Palm oil and its fractions, not chemically modified      3786\n",
       "      Australia  Palm oil and its fractions, not chemically modified    104360\n",
       "      Austria    Palm oil and its fractions, not chemically modified    102555\n",
       "      Belgium    Palm oil and its fractions, not chemically modified    218711\n",
       "Name: Trade Value (US$), dtype: int64"
      ]
     },
     "execution_count": 323,
     "metadata": {},
     "output_type": "execute_result"
    }
   ],
   "source": [
    "palmOilCountries\n",
    "\n",
    "pivot_table(palmOilCountries, index = [\"Year\", \"Partner\", \"Commodity\"], aggfunc='sum', values=TV).head(4)"
   ]
  },
  {
   "cell_type": "markdown",
   "metadata": {},
   "source": [
    "We don't gain much by adding in the commodity. So lets' lose it and instead have trade flow in the columns."
   ]
  },
  {
   "cell_type": "code",
   "execution_count": 336,
   "metadata": {
    "collapsed": false
   },
   "outputs": [
    {
     "data": {
      "text/html": [
       "<div>\n",
       "<table border=\"1\" class=\"dataframe\">\n",
       "  <thead>\n",
       "    <tr style=\"text-align: right;\">\n",
       "      <th></th>\n",
       "      <th>Trade Flow</th>\n",
       "      <th>Exports</th>\n",
       "      <th>Imports</th>\n",
       "      <th>Re-imports</th>\n",
       "    </tr>\n",
       "    <tr>\n",
       "      <th>Year</th>\n",
       "      <th>Partner</th>\n",
       "      <th></th>\n",
       "      <th></th>\n",
       "      <th></th>\n",
       "    </tr>\n",
       "  </thead>\n",
       "  <tbody>\n",
       "    <tr>\n",
       "      <th rowspan=\"5\" valign=\"top\">2014</th>\n",
       "      <th>Ireland</th>\n",
       "      <td>24314429</td>\n",
       "      <td>NaN</td>\n",
       "      <td>NaN</td>\n",
       "    </tr>\n",
       "    <tr>\n",
       "      <th>Germany</th>\n",
       "      <td>3882286</td>\n",
       "      <td>5665940</td>\n",
       "      <td>NaN</td>\n",
       "    </tr>\n",
       "    <tr>\n",
       "      <th>France</th>\n",
       "      <td>1419714</td>\n",
       "      <td>115921</td>\n",
       "      <td>NaN</td>\n",
       "    </tr>\n",
       "    <tr>\n",
       "      <th>Netherlands</th>\n",
       "      <td>1243561</td>\n",
       "      <td>65547361</td>\n",
       "      <td>NaN</td>\n",
       "    </tr>\n",
       "    <tr>\n",
       "      <th>Spain</th>\n",
       "      <td>928605</td>\n",
       "      <td>5670199</td>\n",
       "      <td>NaN</td>\n",
       "    </tr>\n",
       "  </tbody>\n",
       "</table>\n",
       "</div>"
      ],
      "text/plain": [
       "Trade Flow         Exports   Imports  Re-imports\n",
       "Year Partner                                    \n",
       "2014 Ireland      24314429       NaN         NaN\n",
       "     Germany       3882286   5665940         NaN\n",
       "     France        1419714    115921         NaN\n",
       "     Netherlands   1243561  65547361         NaN\n",
       "     Spain          928605   5670199         NaN"
      ]
     },
     "execution_count": 336,
     "metadata": {},
     "output_type": "execute_result"
    }
   ],
   "source": [
    "top_global_palm_oil = pivot_table(palmOilCountries, index = [\"Year\", \"Partner\"], aggfunc='sum', columns=\"Trade Flow\", values=TV)\n",
    "\n",
    "top_global_palm_oil.sort(\"Exports\", ascending=False).head(5)"
   ]
  },
  {
   "cell_type": "code",
   "execution_count": 337,
   "metadata": {
    "collapsed": false
   },
   "outputs": [
    {
     "data": {
      "text/plain": [
       "<matplotlib.axes._subplots.AxesSubplot at 0x114f16d68>"
      ]
     },
     "execution_count": 337,
     "metadata": {},
     "output_type": "execute_result"
    },
    {
     "data": {
      "image/png": "[encoded data removed]",
      "text/plain": [
       "<matplotlib.figure.Figure at 0x114eda550>"
      ]
     },
     "metadata": {},
     "output_type": "display_data"
    }
   ],
   "source": [
    "top_global_palm_oil.sort(\"Exports\", ascending=False).head(5).plot(kind='barh', figsize=(10, 7))"
   ]
  },
  {
   "cell_type": "code",
   "execution_count": null,
   "metadata": {
    "collapsed": true
   },
   "outputs": [],
   "source": []
  },
  {
   "cell_type": "markdown",
   "metadata": {},
   "source": [
    "> For example, try to use a pivot table to identify partner countries engaging in 'bi-derectional' trade who have total import values and export values greater than a certain threshold every month."
   ]
  },
  {
   "cell_type": "markdown",
   "metadata": {},
   "source": [
    "We do this by:\n",
    "\n",
    "- taking the country data\n",
    "- remove ones with NaN data in the import or export\n",
    "- return only countries with data in imports _and_ exports\n",
    "- filter again to check the data is sufficiently high each month\n",
    "- pivot, then show on a map"
   ]
  },
  {
   "cell_type": "code",
   "execution_count": 349,
   "metadata": {
    "collapsed": false
   },
   "outputs": [
    {
     "data": {
      "text/html": [
       "<div>\n",
       "<table border=\"1\" class=\"dataframe\">\n",
       "  <thead>\n",
       "    <tr style=\"text-align: right;\">\n",
       "      <th></th>\n",
       "      <th>Trade Flow</th>\n",
       "      <th>Exports</th>\n",
       "      <th>Imports</th>\n",
       "      <th>Re-imports</th>\n",
       "    </tr>\n",
       "    <tr>\n",
       "      <th>Year</th>\n",
       "      <th>Partner</th>\n",
       "      <th></th>\n",
       "      <th></th>\n",
       "      <th></th>\n",
       "    </tr>\n",
       "  </thead>\n",
       "  <tbody>\n",
       "    <tr>\n",
       "      <th rowspan=\"5\" valign=\"top\">2014</th>\n",
       "      <th>Argentina</th>\n",
       "      <td>3786</td>\n",
       "      <td>NaN</td>\n",
       "      <td>NaN</td>\n",
       "    </tr>\n",
       "    <tr>\n",
       "      <th>Australia</th>\n",
       "      <td>104360</td>\n",
       "      <td>NaN</td>\n",
       "      <td>NaN</td>\n",
       "    </tr>\n",
       "    <tr>\n",
       "      <th>Austria</th>\n",
       "      <td>102555</td>\n",
       "      <td>NaN</td>\n",
       "      <td>NaN</td>\n",
       "    </tr>\n",
       "    <tr>\n",
       "      <th>Belgium</th>\n",
       "      <td>191289</td>\n",
       "      <td>27422</td>\n",
       "      <td>NaN</td>\n",
       "    </tr>\n",
       "    <tr>\n",
       "      <th>Brazil</th>\n",
       "      <td>83672</td>\n",
       "      <td>1666775</td>\n",
       "      <td>NaN</td>\n",
       "    </tr>\n",
       "  </tbody>\n",
       "</table>\n",
       "</div>"
      ],
      "text/plain": [
       "Trade Flow      Exports  Imports  Re-imports\n",
       "Year Partner                                \n",
       "2014 Argentina     3786      NaN         NaN\n",
       "     Australia   104360      NaN         NaN\n",
       "     Austria     102555      NaN         NaN\n",
       "     Belgium     191289    27422         NaN\n",
       "     Brazil       83672  1666775         NaN"
      ]
     },
     "execution_count": 349,
     "metadata": {},
     "output_type": "execute_result"
    }
   ],
   "source": [
    "len(palmOilCountries)\n",
    "\n",
    "top_global_palm_oil_no_na= pivot_table(palmOilCountriesNoNa, index = [\"Year\", \"Partner\"], aggfunc='sum', columns=\"Trade Flow\", values=TV)\n",
    "top_global_palm_oil_no_na.head(5)"
   ]
  },
  {
   "cell_type": "markdown",
   "metadata": {},
   "source": [
    "Okay, that  didn't fix it for us.\n",
    "\n",
    "Let's try this again."
   ]
  },
  {
   "cell_type": "code",
   "execution_count": 354,
   "metadata": {
    "collapsed": false
   },
   "outputs": [
    {
     "data": {
      "text/html": [
       "<div>\n",
       "<table border=\"1\" class=\"dataframe\">\n",
       "  <thead>\n",
       "    <tr style=\"text-align: right;\">\n",
       "      <th></th>\n",
       "      <th>Year</th>\n",
       "      <th>Period</th>\n",
       "      <th>Trade Flow</th>\n",
       "      <th>Reporter</th>\n",
       "      <th>Partner</th>\n",
       "      <th>Commodity</th>\n",
       "      <th>Commodity Code</th>\n",
       "      <th>Trade Value (US$)</th>\n",
       "    </tr>\n",
       "  </thead>\n",
       "  <tbody>\n",
       "    <tr>\n",
       "      <th>191</th>\n",
       "      <td>2014</td>\n",
       "      <td>201406</td>\n",
       "      <td>Exports</td>\n",
       "      <td>United Kingdom</td>\n",
       "      <td>Argentina</td>\n",
       "      <td>Palm oil and its fractions, not chemically mod...</td>\n",
       "      <td>1511</td>\n",
       "      <td>3786</td>\n",
       "    </tr>\n",
       "  </tbody>\n",
       "</table>\n",
       "</div>"
      ],
      "text/plain": [
       "     Year  Period Trade Flow        Reporter    Partner  \\\n",
       "191  2014  201406    Exports  United Kingdom  Argentina   \n",
       "\n",
       "                                             Commodity Commodity Code  \\\n",
       "191  Palm oil and its fractions, not chemically mod...           1511   \n",
       "\n",
       "     Trade Value (US$)  \n",
       "191               3786  "
      ]
     },
     "execution_count": 354,
     "metadata": {},
     "output_type": "execute_result"
    }
   ],
   "source": [
    "palmOilCountriesNoNa[palmOilCountriesNoNa[\"Partner\"] == \"Argentina\"]"
   ]
  },
  {
   "cell_type": "code",
   "execution_count": 352,
   "metadata": {
    "collapsed": false
   },
   "outputs": [
    {
     "data": {
      "text/html": [
       "<div>\n",
       "<table border=\"1\" class=\"dataframe\">\n",
       "  <thead>\n",
       "    <tr style=\"text-align: right;\">\n",
       "      <th></th>\n",
       "      <th>Year</th>\n",
       "      <th>Period</th>\n",
       "      <th>Trade Flow</th>\n",
       "      <th>Reporter</th>\n",
       "      <th>Partner</th>\n",
       "      <th>Commodity</th>\n",
       "      <th>Commodity Code</th>\n",
       "      <th>Trade Value (US$)</th>\n",
       "    </tr>\n",
       "  </thead>\n",
       "  <tbody>\n",
       "    <tr>\n",
       "      <th>191</th>\n",
       "      <td>2014</td>\n",
       "      <td>201406</td>\n",
       "      <td>Exports</td>\n",
       "      <td>United Kingdom</td>\n",
       "      <td>Argentina</td>\n",
       "      <td>Palm oil and its fractions, not chemically mod...</td>\n",
       "      <td>1511</td>\n",
       "      <td>3786</td>\n",
       "    </tr>\n",
       "  </tbody>\n",
       "</table>\n",
       "</div>"
      ],
      "text/plain": [
       "     Year  Period Trade Flow        Reporter    Partner  \\\n",
       "191  2014  201406    Exports  United Kingdom  Argentina   \n",
       "\n",
       "                                             Commodity Commodity Code  \\\n",
       "191  Palm oil and its fractions, not chemically mod...           1511   \n",
       "\n",
       "     Trade Value (US$)  \n",
       "191               3786  "
      ]
     },
     "execution_count": 352,
     "metadata": {},
     "output_type": "execute_result"
    }
   ],
   "source": [
    "palmOilCountries[palmOilCountries[\"Partner\"] == \"Argentina\"]"
   ]
  },
  {
   "cell_type": "markdown",
   "metadata": {},
   "source": [
    "#### So, we get the NaN when we have a value that doesn't exist.\n",
    "\n",
    "We can test this by removing the `columns` attribute, so see if Agentina has any imports:"
   ]
  },
  {
   "cell_type": "code",
   "execution_count": 359,
   "metadata": {
    "collapsed": false
   },
   "outputs": [
    {
     "data": {
      "text/plain": [
       "Year  Partner    Trade Flow\n",
       "2014  Argentina  Exports         3786\n",
       "      Australia  Exports       104360\n",
       "      Austria    Exports       102555\n",
       "      Belgium    Exports       191289\n",
       "                 Imports        27422\n",
       "Name: Trade Value (US$), dtype: int64"
      ]
     },
     "execution_count": 359,
     "metadata": {},
     "output_type": "execute_result"
    }
   ],
   "source": [
    "pivot_table(palmOilCountriesNoNa, index = [\"Year\", \"Partner\", \"Trade Flow\"], aggfunc='sum', values=TV).head()"
   ]
  },
  {
   "cell_type": "markdown",
   "metadata": {},
   "source": [
    "Yup. So now we have to see if a dataframes groupby filters are smart enough to know about missing keys, or if we need to add them ourselves."
   ]
  },
  {
   "cell_type": "code",
   "execution_count": 417,
   "metadata": {
    "collapsed": false
   },
   "outputs": [
    {
     "data": {
      "text/plain": [
       "Year  Partner    Trade Flow\n",
       "2014  Argentina  Exports         3786\n",
       "      Australia  Exports       104360\n",
       "      Austria    Exports       102555\n",
       "      Belgium    Exports       191289\n",
       "                 Imports        27422\n",
       "Name: Trade Value (US$), dtype: int64"
      ]
     },
     "execution_count": 417,
     "metadata": {},
     "output_type": "execute_result"
    }
   ],
   "source": [
    "def bidirectional_trade(g):\n",
    "    # bidrectional is greater than zero and the count is greater than one\n",
    "    return g[\"Trade Flow\"].all() in [\"Imports\", \"Exports\"]\n",
    "\n",
    "bid = palmOilCountries.groupby([\"Year\", \"Partner\", \"Trade Flow\"]).filter(bidirectional_trade)\n",
    "pivot_table(bid, index = [\"Year\", \"Partner\", \"Trade Flow\"], aggfunc='sum', values=TV).head()"
   ]
  },
  {
   "cell_type": "markdown",
   "metadata": {},
   "source": [
    "Nope, that's not what I need. We want both Import AND Exports in there."
   ]
  },
  {
   "cell_type": "code",
   "execution_count": 459,
   "metadata": {
    "collapsed": false
   },
   "outputs": [
    {
     "data": {
      "text/html": [
       "<div>\n",
       "<table border=\"1\" class=\"dataframe\">\n",
       "  <thead>\n",
       "    <tr style=\"text-align: right;\">\n",
       "      <th></th>\n",
       "      <th>Year</th>\n",
       "      <th>Period</th>\n",
       "      <th>Trade Flow</th>\n",
       "      <th>Reporter</th>\n",
       "      <th>Partner</th>\n",
       "      <th>Commodity</th>\n",
       "      <th>Commodity Code</th>\n",
       "      <th>Trade Value (US$)</th>\n",
       "    </tr>\n",
       "  </thead>\n",
       "  <tbody>\n",
       "    <tr>\n",
       "      <th>5</th>\n",
       "      <td>2014</td>\n",
       "      <td>201401</td>\n",
       "      <td>Imports</td>\n",
       "      <td>United Kingdom</td>\n",
       "      <td>Brazil</td>\n",
       "      <td>Palm oil and its fractions, not chemically mod...</td>\n",
       "      <td>1511</td>\n",
       "      <td>1663182</td>\n",
       "    </tr>\n",
       "    <tr>\n",
       "      <th>6</th>\n",
       "      <td>2014</td>\n",
       "      <td>201401</td>\n",
       "      <td>Exports</td>\n",
       "      <td>United Kingdom</td>\n",
       "      <td>Brazil</td>\n",
       "      <td>Palm oil and its fractions, not chemically mod...</td>\n",
       "      <td>1511</td>\n",
       "      <td>20261</td>\n",
       "    </tr>\n",
       "    <tr>\n",
       "      <th>11</th>\n",
       "      <td>2014</td>\n",
       "      <td>201401</td>\n",
       "      <td>Imports</td>\n",
       "      <td>United Kingdom</td>\n",
       "      <td>France</td>\n",
       "      <td>Palm oil and its fractions, not chemically mod...</td>\n",
       "      <td>1511</td>\n",
       "      <td>43918</td>\n",
       "    </tr>\n",
       "    <tr>\n",
       "      <th>12</th>\n",
       "      <td>2014</td>\n",
       "      <td>201401</td>\n",
       "      <td>Exports</td>\n",
       "      <td>United Kingdom</td>\n",
       "      <td>France</td>\n",
       "      <td>Palm oil and its fractions, not chemically mod...</td>\n",
       "      <td>1511</td>\n",
       "      <td>142931</td>\n",
       "    </tr>\n",
       "    <tr>\n",
       "      <th>13</th>\n",
       "      <td>2014</td>\n",
       "      <td>201401</td>\n",
       "      <td>Imports</td>\n",
       "      <td>United Kingdom</td>\n",
       "      <td>Germany</td>\n",
       "      <td>Palm oil and its fractions, not chemically mod...</td>\n",
       "      <td>1511</td>\n",
       "      <td>301684</td>\n",
       "    </tr>\n",
       "  </tbody>\n",
       "</table>\n",
       "</div>"
      ],
      "text/plain": [
       "    Year  Period Trade Flow        Reporter  Partner  \\\n",
       "5   2014  201401    Imports  United Kingdom   Brazil   \n",
       "6   2014  201401    Exports  United Kingdom   Brazil   \n",
       "11  2014  201401    Imports  United Kingdom   France   \n",
       "12  2014  201401    Exports  United Kingdom   France   \n",
       "13  2014  201401    Imports  United Kingdom  Germany   \n",
       "\n",
       "                                            Commodity Commodity Code  \\\n",
       "5   Palm oil and its fractions, not chemically mod...           1511   \n",
       "6   Palm oil and its fractions, not chemically mod...           1511   \n",
       "11  Palm oil and its fractions, not chemically mod...           1511   \n",
       "12  Palm oil and its fractions, not chemically mod...           1511   \n",
       "13  Palm oil and its fractions, not chemically mod...           1511   \n",
       "\n",
       "    Trade Value (US$)  \n",
       "5             1663182  \n",
       "6               20261  \n",
       "11              43918  \n",
       "12             142931  \n",
       "13             301684  "
      ]
     },
     "execution_count": 459,
     "metadata": {},
     "output_type": "execute_result"
    }
   ],
   "source": [
    "def bidirectional_trade(g):\n",
    "    # bidrectional is greater than zero and the count is greater than one\n",
    "    return g[\"Trade Flow\"].all() in [\"Imports\", \"Exports\"]\n",
    "\n",
    "bid = palmOilCountries.groupby([\"Year\", \"Partner\", \"Trade Flow\"]).filter(bidirectional_trade)\n",
    "\n",
    "# this is a very unsatisfying way to do this\n",
    "two_way_trade = bid.groupby([\"Year\", \"Partner\", \"Period\"]).filter(lambda g: len(g) == 2)\n",
    "two_way_trade.head()"
   ]
  },
  {
   "cell_type": "markdown",
   "metadata": {},
   "source": [
    "So at last, we have a way to show countries with bidirectional trade. We can try pivoting again now."
   ]
  },
  {
   "cell_type": "code",
   "execution_count": 465,
   "metadata": {
    "collapsed": false
   },
   "outputs": [
    {
     "data": {
      "text/plain": [
       "<matplotlib.axes._subplots.AxesSubplot at 0x116606f60>"
      ]
     },
     "execution_count": 465,
     "metadata": {},
     "output_type": "execute_result"
    },
    {
     "data": {
      "image/png": "[encoded data removed]",
      "text/plain": [
       "<matplotlib.figure.Figure at 0x1159113c8>"
      ]
     },
     "metadata": {},
     "output_type": "display_data"
    }
   ],
   "source": [
    "two_way_trade_table = pivot_table(two_way_trade, index = [\"Year\", \"Partner\", \"Trade Flow\"], aggfunc='sum', values=TV)\n",
    "\n",
    "\n",
    "two_way_trade_table.plot(kind='barh', figsize=(15,5))"
   ]
  },
  {
   "cell_type": "markdown",
   "metadata": {},
   "source": [
    "This us okay, but you can't really see the differences. Lets try using a log scale"
   ]
  },
  {
   "cell_type": "code",
   "execution_count": 466,
   "metadata": {
    "collapsed": false
   },
   "outputs": [
    {
     "data": {
      "text/plain": [
       "<matplotlib.axes._subplots.AxesSubplot at 0x116650e80>"
      ]
     },
     "execution_count": 466,
     "metadata": {},
     "output_type": "execute_result"
    },
    {
     "data": {
      "image/png": "[encoded data removed]",
      "text/plain": [
       "<matplotlib.figure.Figure at 0x11565e278>"
      ]
     },
     "metadata": {},
     "output_type": "display_data"
    }
   ],
   "source": [
    "two_way_trade_table.plot(kind='barh', figsize=(15,5), logx=True)"
   ]
  },
  {
   "cell_type": "markdown",
   "metadata": {},
   "source": [
    "Hmm… you can at least see now but it feels a bit deceptive."
   ]
  },
  {
   "cell_type": "code",
   "execution_count": null,
   "metadata": {
    "collapsed": true
   },
   "outputs": [],
   "source": [
    "Lets \n"
   ]
  },
  {
   "cell_type": "code",
   "execution_count": 471,
   "metadata": {
    "collapsed": false
   },
   "outputs": [
    {
     "data": {
      "image/png": "[encoded data removed]",
      "text/plain": [
       "<matplotlib.figure.Figure at 0x116ec0898>"
      ]
     },
     "metadata": {},
     "output_type": "display_data"
    }
   ],
   "source": [
    "two_way_trade_table = pivot_table(two_way_trade, index = [\"Year\", \"Partner\"], columns=\"Trade Flow\", aggfunc='sum', values=TV).plot(kind='barh', figsize=(15,8), logx=True)\n"
   ]
  },
  {
   "cell_type": "markdown",
   "metadata": {},
   "source": [
    "**Now go back to the Exercise 6 step in FutureLearn to discuss and mark it complete.**"
   ]
  }
 ],
 "metadata": {
  "kernelspec": {
   "display_name": "Python 3",
   "language": "python",
   "name": "python3"
  },
  "language_info": {
   "codemirror_mode": {
    "name": "ipython",
    "version": 3
   },
   "file_extension": ".py",
   "mimetype": "text/x-python",
   "name": "python",
   "nbconvert_exporter": "python",
   "pygments_lexer": "ipython3",
   "version": "3.4.3"
  }
 },
 "nbformat": 4,
 "nbformat_minor": 0
}
