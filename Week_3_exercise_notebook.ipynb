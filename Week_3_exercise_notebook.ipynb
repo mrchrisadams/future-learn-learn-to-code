{
 "cells": [
  {
   "cell_type": "markdown",
   "metadata": {},
   "source": [
    "# Exercise notebook 3: Transforming and Combining Data\n",
    "\n",
    "This Jupyter notebook is for Week 3 of The Open University's [_Learn to code for Data Analysis_](http://futurelearn.com/courses/learn-to-code) course.\n",
    "\n",
    "This notebook has all Week 3 code examples and coding exercises. Remember to start by running the code in this notebook. You will need to add a code cell below each task to complete it.\n",
    "\n",
    "You'll come across steps in the FutureLearn course directing you to this notebook. Once you've done the exercise, go back to FutureLearn to discuss it with your fellow learners and course facilitators and mark it as complete."
   ]
  },
  {
   "cell_type": "code",
   "execution_count": 6,
   "metadata": {
    "collapsed": false
   },
   "outputs": [],
   "source": [
    "from pandas import *"
   ]
  },
  {
   "cell_type": "markdown",
   "metadata": {},
   "source": [
    "## Exercise 1: Creating the data"
   ]
  },
  {
   "cell_type": "markdown",
   "metadata": {},
   "source": [
    "Dataframes can be constructed from scratch as follows."
   ]
  },
  {
   "cell_type": "code",
   "execution_count": 7,
   "metadata": {
    "collapsed": false
   },
   "outputs": [
    {
     "data": {
      "text/html": [
       "<div>\n",
       "<table border=\"1\" class=\"dataframe\">\n",
       "  <thead>\n",
       "    <tr style=\"text-align: right;\">\n",
       "      <th></th>\n",
       "      <th>Country</th>\n",
       "      <th>GDP (US$)</th>\n",
       "    </tr>\n",
       "  </thead>\n",
       "  <tbody>\n",
       "    <tr>\n",
       "      <th>0</th>\n",
       "      <td>UK</td>\n",
       "      <td>2.678455e+12</td>\n",
       "    </tr>\n",
       "    <tr>\n",
       "      <th>1</th>\n",
       "      <td>USA</td>\n",
       "      <td>1.676810e+13</td>\n",
       "    </tr>\n",
       "    <tr>\n",
       "      <th>2</th>\n",
       "      <td>China</td>\n",
       "      <td>9.240270e+12</td>\n",
       "    </tr>\n",
       "    <tr>\n",
       "      <th>3</th>\n",
       "      <td>Brazil</td>\n",
       "      <td>2.245673e+12</td>\n",
       "    </tr>\n",
       "    <tr>\n",
       "      <th>4</th>\n",
       "      <td>South Africa</td>\n",
       "      <td>3.660579e+11</td>\n",
       "    </tr>\n",
       "  </tbody>\n",
       "</table>\n",
       "</div>"
      ],
      "text/plain": [
       "        Country     GDP (US$)\n",
       "0            UK  2.678455e+12\n",
       "1           USA  1.676810e+13\n",
       "2         China  9.240270e+12\n",
       "3        Brazil  2.245673e+12\n",
       "4  South Africa  3.660579e+11"
      ]
     },
     "execution_count": 7,
     "metadata": {},
     "output_type": "execute_result"
    }
   ],
   "source": [
    "headings = ['Country', 'GDP (US$)']\n",
    "table = [\n",
    "  ['UK', 2678454886796.7],    # 1st row\n",
    "  ['USA', 16768100000000.0],  # 2nd row\n",
    "  ['China', 9240270452047.0], # and so on...\n",
    "  ['Brazil', 2245673032353.8],\n",
    "  ['South Africa', 366057913367.1]\n",
    "]\n",
    "gdp = DataFrame(columns=headings, data=table)\n",
    "gdp"
   ]
  },
  {
   "cell_type": "markdown",
   "metadata": {},
   "source": [
    "And similarly for the life expectancy of those born in 2013..."
   ]
  },
  {
   "cell_type": "code",
   "execution_count": 8,
   "metadata": {
    "collapsed": false
   },
   "outputs": [
    {
     "data": {
      "text/html": [
       "<div>\n",
       "<table border=\"1\" class=\"dataframe\">\n",
       "  <thead>\n",
       "    <tr style=\"text-align: right;\">\n",
       "      <th></th>\n",
       "      <th>Country name</th>\n",
       "      <th>Life expectancy (years)</th>\n",
       "    </tr>\n",
       "  </thead>\n",
       "  <tbody>\n",
       "    <tr>\n",
       "      <th>0</th>\n",
       "      <td>China</td>\n",
       "      <td>75</td>\n",
       "    </tr>\n",
       "    <tr>\n",
       "      <th>1</th>\n",
       "      <td>Russia</td>\n",
       "      <td>71</td>\n",
       "    </tr>\n",
       "    <tr>\n",
       "      <th>2</th>\n",
       "      <td>United States</td>\n",
       "      <td>79</td>\n",
       "    </tr>\n",
       "    <tr>\n",
       "      <th>3</th>\n",
       "      <td>India</td>\n",
       "      <td>66</td>\n",
       "    </tr>\n",
       "    <tr>\n",
       "      <th>4</th>\n",
       "      <td>United Kingdom</td>\n",
       "      <td>81</td>\n",
       "    </tr>\n",
       "  </tbody>\n",
       "</table>\n",
       "</div>"
      ],
      "text/plain": [
       "     Country name  Life expectancy (years)\n",
       "0           China                       75\n",
       "1          Russia                       71\n",
       "2   United States                       79\n",
       "3           India                       66\n",
       "4  United Kingdom                       81"
      ]
     },
     "execution_count": 8,
     "metadata": {},
     "output_type": "execute_result"
    }
   ],
   "source": [
    "headings = ['Country name', 'Life expectancy (years)']\n",
    "table = [\n",
    "  ['China', 75],\n",
    "  ['Russia', 71],  \n",
    "  ['United States', 79],\n",
    "  ['India', 66],\n",
    "  ['United Kingdom', 81]\n",
    "]\n",
    "life = DataFrame(columns=headings, data=table)\n",
    "life"
   ]
  },
  {
   "cell_type": "markdown",
   "metadata": {},
   "source": [
    "### Task\n",
    "\n",
    "Create a dataframe with all five BRICS countries and their population, in thousands of inhabitants, in 2013. The values (given in week 1) are: Brazil 200362, Russian Federation\t142834, India 1252140, China 1393337, South Africa 52776."
   ]
  },
  {
   "cell_type": "code",
   "execution_count": 9,
   "metadata": {
    "collapsed": false
   },
   "outputs": [
    {
     "data": {
      "text/html": [
       "<div>\n",
       "<table border=\"1\" class=\"dataframe\">\n",
       "  <thead>\n",
       "    <tr style=\"text-align: right;\">\n",
       "      <th></th>\n",
       "      <th>Country</th>\n",
       "      <th>Population in 1000s</th>\n",
       "    </tr>\n",
       "  </thead>\n",
       "  <tbody>\n",
       "    <tr>\n",
       "      <th>0</th>\n",
       "      <td>Brazil</td>\n",
       "      <td>200362</td>\n",
       "    </tr>\n",
       "    <tr>\n",
       "      <th>1</th>\n",
       "      <td>Russian Federation</td>\n",
       "      <td>142834</td>\n",
       "    </tr>\n",
       "    <tr>\n",
       "      <th>2</th>\n",
       "      <td>India</td>\n",
       "      <td>1252140</td>\n",
       "    </tr>\n",
       "    <tr>\n",
       "      <th>3</th>\n",
       "      <td>China</td>\n",
       "      <td>1393337</td>\n",
       "    </tr>\n",
       "    <tr>\n",
       "      <th>4</th>\n",
       "      <td>South Africa</td>\n",
       "      <td>52776</td>\n",
       "    </tr>\n",
       "  </tbody>\n",
       "</table>\n",
       "</div>"
      ],
      "text/plain": [
       "              Country  Population in 1000s\n",
       "0              Brazil               200362\n",
       "1  Russian Federation               142834\n",
       "2               India              1252140\n",
       "3               China              1393337\n",
       "4        South Africa                52776"
      ]
     },
     "execution_count": 9,
     "metadata": {},
     "output_type": "execute_result"
    }
   ],
   "source": [
    "headings = ['Country', 'Population in 1000s']\n",
    "values = [\n",
    "    ['Brazil', 200362],\n",
    "    ['Russian Federation', 142834],\n",
    "    ['India', 1252140],\n",
    "    ['China', 1393337],\n",
    "    ['South Africa', 52776]\n",
    "]\n",
    "bricPop = DataFrame(columns=headings, data=values)\n",
    "bricPop"
   ]
  },
  {
   "cell_type": "markdown",
   "metadata": {},
   "source": [
    "**Now go back to the Exercise 1 step in FutureLearn to discuss and mark it complete.**"
   ]
  },
  {
   "cell_type": "markdown",
   "metadata": {},
   "source": [
    "## Exercise 2: Defining functions\n",
    "\n",
    "The following function, written in two different ways, rounds a number to the nearest million. It calls the Python function `round()` which rounds a decimal number to the nearest integer."
   ]
  },
  {
   "cell_type": "code",
   "execution_count": 10,
   "metadata": {
    "collapsed": false
   },
   "outputs": [],
   "source": [
    "def roundToMillions (value):\n",
    "    result = round(value / 1000000)\n",
    "    return result"
   ]
  },
  {
   "cell_type": "code",
   "execution_count": 11,
   "metadata": {
    "collapsed": true
   },
   "outputs": [],
   "source": [
    "def roundToMillions (value):\n",
    "    return round(value / 1000000)"
   ]
  },
  {
   "cell_type": "markdown",
   "metadata": {},
   "source": [
    "To test a function, write expressions that check for various argument values whether the function returns the expected value in each case."
   ]
  },
  {
   "cell_type": "code",
   "execution_count": 12,
   "metadata": {
    "collapsed": false
   },
   "outputs": [
    {
     "data": {
      "text/plain": [
       "True"
      ]
     },
     "execution_count": 12,
     "metadata": {},
     "output_type": "execute_result"
    }
   ],
   "source": [
    "roundToMillions(4567890.1) == 5"
   ]
  },
  {
   "cell_type": "code",
   "execution_count": 13,
   "metadata": {
    "collapsed": false
   },
   "outputs": [
    {
     "data": {
      "text/plain": [
       "True"
      ]
     },
     "execution_count": 13,
     "metadata": {},
     "output_type": "execute_result"
    }
   ],
   "source": [
    "roundToMillions(0) == 0  # always test with zero..."
   ]
  },
  {
   "cell_type": "code",
   "execution_count": 14,
   "metadata": {
    "collapsed": false
   },
   "outputs": [
    {
     "data": {
      "text/plain": [
       "False"
      ]
     },
     "execution_count": 14,
     "metadata": {},
     "output_type": "execute_result"
    }
   ],
   "source": [
    "roundToMillions(-1) == 0 # ...and negative numbers"
   ]
  },
  {
   "cell_type": "code",
   "execution_count": 15,
   "metadata": {
    "collapsed": false
   },
   "outputs": [
    {
     "data": {
      "text/plain": [
       "True"
      ]
     },
     "execution_count": 15,
     "metadata": {},
     "output_type": "execute_result"
    }
   ],
   "source": [
    "roundToMillions(1499999) == 1 # test rounding to the nearest"
   ]
  },
  {
   "cell_type": "markdown",
   "metadata": {},
   "source": [
    "The next function converts US dollars to British pounds."
   ]
  },
  {
   "cell_type": "code",
   "execution_count": 16,
   "metadata": {
    "collapsed": false
   },
   "outputs": [
    {
     "data": {
      "text/plain": [
       "True"
      ]
     },
     "execution_count": 16,
     "metadata": {},
     "output_type": "execute_result"
    }
   ],
   "source": [
    "def usdToGBP (usd):\n",
    "    return usd / 1.564768 # average rate during 2013 \n",
    "\n",
    "usdToGBP(0) == 0"
   ]
  },
  {
   "cell_type": "code",
   "execution_count": 17,
   "metadata": {
    "collapsed": false
   },
   "outputs": [
    {
     "data": {
      "text/plain": [
       "True"
      ]
     },
     "execution_count": 17,
     "metadata": {},
     "output_type": "execute_result"
    }
   ],
   "source": [
    "usdToGBP(1.564768) == 1"
   ]
  },
  {
   "cell_type": "code",
   "execution_count": 18,
   "metadata": {
    "collapsed": false
   },
   "outputs": [
    {
     "data": {
      "text/plain": [
       "True"
      ]
     },
     "execution_count": 18,
     "metadata": {},
     "output_type": "execute_result"
    }
   ],
   "source": [
    "usdToGBP(-1) < 0"
   ]
  },
  {
   "cell_type": "markdown",
   "metadata": {},
   "source": [
    "### Tasks\n",
    "\n",
    "- Define a few more test cases for both functions.\n",
    "- Write a function to convert US dollars to your local currency. Look up online what was the average exchange rate in 2013.\n",
    "- Why can't you use `roundToMillions()` to round the population to millions of inhabitants? Write a new function and test it."
   ]
  },
  {
   "cell_type": "code",
   "execution_count": 46,
   "metadata": {
    "collapsed": false
   },
   "outputs": [
    {
     "data": {
      "text/plain": [
       "True"
      ]
     },
     "execution_count": 46,
     "metadata": {},
     "output_type": "execute_result"
    }
   ],
   "source": [
    "roundToMillions(20000000) == 20\n"
   ]
  },
  {
   "cell_type": "code",
   "execution_count": 49,
   "metadata": {
    "collapsed": false
   },
   "outputs": [
    {
     "data": {
      "text/plain": [
       "-0.8947013231354424"
      ]
     },
     "execution_count": 49,
     "metadata": {},
     "output_type": "execute_result"
    }
   ],
   "source": [
    "usdToGBP(-1.4)"
   ]
  },
  {
   "cell_type": "code",
   "execution_count": 55,
   "metadata": {
    "collapsed": false
   },
   "outputs": [
    {
     "name": "stderr",
     "output_type": "stream",
     "text": [
      "/Users/chrisadams/.virtualenvs/witan-notebooks/lib/python2.7/site-packages/ipykernel/__main__.py:1: FutureWarning: irow(i) is deprecated. Please use .iloc[i] or .iat[i]\n",
      "  if __name__ == '__main__':\n"
     ]
    },
    {
     "data": {
      "text/plain": [
       "200.0"
      ]
     },
     "execution_count": 55,
     "metadata": {},
     "output_type": "execute_result"
    }
   ],
   "source": [
    "brazilPop = bricPop['Population in 1000s'].irow(0)\n",
    "\n",
    "roundToMillions(brazilPop * 1000)"
   ]
  },
  {
   "cell_type": "markdown",
   "metadata": {},
   "source": [
    "You can't round the number to millions, becuase population is already expressed in thousands.\n",
    "\n",
    "In order to make work, you'll need to multiply population by a thousand before using the rounad to millions, like so:"
   ]
  },
  {
   "cell_type": "code",
   "execution_count": 56,
   "metadata": {
    "collapsed": true
   },
   "outputs": [],
   "source": [
    "def roundPopToMillions(countryPop):\n",
    "    return roundToMillions(countryPop * 1000)\n",
    "\n",
    "    "
   ]
  },
  {
   "cell_type": "code",
   "execution_count": 57,
   "metadata": {
    "collapsed": false
   },
   "outputs": [
    {
     "data": {
      "text/plain": [
       "True"
      ]
     },
     "execution_count": 57,
     "metadata": {},
     "output_type": "execute_result"
    }
   ],
   "source": [
    "roundPopToMillions(brazilPop) == 200"
   ]
  },
  {
   "cell_type": "markdown",
   "metadata": {},
   "source": [
    "\n",
    "\n",
    "**Now go back to the Exercise 2 step in FutureLearn to discuss and mark it complete.**"
   ]
  },
  {
   "cell_type": "markdown",
   "metadata": {},
   "source": [
    "## Exercise 3: What if...?\n",
    "\n",
    "The next function uses the full form of the conditional statement to expand the abbreviated country names UK and USA and leave other names unchanged."
   ]
  },
  {
   "cell_type": "code",
   "execution_count": 20,
   "metadata": {
    "collapsed": false
   },
   "outputs": [
    {
     "data": {
      "text/plain": [
       "True"
      ]
     },
     "execution_count": 20,
     "metadata": {},
     "output_type": "execute_result"
    }
   ],
   "source": [
    "def expandCountry (name):\n",
    "    if name == 'UK':\n",
    "        return 'United Kingdom'\n",
    "    elif name == 'USA':\n",
    "        return 'United States'\n",
    "    else:\n",
    "        return name\n",
    "\n",
    "expandCountry('India') == 'India'"
   ]
  },
  {
   "cell_type": "markdown",
   "metadata": {},
   "source": [
    "Here is the same function, written differently, using the simplest form of the conditional statement, without the `elif` and `else` parts."
   ]
  },
  {
   "cell_type": "code",
   "execution_count": 21,
   "metadata": {
    "collapsed": false
   },
   "outputs": [],
   "source": [
    "def expandCountry (name):\n",
    "    if name == 'UK':\n",
    "        name = 'United Kingdom'\n",
    "    if name == 'USA':\n",
    "        name = 'United States'\n",
    "    return name"
   ]
  },
  {
   "cell_type": "markdown",
   "metadata": {},
   "source": [
    "### Tasks\n",
    "\n",
    "1. Write more tests.\n",
    "- Explain why the second version of the function works. Note how the code is indented.\n",
    "- Extend both versions to expand 'St. Lucia' to 'Saint Lucia'.\n",
    "- Write a function to translate some country names from their original language to English, e.g. 'Brasil' to 'Brazil', 'España' to 'Spain' and 'Deutschland' to 'Germany'.\n",
    "- Can you think of a different way of expanding abbreviated country names? Hint: this is a course about data tables."
   ]
  },
  {
   "cell_type": "markdown",
   "metadata": {},
   "source": [
    "**Now go back to the Exercise 3 step in FutureLearn to discuss and mark it complete.**"
   ]
  },
  {
   "cell_type": "markdown",
   "metadata": {},
   "source": [
    "## Exercise 4: Applying functions\n",
    "\n",
    "A one-argument function can be applied to each cell in a column, in order to obtain a new column with the converted values."
   ]
  },
  {
   "cell_type": "code",
   "execution_count": 22,
   "metadata": {
    "collapsed": false
   },
   "outputs": [
    {
     "data": {
      "text/html": [
       "<div>\n",
       "<table border=\"1\" class=\"dataframe\">\n",
       "  <thead>\n",
       "    <tr style=\"text-align: right;\">\n",
       "      <th></th>\n",
       "      <th>Country</th>\n",
       "      <th>GDP (US$)</th>\n",
       "      <th>Country name</th>\n",
       "    </tr>\n",
       "  </thead>\n",
       "  <tbody>\n",
       "    <tr>\n",
       "      <th>0</th>\n",
       "      <td>UK</td>\n",
       "      <td>2.678455e+12</td>\n",
       "      <td>United Kingdom</td>\n",
       "    </tr>\n",
       "    <tr>\n",
       "      <th>1</th>\n",
       "      <td>USA</td>\n",
       "      <td>1.676810e+13</td>\n",
       "      <td>United States</td>\n",
       "    </tr>\n",
       "    <tr>\n",
       "      <th>2</th>\n",
       "      <td>China</td>\n",
       "      <td>9.240270e+12</td>\n",
       "      <td>China</td>\n",
       "    </tr>\n",
       "    <tr>\n",
       "      <th>3</th>\n",
       "      <td>Brazil</td>\n",
       "      <td>2.245673e+12</td>\n",
       "      <td>Brazil</td>\n",
       "    </tr>\n",
       "    <tr>\n",
       "      <th>4</th>\n",
       "      <td>South Africa</td>\n",
       "      <td>3.660579e+11</td>\n",
       "      <td>South Africa</td>\n",
       "    </tr>\n",
       "  </tbody>\n",
       "</table>\n",
       "</div>"
      ],
      "text/plain": [
       "        Country     GDP (US$)    Country name\n",
       "0            UK  2.678455e+12  United Kingdom\n",
       "1           USA  1.676810e+13   United States\n",
       "2         China  9.240270e+12           China\n",
       "3        Brazil  2.245673e+12          Brazil\n",
       "4  South Africa  3.660579e+11    South Africa"
      ]
     },
     "execution_count": 22,
     "metadata": {},
     "output_type": "execute_result"
    }
   ],
   "source": [
    "gdp['Country name'] = gdp['Country'].apply(expandCountry)\n",
    "gdp"
   ]
  },
  {
   "cell_type": "markdown",
   "metadata": {},
   "source": [
    "Given that `apply()` is a column method that returns a column, it can be **chained**, to apply several conversions in one go."
   ]
  },
  {
   "cell_type": "code",
   "execution_count": 23,
   "metadata": {
    "collapsed": false
   },
   "outputs": [
    {
     "data": {
      "text/html": [
       "<div>\n",
       "<table border=\"1\" class=\"dataframe\">\n",
       "  <thead>\n",
       "    <tr style=\"text-align: right;\">\n",
       "      <th></th>\n",
       "      <th>Country</th>\n",
       "      <th>GDP (US$)</th>\n",
       "      <th>Country name</th>\n",
       "      <th>GDP (£m)</th>\n",
       "    </tr>\n",
       "  </thead>\n",
       "  <tbody>\n",
       "    <tr>\n",
       "      <th>0</th>\n",
       "      <td>UK</td>\n",
       "      <td>2.678455e+12</td>\n",
       "      <td>United Kingdom</td>\n",
       "      <td>1711727</td>\n",
       "    </tr>\n",
       "    <tr>\n",
       "      <th>1</th>\n",
       "      <td>USA</td>\n",
       "      <td>1.676810e+13</td>\n",
       "      <td>United States</td>\n",
       "      <td>10716029</td>\n",
       "    </tr>\n",
       "    <tr>\n",
       "      <th>2</th>\n",
       "      <td>China</td>\n",
       "      <td>9.240270e+12</td>\n",
       "      <td>China</td>\n",
       "      <td>5905202</td>\n",
       "    </tr>\n",
       "    <tr>\n",
       "      <th>3</th>\n",
       "      <td>Brazil</td>\n",
       "      <td>2.245673e+12</td>\n",
       "      <td>Brazil</td>\n",
       "      <td>1435148</td>\n",
       "    </tr>\n",
       "    <tr>\n",
       "      <th>4</th>\n",
       "      <td>South Africa</td>\n",
       "      <td>3.660579e+11</td>\n",
       "      <td>South Africa</td>\n",
       "      <td>233937</td>\n",
       "    </tr>\n",
       "  </tbody>\n",
       "</table>\n",
       "</div>"
      ],
      "text/plain": [
       "        Country     GDP (US$)    Country name  GDP (£m)\n",
       "0            UK  2.678455e+12  United Kingdom   1711727\n",
       "1           USA  1.676810e+13   United States  10716029\n",
       "2         China  9.240270e+12           China   5905202\n",
       "3        Brazil  2.245673e+12          Brazil   1435148\n",
       "4  South Africa  3.660579e+11    South Africa    233937"
      ]
     },
     "execution_count": 23,
     "metadata": {},
     "output_type": "execute_result"
    }
   ],
   "source": [
    "gdp['GDP (£m)'] = gdp['GDP (US$)'].apply(usdToGBP).apply(roundToMillions)\n",
    "gdp"
   ]
  },
  {
   "cell_type": "markdown",
   "metadata": {},
   "source": [
    "Applying the conversion functions in a different order will lead to a different result."
   ]
  },
  {
   "cell_type": "code",
   "execution_count": 24,
   "metadata": {
    "collapsed": false
   },
   "outputs": [
    {
     "data": {
      "text/plain": [
       "0     1711727\n",
       "1    10716029\n",
       "2     5905201\n",
       "3     1435148\n",
       "4      233938\n",
       "Name: GDP (US$), dtype: float64"
      ]
     },
     "execution_count": 24,
     "metadata": {},
     "output_type": "execute_result"
    }
   ],
   "source": [
    "gdp['GDP (US$)'].apply(roundToMillions).apply(usdToGBP).apply(round)"
   ]
  },
  {
   "cell_type": "markdown",
   "metadata": {},
   "source": [
    "The original columns can be discarded."
   ]
  },
  {
   "cell_type": "code",
   "execution_count": 25,
   "metadata": {
    "collapsed": false
   },
   "outputs": [
    {
     "data": {
      "text/html": [
       "<div>\n",
       "<table border=\"1\" class=\"dataframe\">\n",
       "  <thead>\n",
       "    <tr style=\"text-align: right;\">\n",
       "      <th></th>\n",
       "      <th>Country name</th>\n",
       "      <th>GDP (£m)</th>\n",
       "    </tr>\n",
       "  </thead>\n",
       "  <tbody>\n",
       "    <tr>\n",
       "      <th>0</th>\n",
       "      <td>United Kingdom</td>\n",
       "      <td>1711727</td>\n",
       "    </tr>\n",
       "    <tr>\n",
       "      <th>1</th>\n",
       "      <td>United States</td>\n",
       "      <td>10716029</td>\n",
       "    </tr>\n",
       "    <tr>\n",
       "      <th>2</th>\n",
       "      <td>China</td>\n",
       "      <td>5905202</td>\n",
       "    </tr>\n",
       "    <tr>\n",
       "      <th>3</th>\n",
       "      <td>Brazil</td>\n",
       "      <td>1435148</td>\n",
       "    </tr>\n",
       "    <tr>\n",
       "      <th>4</th>\n",
       "      <td>South Africa</td>\n",
       "      <td>233937</td>\n",
       "    </tr>\n",
       "  </tbody>\n",
       "</table>\n",
       "</div>"
      ],
      "text/plain": [
       "     Country name  GDP (£m)\n",
       "0  United Kingdom   1711727\n",
       "1   United States  10716029\n",
       "2           China   5905202\n",
       "3          Brazil   1435148\n",
       "4    South Africa    233937"
      ]
     },
     "execution_count": 25,
     "metadata": {},
     "output_type": "execute_result"
    }
   ],
   "source": [
    "headings = ['Country name', 'GDP (£m)']\n",
    "gdp = gdp[headings]\n",
    "gdp"
   ]
  },
  {
   "cell_type": "markdown",
   "metadata": {},
   "source": [
    "### Task\n",
    "\n",
    "Take the dataframe you created for Exercise 1, and apply to its population column the rounding function you wrote in Exercise 2."
   ]
  },
  {
   "cell_type": "markdown",
   "metadata": {},
   "source": [
    "**Now go back to the Exercise 4 step in FutureLearn to discuss and mark it complete.**"
   ]
  },
  {
   "cell_type": "markdown",
   "metadata": {},
   "source": [
    "## Exercise 5: Joining left, right and centre\n",
    "\n",
    "At this point, both tables have a common column, 'Country name', with fully expanded country names."
   ]
  },
  {
   "cell_type": "code",
   "execution_count": 26,
   "metadata": {
    "collapsed": false,
    "scrolled": true
   },
   "outputs": [
    {
     "data": {
      "text/html": [
       "<div>\n",
       "<table border=\"1\" class=\"dataframe\">\n",
       "  <thead>\n",
       "    <tr style=\"text-align: right;\">\n",
       "      <th></th>\n",
       "      <th>Country name</th>\n",
       "      <th>Life expectancy (years)</th>\n",
       "    </tr>\n",
       "  </thead>\n",
       "  <tbody>\n",
       "    <tr>\n",
       "      <th>0</th>\n",
       "      <td>China</td>\n",
       "      <td>75</td>\n",
       "    </tr>\n",
       "    <tr>\n",
       "      <th>1</th>\n",
       "      <td>Russia</td>\n",
       "      <td>71</td>\n",
       "    </tr>\n",
       "    <tr>\n",
       "      <th>2</th>\n",
       "      <td>United States</td>\n",
       "      <td>79</td>\n",
       "    </tr>\n",
       "    <tr>\n",
       "      <th>3</th>\n",
       "      <td>India</td>\n",
       "      <td>66</td>\n",
       "    </tr>\n",
       "    <tr>\n",
       "      <th>4</th>\n",
       "      <td>United Kingdom</td>\n",
       "      <td>81</td>\n",
       "    </tr>\n",
       "  </tbody>\n",
       "</table>\n",
       "</div>"
      ],
      "text/plain": [
       "     Country name  Life expectancy (years)\n",
       "0           China                       75\n",
       "1          Russia                       71\n",
       "2   United States                       79\n",
       "3           India                       66\n",
       "4  United Kingdom                       81"
      ]
     },
     "execution_count": 26,
     "metadata": {},
     "output_type": "execute_result"
    }
   ],
   "source": [
    "life"
   ]
  },
  {
   "cell_type": "code",
   "execution_count": 27,
   "metadata": {
    "collapsed": false
   },
   "outputs": [
    {
     "data": {
      "text/html": [
       "<div>\n",
       "<table border=\"1\" class=\"dataframe\">\n",
       "  <thead>\n",
       "    <tr style=\"text-align: right;\">\n",
       "      <th></th>\n",
       "      <th>Country name</th>\n",
       "      <th>GDP (£m)</th>\n",
       "    </tr>\n",
       "  </thead>\n",
       "  <tbody>\n",
       "    <tr>\n",
       "      <th>0</th>\n",
       "      <td>United Kingdom</td>\n",
       "      <td>1711727</td>\n",
       "    </tr>\n",
       "    <tr>\n",
       "      <th>1</th>\n",
       "      <td>United States</td>\n",
       "      <td>10716029</td>\n",
       "    </tr>\n",
       "    <tr>\n",
       "      <th>2</th>\n",
       "      <td>China</td>\n",
       "      <td>5905202</td>\n",
       "    </tr>\n",
       "    <tr>\n",
       "      <th>3</th>\n",
       "      <td>Brazil</td>\n",
       "      <td>1435148</td>\n",
       "    </tr>\n",
       "    <tr>\n",
       "      <th>4</th>\n",
       "      <td>South Africa</td>\n",
       "      <td>233937</td>\n",
       "    </tr>\n",
       "  </tbody>\n",
       "</table>\n",
       "</div>"
      ],
      "text/plain": [
       "     Country name  GDP (£m)\n",
       "0  United Kingdom   1711727\n",
       "1   United States  10716029\n",
       "2           China   5905202\n",
       "3          Brazil   1435148\n",
       "4    South Africa    233937"
      ]
     },
     "execution_count": 27,
     "metadata": {},
     "output_type": "execute_result"
    }
   ],
   "source": [
    "gdp"
   ]
  },
  {
   "cell_type": "markdown",
   "metadata": {},
   "source": [
    "A **left join** takes the rows of the left table and adds the columns of the right table. "
   ]
  },
  {
   "cell_type": "code",
   "execution_count": 28,
   "metadata": {
    "collapsed": false
   },
   "outputs": [
    {
     "data": {
      "text/html": [
       "<div>\n",
       "<table border=\"1\" class=\"dataframe\">\n",
       "  <thead>\n",
       "    <tr style=\"text-align: right;\">\n",
       "      <th></th>\n",
       "      <th>Country name</th>\n",
       "      <th>GDP (£m)</th>\n",
       "      <th>Life expectancy (years)</th>\n",
       "    </tr>\n",
       "  </thead>\n",
       "  <tbody>\n",
       "    <tr>\n",
       "      <th>0</th>\n",
       "      <td>United Kingdom</td>\n",
       "      <td>1711727</td>\n",
       "      <td>81</td>\n",
       "    </tr>\n",
       "    <tr>\n",
       "      <th>1</th>\n",
       "      <td>United States</td>\n",
       "      <td>10716029</td>\n",
       "      <td>79</td>\n",
       "    </tr>\n",
       "    <tr>\n",
       "      <th>2</th>\n",
       "      <td>China</td>\n",
       "      <td>5905202</td>\n",
       "      <td>75</td>\n",
       "    </tr>\n",
       "    <tr>\n",
       "      <th>3</th>\n",
       "      <td>Brazil</td>\n",
       "      <td>1435148</td>\n",
       "      <td>NaN</td>\n",
       "    </tr>\n",
       "    <tr>\n",
       "      <th>4</th>\n",
       "      <td>South Africa</td>\n",
       "      <td>233937</td>\n",
       "      <td>NaN</td>\n",
       "    </tr>\n",
       "  </tbody>\n",
       "</table>\n",
       "</div>"
      ],
      "text/plain": [
       "     Country name  GDP (£m)  Life expectancy (years)\n",
       "0  United Kingdom   1711727                       81\n",
       "1   United States  10716029                       79\n",
       "2           China   5905202                       75\n",
       "3          Brazil   1435148                      NaN\n",
       "4    South Africa    233937                      NaN"
      ]
     },
     "execution_count": 28,
     "metadata": {},
     "output_type": "execute_result"
    }
   ],
   "source": [
    "merge(gdp, life, on='Country name', how='left')"
   ]
  },
  {
   "cell_type": "markdown",
   "metadata": {},
   "source": [
    "A **right join** takes the rows from the right table, and adds the columns of the left table."
   ]
  },
  {
   "cell_type": "code",
   "execution_count": 29,
   "metadata": {
    "collapsed": false
   },
   "outputs": [
    {
     "data": {
      "text/html": [
       "<div>\n",
       "<table border=\"1\" class=\"dataframe\">\n",
       "  <thead>\n",
       "    <tr style=\"text-align: right;\">\n",
       "      <th></th>\n",
       "      <th>Country name</th>\n",
       "      <th>GDP (£m)</th>\n",
       "      <th>Life expectancy (years)</th>\n",
       "    </tr>\n",
       "  </thead>\n",
       "  <tbody>\n",
       "    <tr>\n",
       "      <th>0</th>\n",
       "      <td>United Kingdom</td>\n",
       "      <td>1711727</td>\n",
       "      <td>81</td>\n",
       "    </tr>\n",
       "    <tr>\n",
       "      <th>1</th>\n",
       "      <td>United States</td>\n",
       "      <td>10716029</td>\n",
       "      <td>79</td>\n",
       "    </tr>\n",
       "    <tr>\n",
       "      <th>2</th>\n",
       "      <td>China</td>\n",
       "      <td>5905202</td>\n",
       "      <td>75</td>\n",
       "    </tr>\n",
       "    <tr>\n",
       "      <th>3</th>\n",
       "      <td>Russia</td>\n",
       "      <td>NaN</td>\n",
       "      <td>71</td>\n",
       "    </tr>\n",
       "    <tr>\n",
       "      <th>4</th>\n",
       "      <td>India</td>\n",
       "      <td>NaN</td>\n",
       "      <td>66</td>\n",
       "    </tr>\n",
       "  </tbody>\n",
       "</table>\n",
       "</div>"
      ],
      "text/plain": [
       "     Country name  GDP (£m)  Life expectancy (years)\n",
       "0  United Kingdom   1711727                       81\n",
       "1   United States  10716029                       79\n",
       "2           China   5905202                       75\n",
       "3          Russia       NaN                       71\n",
       "4           India       NaN                       66"
      ]
     },
     "execution_count": 29,
     "metadata": {},
     "output_type": "execute_result"
    }
   ],
   "source": [
    "merge(gdp, life, on='Country name', how='right')"
   ]
  },
  {
   "cell_type": "markdown",
   "metadata": {},
   "source": [
    "An **outer join** takes the union of the rows, i.e. it has all the rows of the left and right joins."
   ]
  },
  {
   "cell_type": "code",
   "execution_count": 30,
   "metadata": {
    "collapsed": false
   },
   "outputs": [
    {
     "data": {
      "text/html": [
       "<div>\n",
       "<table border=\"1\" class=\"dataframe\">\n",
       "  <thead>\n",
       "    <tr style=\"text-align: right;\">\n",
       "      <th></th>\n",
       "      <th>Country name</th>\n",
       "      <th>GDP (£m)</th>\n",
       "      <th>Life expectancy (years)</th>\n",
       "    </tr>\n",
       "  </thead>\n",
       "  <tbody>\n",
       "    <tr>\n",
       "      <th>0</th>\n",
       "      <td>United Kingdom</td>\n",
       "      <td>1711727</td>\n",
       "      <td>81</td>\n",
       "    </tr>\n",
       "    <tr>\n",
       "      <th>1</th>\n",
       "      <td>United States</td>\n",
       "      <td>10716029</td>\n",
       "      <td>79</td>\n",
       "    </tr>\n",
       "    <tr>\n",
       "      <th>2</th>\n",
       "      <td>China</td>\n",
       "      <td>5905202</td>\n",
       "      <td>75</td>\n",
       "    </tr>\n",
       "    <tr>\n",
       "      <th>3</th>\n",
       "      <td>Brazil</td>\n",
       "      <td>1435148</td>\n",
       "      <td>NaN</td>\n",
       "    </tr>\n",
       "    <tr>\n",
       "      <th>4</th>\n",
       "      <td>South Africa</td>\n",
       "      <td>233937</td>\n",
       "      <td>NaN</td>\n",
       "    </tr>\n",
       "    <tr>\n",
       "      <th>5</th>\n",
       "      <td>Russia</td>\n",
       "      <td>NaN</td>\n",
       "      <td>71</td>\n",
       "    </tr>\n",
       "    <tr>\n",
       "      <th>6</th>\n",
       "      <td>India</td>\n",
       "      <td>NaN</td>\n",
       "      <td>66</td>\n",
       "    </tr>\n",
       "  </tbody>\n",
       "</table>\n",
       "</div>"
      ],
      "text/plain": [
       "     Country name  GDP (£m)  Life expectancy (years)\n",
       "0  United Kingdom   1711727                       81\n",
       "1   United States  10716029                       79\n",
       "2           China   5905202                       75\n",
       "3          Brazil   1435148                      NaN\n",
       "4    South Africa    233937                      NaN\n",
       "5          Russia       NaN                       71\n",
       "6           India       NaN                       66"
      ]
     },
     "execution_count": 30,
     "metadata": {},
     "output_type": "execute_result"
    }
   ],
   "source": [
    "merge(gdp, life, on='Country name', how='outer')"
   ]
  },
  {
   "cell_type": "markdown",
   "metadata": {},
   "source": [
    "An **inner join** takes the intersection of the rows (i.e. the common rows) of the left and right joins."
   ]
  },
  {
   "cell_type": "code",
   "execution_count": 31,
   "metadata": {
    "collapsed": false
   },
   "outputs": [
    {
     "data": {
      "text/html": [
       "<div>\n",
       "<table border=\"1\" class=\"dataframe\">\n",
       "  <thead>\n",
       "    <tr style=\"text-align: right;\">\n",
       "      <th></th>\n",
       "      <th>Country name</th>\n",
       "      <th>GDP (£m)</th>\n",
       "      <th>Life expectancy (years)</th>\n",
       "    </tr>\n",
       "  </thead>\n",
       "  <tbody>\n",
       "    <tr>\n",
       "      <th>0</th>\n",
       "      <td>United Kingdom</td>\n",
       "      <td>1711727</td>\n",
       "      <td>81</td>\n",
       "    </tr>\n",
       "    <tr>\n",
       "      <th>1</th>\n",
       "      <td>United States</td>\n",
       "      <td>10716029</td>\n",
       "      <td>79</td>\n",
       "    </tr>\n",
       "    <tr>\n",
       "      <th>2</th>\n",
       "      <td>China</td>\n",
       "      <td>5905202</td>\n",
       "      <td>75</td>\n",
       "    </tr>\n",
       "  </tbody>\n",
       "</table>\n",
       "</div>"
      ],
      "text/plain": [
       "     Country name  GDP (£m)  Life expectancy (years)\n",
       "0  United Kingdom   1711727                       81\n",
       "1   United States  10716029                       79\n",
       "2           China   5905202                       75"
      ]
     },
     "execution_count": 31,
     "metadata": {},
     "output_type": "execute_result"
    }
   ],
   "source": [
    "gdpVsLife = merge(gdp, life, on='Country name', how='inner')\n",
    "gdpVsLife"
   ]
  },
  {
   "cell_type": "markdown",
   "metadata": {},
   "source": [
    "### Task\n",
    "\n",
    "Join your population dataframe (from Exercise 4) with `gdpVsLife`, in four different ways, and note the differences."
   ]
  },
  {
   "cell_type": "markdown",
   "metadata": {},
   "source": [
    "**Now go back to the Exercise 5 step in FutureLearn to discuss and mark it complete.**"
   ]
  },
  {
   "cell_type": "markdown",
   "metadata": {},
   "source": [
    "## Exercise 6: Constant variables\n",
    "\n",
    "Constants are used to represent fixed values (e.g. strings and numbers) that occur frequently in a program. Constant names are conventionally written in uppercase, with underscores to separate multiple words."
   ]
  },
  {
   "cell_type": "code",
   "execution_count": 32,
   "metadata": {
    "collapsed": false
   },
   "outputs": [
    {
     "data": {
      "text/plain": [
       "'GDP (US$)'"
      ]
     },
     "execution_count": 32,
     "metadata": {},
     "output_type": "execute_result"
    }
   ],
   "source": [
    "GDP_USD = 'GDP (US$)'\n",
    "GDP_GBP = 'GDP (£m)'\n",
    "GDP_USD"
   ]
  },
  {
   "cell_type": "markdown",
   "metadata": {},
   "source": [
    "### Task\n",
    "\n",
    "Look through the code you wrote so far, and rewrite it using constants, when appropriate."
   ]
  },
  {
   "cell_type": "markdown",
   "metadata": {},
   "source": [
    "## Exercise 7: Getting real\n",
    "\n",
    "It is possible to directly download data from the World Bank, for a particular indicator and time period. The indicator is given in the URL of the webpage about the dataset."
   ]
  },
  {
   "cell_type": "code",
   "execution_count": 33,
   "metadata": {
    "collapsed": false
   },
   "outputs": [
    {
     "name": "stderr",
     "output_type": "stream",
     "text": [
      "/Users/chrisadams/.virtualenvs/witan-notebooks/lib/python2.7/site-packages/pandas/io/wb.py:19: FutureWarning: \n",
      "The pandas.io.wb module is moved to a separate package (pandas-datareader) and will be removed from pandas in a future version.\n",
      "After installing the pandas-datareader package (https://github.com/pydata/pandas-datareader), you can change the import ``from pandas.io import data, wb`` to ``from pandas_datareader import data, wb``.\n",
      "  FutureWarning)\n"
     ]
    },
    {
     "data": {
      "text/html": [
       "<div>\n",
       "<table border=\"1\" class=\"dataframe\">\n",
       "  <thead>\n",
       "    <tr style=\"text-align: right;\">\n",
       "      <th></th>\n",
       "      <th></th>\n",
       "      <th>SP.DYN.LE00.IN</th>\n",
       "    </tr>\n",
       "    <tr>\n",
       "      <th>country</th>\n",
       "      <th>year</th>\n",
       "      <th></th>\n",
       "    </tr>\n",
       "  </thead>\n",
       "  <tbody>\n",
       "    <tr>\n",
       "      <th>Arab World</th>\n",
       "      <th>2013</th>\n",
       "      <td>70.085925</td>\n",
       "    </tr>\n",
       "    <tr>\n",
       "      <th>Caribbean small states</th>\n",
       "      <th>2013</th>\n",
       "      <td>72.000083</td>\n",
       "    </tr>\n",
       "    <tr>\n",
       "      <th>Central Europe and the Baltics</th>\n",
       "      <th>2013</th>\n",
       "      <td>76.127583</td>\n",
       "    </tr>\n",
       "    <tr>\n",
       "      <th>East Asia &amp; Pacific (all income levels)</th>\n",
       "      <th>2013</th>\n",
       "      <td>74.894858</td>\n",
       "    </tr>\n",
       "    <tr>\n",
       "      <th>East Asia &amp; Pacific (developing only)</th>\n",
       "      <th>2013</th>\n",
       "      <td>73.982971</td>\n",
       "    </tr>\n",
       "  </tbody>\n",
       "</table>\n",
       "</div>"
      ],
      "text/plain": [
       "                                              SP.DYN.LE00.IN\n",
       "country                                 year                \n",
       "Arab World                              2013       70.085925\n",
       "Caribbean small states                  2013       72.000083\n",
       "Central Europe and the Baltics          2013       76.127583\n",
       "East Asia & Pacific (all income levels) 2013       74.894858\n",
       "East Asia & Pacific (developing only)   2013       73.982971"
      ]
     },
     "execution_count": 33,
     "metadata": {},
     "output_type": "execute_result"
    }
   ],
   "source": [
    "from pandas.io.wb import download\n",
    "\n",
    "YEAR = 2013\n",
    "GDP_INDICATOR = 'NY.GDP.MKTP.CD'\n",
    "gdp = download(indicator=GDP_INDICATOR, country='all', start=YEAR, end=YEAR)\n",
    "LIFE_INDICATOR = 'SP.DYN.LE00.IN'\n",
    "life = download(indicator=LIFE_INDICATOR, country='all', start=YEAR, end=YEAR)\n",
    "life.head()"
   ]
  },
  {
   "cell_type": "markdown",
   "metadata": {},
   "source": [
    "The downloaded dataframe has descriptive row names instead of the usual 0, 1, 2, etc. In othe words, the dataframe's  index is given by the country and year instead of integers. Resetting the index puts the dataframe into the usual form. "
   ]
  },
  {
   "cell_type": "code",
   "execution_count": 34,
   "metadata": {
    "collapsed": false
   },
   "outputs": [
    {
     "data": {
      "text/html": [
       "<div>\n",
       "<table border=\"1\" class=\"dataframe\">\n",
       "  <thead>\n",
       "    <tr style=\"text-align: right;\">\n",
       "      <th></th>\n",
       "      <th>country</th>\n",
       "      <th>year</th>\n",
       "      <th>SP.DYN.LE00.IN</th>\n",
       "    </tr>\n",
       "  </thead>\n",
       "  <tbody>\n",
       "    <tr>\n",
       "      <th>0</th>\n",
       "      <td>Arab World</td>\n",
       "      <td>2013</td>\n",
       "      <td>70.085925</td>\n",
       "    </tr>\n",
       "    <tr>\n",
       "      <th>1</th>\n",
       "      <td>Caribbean small states</td>\n",
       "      <td>2013</td>\n",
       "      <td>72.000083</td>\n",
       "    </tr>\n",
       "    <tr>\n",
       "      <th>2</th>\n",
       "      <td>Central Europe and the Baltics</td>\n",
       "      <td>2013</td>\n",
       "      <td>76.127583</td>\n",
       "    </tr>\n",
       "    <tr>\n",
       "      <th>3</th>\n",
       "      <td>East Asia &amp; Pacific (all income levels)</td>\n",
       "      <td>2013</td>\n",
       "      <td>74.894858</td>\n",
       "    </tr>\n",
       "    <tr>\n",
       "      <th>4</th>\n",
       "      <td>East Asia &amp; Pacific (developing only)</td>\n",
       "      <td>2013</td>\n",
       "      <td>73.982971</td>\n",
       "    </tr>\n",
       "  </tbody>\n",
       "</table>\n",
       "</div>"
      ],
      "text/plain": [
       "                                   country  year  SP.DYN.LE00.IN\n",
       "0                               Arab World  2013       70.085925\n",
       "1                   Caribbean small states  2013       72.000083\n",
       "2           Central Europe and the Baltics  2013       76.127583\n",
       "3  East Asia & Pacific (all income levels)  2013       74.894858\n",
       "4    East Asia & Pacific (developing only)  2013       73.982971"
      ]
     },
     "execution_count": 34,
     "metadata": {},
     "output_type": "execute_result"
    }
   ],
   "source": [
    "gdp = gdp.reset_index()\n",
    "life = life.reset_index()\n",
    "life.head()"
   ]
  },
  {
   "cell_type": "markdown",
   "metadata": {},
   "source": [
    "### Task\n",
    "\n",
    "Find the World Bank indicator for the total population of each country, download the data for 2013, and reset the dataframe index."
   ]
  },
  {
   "cell_type": "markdown",
   "metadata": {},
   "source": [
    "**Now go back to the Exercise 7 step in FutureLearn to discuss and mark it complete.**"
   ]
  },
  {
   "cell_type": "markdown",
   "metadata": {},
   "source": [
    "## Exercise 8: Cleaning up\n",
    "\n",
    "The expression `frame[n:m]` represents a dataframe with only row `n` to row `m-1` (or until the end if `m` is omitted) of `frame`."
   ]
  },
  {
   "cell_type": "code",
   "execution_count": 35,
   "metadata": {
    "collapsed": false
   },
   "outputs": [
    {
     "data": {
      "text/html": [
       "<div>\n",
       "<table border=\"1\" class=\"dataframe\">\n",
       "  <thead>\n",
       "    <tr style=\"text-align: right;\">\n",
       "      <th></th>\n",
       "      <th>country</th>\n",
       "      <th>year</th>\n",
       "      <th>SP.DYN.LE00.IN</th>\n",
       "    </tr>\n",
       "  </thead>\n",
       "  <tbody>\n",
       "    <tr>\n",
       "      <th>0</th>\n",
       "      <td>Arab World</td>\n",
       "      <td>2013</td>\n",
       "      <td>70.085925</td>\n",
       "    </tr>\n",
       "    <tr>\n",
       "      <th>1</th>\n",
       "      <td>Caribbean small states</td>\n",
       "      <td>2013</td>\n",
       "      <td>72.000083</td>\n",
       "    </tr>\n",
       "    <tr>\n",
       "      <th>2</th>\n",
       "      <td>Central Europe and the Baltics</td>\n",
       "      <td>2013</td>\n",
       "      <td>76.127583</td>\n",
       "    </tr>\n",
       "  </tbody>\n",
       "</table>\n",
       "</div>"
      ],
      "text/plain": [
       "                          country  year  SP.DYN.LE00.IN\n",
       "0                      Arab World  2013       70.085925\n",
       "1          Caribbean small states  2013       72.000083\n",
       "2  Central Europe and the Baltics  2013       76.127583"
      ]
     },
     "execution_count": 35,
     "metadata": {},
     "output_type": "execute_result"
    }
   ],
   "source": [
    "life[0:3]"
   ]
  },
  {
   "cell_type": "code",
   "execution_count": 36,
   "metadata": {
    "collapsed": false
   },
   "outputs": [
    {
     "data": {
      "text/html": [
       "<div>\n",
       "<table border=\"1\" class=\"dataframe\">\n",
       "  <thead>\n",
       "    <tr style=\"text-align: right;\">\n",
       "      <th></th>\n",
       "      <th>country</th>\n",
       "      <th>year</th>\n",
       "      <th>SP.DYN.LE00.IN</th>\n",
       "    </tr>\n",
       "  </thead>\n",
       "  <tbody>\n",
       "    <tr>\n",
       "      <th>240</th>\n",
       "      <td>Uzbekistan</td>\n",
       "      <td>2013</td>\n",
       "      <td>68.227585</td>\n",
       "    </tr>\n",
       "    <tr>\n",
       "      <th>241</th>\n",
       "      <td>Vanuatu</td>\n",
       "      <td>2013</td>\n",
       "      <td>71.686829</td>\n",
       "    </tr>\n",
       "    <tr>\n",
       "      <th>242</th>\n",
       "      <td>Venezuela, RB</td>\n",
       "      <td>2013</td>\n",
       "      <td>74.643098</td>\n",
       "    </tr>\n",
       "    <tr>\n",
       "      <th>243</th>\n",
       "      <td>Vietnam</td>\n",
       "      <td>2013</td>\n",
       "      <td>75.756488</td>\n",
       "    </tr>\n",
       "    <tr>\n",
       "      <th>244</th>\n",
       "      <td>Virgin Islands (U.S.)</td>\n",
       "      <td>2013</td>\n",
       "      <td>79.624390</td>\n",
       "    </tr>\n",
       "    <tr>\n",
       "      <th>245</th>\n",
       "      <td>West Bank and Gaza</td>\n",
       "      <td>2013</td>\n",
       "      <td>73.203341</td>\n",
       "    </tr>\n",
       "    <tr>\n",
       "      <th>246</th>\n",
       "      <td>Yemen, Rep.</td>\n",
       "      <td>2013</td>\n",
       "      <td>63.089585</td>\n",
       "    </tr>\n",
       "    <tr>\n",
       "      <th>247</th>\n",
       "      <td>Zambia</td>\n",
       "      <td>2013</td>\n",
       "      <td>58.092780</td>\n",
       "    </tr>\n",
       "    <tr>\n",
       "      <th>248</th>\n",
       "      <td>Zimbabwe</td>\n",
       "      <td>2013</td>\n",
       "      <td>59.773488</td>\n",
       "    </tr>\n",
       "  </tbody>\n",
       "</table>\n",
       "</div>"
      ],
      "text/plain": [
       "                   country  year  SP.DYN.LE00.IN\n",
       "240             Uzbekistan  2013       68.227585\n",
       "241                Vanuatu  2013       71.686829\n",
       "242          Venezuela, RB  2013       74.643098\n",
       "243                Vietnam  2013       75.756488\n",
       "244  Virgin Islands (U.S.)  2013       79.624390\n",
       "245     West Bank and Gaza  2013       73.203341\n",
       "246            Yemen, Rep.  2013       63.089585\n",
       "247                 Zambia  2013       58.092780\n",
       "248               Zimbabwe  2013       59.773488"
      ]
     },
     "execution_count": 36,
     "metadata": {},
     "output_type": "execute_result"
    }
   ],
   "source": [
    "life[240:]"
   ]
  },
  {
   "cell_type": "markdown",
   "metadata": {},
   "source": [
    "The first 34 rows (from 0 to 33) of World Bank dataframes are aggregated data for country groups, and are thus discarded."
   ]
  },
  {
   "cell_type": "code",
   "execution_count": 37,
   "metadata": {
    "collapsed": false
   },
   "outputs": [
    {
     "data": {
      "text/html": [
       "<div>\n",
       "<table border=\"1\" class=\"dataframe\">\n",
       "  <thead>\n",
       "    <tr style=\"text-align: right;\">\n",
       "      <th></th>\n",
       "      <th>country</th>\n",
       "      <th>year</th>\n",
       "      <th>NY.GDP.MKTP.CD</th>\n",
       "    </tr>\n",
       "  </thead>\n",
       "  <tbody>\n",
       "    <tr>\n",
       "      <th>34</th>\n",
       "      <td>Afghanistan</td>\n",
       "      <td>2013</td>\n",
       "      <td>2.031088e+10</td>\n",
       "    </tr>\n",
       "    <tr>\n",
       "      <th>35</th>\n",
       "      <td>Albania</td>\n",
       "      <td>2013</td>\n",
       "      <td>1.291667e+10</td>\n",
       "    </tr>\n",
       "    <tr>\n",
       "      <th>36</th>\n",
       "      <td>Algeria</td>\n",
       "      <td>2013</td>\n",
       "      <td>2.101834e+11</td>\n",
       "    </tr>\n",
       "    <tr>\n",
       "      <th>37</th>\n",
       "      <td>American Samoa</td>\n",
       "      <td>2013</td>\n",
       "      <td>NaN</td>\n",
       "    </tr>\n",
       "    <tr>\n",
       "      <th>38</th>\n",
       "      <td>Andorra</td>\n",
       "      <td>2013</td>\n",
       "      <td>3.249101e+09</td>\n",
       "    </tr>\n",
       "  </tbody>\n",
       "</table>\n",
       "</div>"
      ],
      "text/plain": [
       "           country  year  NY.GDP.MKTP.CD\n",
       "34     Afghanistan  2013    2.031088e+10\n",
       "35         Albania  2013    1.291667e+10\n",
       "36         Algeria  2013    2.101834e+11\n",
       "37  American Samoa  2013             NaN\n",
       "38         Andorra  2013    3.249101e+09"
      ]
     },
     "execution_count": 37,
     "metadata": {},
     "output_type": "execute_result"
    }
   ],
   "source": [
    "gdp = gdp[34:]\n",
    "life = life[34:]\n",
    "gdp.head()"
   ]
  },
  {
   "cell_type": "markdown",
   "metadata": {},
   "source": [
    "Rows with missing data are dropped."
   ]
  },
  {
   "cell_type": "code",
   "execution_count": 38,
   "metadata": {
    "collapsed": false
   },
   "outputs": [
    {
     "data": {
      "text/html": [
       "<div>\n",
       "<table border=\"1\" class=\"dataframe\">\n",
       "  <thead>\n",
       "    <tr style=\"text-align: right;\">\n",
       "      <th></th>\n",
       "      <th>country</th>\n",
       "      <th>year</th>\n",
       "      <th>NY.GDP.MKTP.CD</th>\n",
       "    </tr>\n",
       "  </thead>\n",
       "  <tbody>\n",
       "    <tr>\n",
       "      <th>34</th>\n",
       "      <td>Afghanistan</td>\n",
       "      <td>2013</td>\n",
       "      <td>2.031088e+10</td>\n",
       "    </tr>\n",
       "    <tr>\n",
       "      <th>35</th>\n",
       "      <td>Albania</td>\n",
       "      <td>2013</td>\n",
       "      <td>1.291667e+10</td>\n",
       "    </tr>\n",
       "    <tr>\n",
       "      <th>36</th>\n",
       "      <td>Algeria</td>\n",
       "      <td>2013</td>\n",
       "      <td>2.101834e+11</td>\n",
       "    </tr>\n",
       "    <tr>\n",
       "      <th>38</th>\n",
       "      <td>Andorra</td>\n",
       "      <td>2013</td>\n",
       "      <td>3.249101e+09</td>\n",
       "    </tr>\n",
       "    <tr>\n",
       "      <th>39</th>\n",
       "      <td>Angola</td>\n",
       "      <td>2013</td>\n",
       "      <td>1.241632e+11</td>\n",
       "    </tr>\n",
       "  </tbody>\n",
       "</table>\n",
       "</div>"
      ],
      "text/plain": [
       "        country  year  NY.GDP.MKTP.CD\n",
       "34  Afghanistan  2013    2.031088e+10\n",
       "35      Albania  2013    1.291667e+10\n",
       "36      Algeria  2013    2.101834e+11\n",
       "38      Andorra  2013    3.249101e+09\n",
       "39       Angola  2013    1.241632e+11"
      ]
     },
     "execution_count": 38,
     "metadata": {},
     "output_type": "execute_result"
    }
   ],
   "source": [
    "gdp = gdp.dropna()\n",
    "life = life.dropna()\n",
    "gdp.head()"
   ]
  },
  {
   "cell_type": "markdown",
   "metadata": {},
   "source": [
    "The year column is discarded."
   ]
  },
  {
   "cell_type": "code",
   "execution_count": 39,
   "metadata": {
    "collapsed": false
   },
   "outputs": [
    {
     "data": {
      "text/html": [
       "<div>\n",
       "<table border=\"1\" class=\"dataframe\">\n",
       "  <thead>\n",
       "    <tr style=\"text-align: right;\">\n",
       "      <th></th>\n",
       "      <th>country</th>\n",
       "      <th>SP.DYN.LE00.IN</th>\n",
       "    </tr>\n",
       "  </thead>\n",
       "  <tbody>\n",
       "    <tr>\n",
       "      <th>34</th>\n",
       "      <td>Afghanistan</td>\n",
       "      <td>60.931415</td>\n",
       "    </tr>\n",
       "    <tr>\n",
       "      <th>35</th>\n",
       "      <td>Albania</td>\n",
       "      <td>77.537244</td>\n",
       "    </tr>\n",
       "    <tr>\n",
       "      <th>36</th>\n",
       "      <td>Algeria</td>\n",
       "      <td>71.009659</td>\n",
       "    </tr>\n",
       "    <tr>\n",
       "      <th>39</th>\n",
       "      <td>Angola</td>\n",
       "      <td>51.866171</td>\n",
       "    </tr>\n",
       "    <tr>\n",
       "      <th>40</th>\n",
       "      <td>Antigua and Barbuda</td>\n",
       "      <td>75.829293</td>\n",
       "    </tr>\n",
       "  </tbody>\n",
       "</table>\n",
       "</div>"
      ],
      "text/plain": [
       "                country  SP.DYN.LE00.IN\n",
       "34          Afghanistan       60.931415\n",
       "35              Albania       77.537244\n",
       "36              Algeria       71.009659\n",
       "39               Angola       51.866171\n",
       "40  Antigua and Barbuda       75.829293"
      ]
     },
     "execution_count": 39,
     "metadata": {},
     "output_type": "execute_result"
    }
   ],
   "source": [
    "COUNTRY = 'country'\n",
    "headings = [COUNTRY, GDP_INDICATOR]\n",
    "gdp = gdp[headings]\n",
    "headings = [COUNTRY, LIFE_INDICATOR]\n",
    "life = life[headings]\n",
    "life.head()"
   ]
  },
  {
   "cell_type": "markdown",
   "metadata": {},
   "source": [
    "### Task\n",
    "\n",
    "Clean the population data you downloaded Exercise 7."
   ]
  },
  {
   "cell_type": "markdown",
   "metadata": {},
   "source": [
    "**Now go back to the Exercise 8 step in FutureLearn to discuss and mark it complete.**"
   ]
  },
  {
   "cell_type": "markdown",
   "metadata": {},
   "source": [
    "## Exercise 9: Joining and transforming\n",
    "\n",
    "The two dataframes can now be merged with an inner join."
   ]
  },
  {
   "cell_type": "code",
   "execution_count": 40,
   "metadata": {
    "collapsed": false
   },
   "outputs": [
    {
     "data": {
      "text/html": [
       "<div>\n",
       "<table border=\"1\" class=\"dataframe\">\n",
       "  <thead>\n",
       "    <tr style=\"text-align: right;\">\n",
       "      <th></th>\n",
       "      <th>country</th>\n",
       "      <th>NY.GDP.MKTP.CD</th>\n",
       "      <th>SP.DYN.LE00.IN</th>\n",
       "    </tr>\n",
       "  </thead>\n",
       "  <tbody>\n",
       "    <tr>\n",
       "      <th>0</th>\n",
       "      <td>Afghanistan</td>\n",
       "      <td>2.031088e+10</td>\n",
       "      <td>60.931415</td>\n",
       "    </tr>\n",
       "    <tr>\n",
       "      <th>1</th>\n",
       "      <td>Albania</td>\n",
       "      <td>1.291667e+10</td>\n",
       "      <td>77.537244</td>\n",
       "    </tr>\n",
       "    <tr>\n",
       "      <th>2</th>\n",
       "      <td>Algeria</td>\n",
       "      <td>2.101834e+11</td>\n",
       "      <td>71.009659</td>\n",
       "    </tr>\n",
       "    <tr>\n",
       "      <th>3</th>\n",
       "      <td>Angola</td>\n",
       "      <td>1.241632e+11</td>\n",
       "      <td>51.866171</td>\n",
       "    </tr>\n",
       "    <tr>\n",
       "      <th>4</th>\n",
       "      <td>Antigua and Barbuda</td>\n",
       "      <td>1.200588e+09</td>\n",
       "      <td>75.829293</td>\n",
       "    </tr>\n",
       "  </tbody>\n",
       "</table>\n",
       "</div>"
      ],
      "text/plain": [
       "               country  NY.GDP.MKTP.CD  SP.DYN.LE00.IN\n",
       "0          Afghanistan    2.031088e+10       60.931415\n",
       "1              Albania    1.291667e+10       77.537244\n",
       "2              Algeria    2.101834e+11       71.009659\n",
       "3               Angola    1.241632e+11       51.866171\n",
       "4  Antigua and Barbuda    1.200588e+09       75.829293"
      ]
     },
     "execution_count": 40,
     "metadata": {},
     "output_type": "execute_result"
    }
   ],
   "source": [
    "gdpVsLife = merge(gdp, life, on=COUNTRY, how='inner')\n",
    "gdpVsLife.head()"
   ]
  },
  {
   "cell_type": "markdown",
   "metadata": {},
   "source": [
    "The dollars are converted to million pounds."
   ]
  },
  {
   "cell_type": "code",
   "execution_count": 41,
   "metadata": {
    "collapsed": false
   },
   "outputs": [
    {
     "data": {
      "text/html": [
       "<div>\n",
       "<table border=\"1\" class=\"dataframe\">\n",
       "  <thead>\n",
       "    <tr style=\"text-align: right;\">\n",
       "      <th></th>\n",
       "      <th>country</th>\n",
       "      <th>NY.GDP.MKTP.CD</th>\n",
       "      <th>SP.DYN.LE00.IN</th>\n",
       "      <th>GDP (£m)</th>\n",
       "    </tr>\n",
       "  </thead>\n",
       "  <tbody>\n",
       "    <tr>\n",
       "      <th>0</th>\n",
       "      <td>Afghanistan</td>\n",
       "      <td>2.031088e+10</td>\n",
       "      <td>60.931415</td>\n",
       "      <td>12980</td>\n",
       "    </tr>\n",
       "    <tr>\n",
       "      <th>1</th>\n",
       "      <td>Albania</td>\n",
       "      <td>1.291667e+10</td>\n",
       "      <td>77.537244</td>\n",
       "      <td>8255</td>\n",
       "    </tr>\n",
       "    <tr>\n",
       "      <th>2</th>\n",
       "      <td>Algeria</td>\n",
       "      <td>2.101834e+11</td>\n",
       "      <td>71.009659</td>\n",
       "      <td>134322</td>\n",
       "    </tr>\n",
       "    <tr>\n",
       "      <th>3</th>\n",
       "      <td>Angola</td>\n",
       "      <td>1.241632e+11</td>\n",
       "      <td>51.866171</td>\n",
       "      <td>79349</td>\n",
       "    </tr>\n",
       "    <tr>\n",
       "      <th>4</th>\n",
       "      <td>Antigua and Barbuda</td>\n",
       "      <td>1.200588e+09</td>\n",
       "      <td>75.829293</td>\n",
       "      <td>767</td>\n",
       "    </tr>\n",
       "  </tbody>\n",
       "</table>\n",
       "</div>"
      ],
      "text/plain": [
       "               country  NY.GDP.MKTP.CD  SP.DYN.LE00.IN  GDP (£m)\n",
       "0          Afghanistan    2.031088e+10       60.931415     12980\n",
       "1              Albania    1.291667e+10       77.537244      8255\n",
       "2              Algeria    2.101834e+11       71.009659    134322\n",
       "3               Angola    1.241632e+11       51.866171     79349\n",
       "4  Antigua and Barbuda    1.200588e+09       75.829293       767"
      ]
     },
     "execution_count": 41,
     "metadata": {},
     "output_type": "execute_result"
    }
   ],
   "source": [
    "GDP = 'GDP (£m)'\n",
    "column = gdpVsLife[GDP_INDICATOR]\n",
    "gdpVsLife[GDP] = column.apply(usdToGBP).apply(roundToMillions)\n",
    "gdpVsLife.head()"
   ]
  },
  {
   "cell_type": "markdown",
   "metadata": {},
   "source": [
    "The life expectancy is rounded, by applying the `round()` function."
   ]
  },
  {
   "cell_type": "code",
   "execution_count": 42,
   "metadata": {
    "collapsed": false
   },
   "outputs": [
    {
     "data": {
      "text/html": [
       "<div>\n",
       "<table border=\"1\" class=\"dataframe\">\n",
       "  <thead>\n",
       "    <tr style=\"text-align: right;\">\n",
       "      <th></th>\n",
       "      <th>country</th>\n",
       "      <th>NY.GDP.MKTP.CD</th>\n",
       "      <th>SP.DYN.LE00.IN</th>\n",
       "      <th>GDP (£m)</th>\n",
       "      <th>Life expectancy (years)</th>\n",
       "    </tr>\n",
       "  </thead>\n",
       "  <tbody>\n",
       "    <tr>\n",
       "      <th>0</th>\n",
       "      <td>Afghanistan</td>\n",
       "      <td>2.031088e+10</td>\n",
       "      <td>60.931415</td>\n",
       "      <td>12980</td>\n",
       "      <td>61</td>\n",
       "    </tr>\n",
       "    <tr>\n",
       "      <th>1</th>\n",
       "      <td>Albania</td>\n",
       "      <td>1.291667e+10</td>\n",
       "      <td>77.537244</td>\n",
       "      <td>8255</td>\n",
       "      <td>78</td>\n",
       "    </tr>\n",
       "    <tr>\n",
       "      <th>2</th>\n",
       "      <td>Algeria</td>\n",
       "      <td>2.101834e+11</td>\n",
       "      <td>71.009659</td>\n",
       "      <td>134322</td>\n",
       "      <td>71</td>\n",
       "    </tr>\n",
       "    <tr>\n",
       "      <th>3</th>\n",
       "      <td>Angola</td>\n",
       "      <td>1.241632e+11</td>\n",
       "      <td>51.866171</td>\n",
       "      <td>79349</td>\n",
       "      <td>52</td>\n",
       "    </tr>\n",
       "    <tr>\n",
       "      <th>4</th>\n",
       "      <td>Antigua and Barbuda</td>\n",
       "      <td>1.200588e+09</td>\n",
       "      <td>75.829293</td>\n",
       "      <td>767</td>\n",
       "      <td>76</td>\n",
       "    </tr>\n",
       "  </tbody>\n",
       "</table>\n",
       "</div>"
      ],
      "text/plain": [
       "               country  NY.GDP.MKTP.CD  SP.DYN.LE00.IN  GDP (£m)  \\\n",
       "0          Afghanistan    2.031088e+10       60.931415     12980   \n",
       "1              Albania    1.291667e+10       77.537244      8255   \n",
       "2              Algeria    2.101834e+11       71.009659    134322   \n",
       "3               Angola    1.241632e+11       51.866171     79349   \n",
       "4  Antigua and Barbuda    1.200588e+09       75.829293       767   \n",
       "\n",
       "   Life expectancy (years)  \n",
       "0                       61  \n",
       "1                       78  \n",
       "2                       71  \n",
       "3                       52  \n",
       "4                       76  "
      ]
     },
     "execution_count": 42,
     "metadata": {},
     "output_type": "execute_result"
    }
   ],
   "source": [
    "LIFE = 'Life expectancy (years)'\n",
    "gdpVsLife[LIFE] = gdpVsLife[LIFE_INDICATOR].apply(round)\n",
    "gdpVsLife.head()"
   ]
  },
  {
   "cell_type": "markdown",
   "metadata": {},
   "source": [
    "The original GDP and life expectancy columns are dropped."
   ]
  },
  {
   "cell_type": "code",
   "execution_count": 43,
   "metadata": {
    "collapsed": false
   },
   "outputs": [
    {
     "data": {
      "text/html": [
       "<div>\n",
       "<table border=\"1\" class=\"dataframe\">\n",
       "  <thead>\n",
       "    <tr style=\"text-align: right;\">\n",
       "      <th></th>\n",
       "      <th>country</th>\n",
       "      <th>GDP (£m)</th>\n",
       "      <th>Life expectancy (years)</th>\n",
       "    </tr>\n",
       "  </thead>\n",
       "  <tbody>\n",
       "    <tr>\n",
       "      <th>0</th>\n",
       "      <td>Afghanistan</td>\n",
       "      <td>12980</td>\n",
       "      <td>61</td>\n",
       "    </tr>\n",
       "    <tr>\n",
       "      <th>1</th>\n",
       "      <td>Albania</td>\n",
       "      <td>8255</td>\n",
       "      <td>78</td>\n",
       "    </tr>\n",
       "    <tr>\n",
       "      <th>2</th>\n",
       "      <td>Algeria</td>\n",
       "      <td>134322</td>\n",
       "      <td>71</td>\n",
       "    </tr>\n",
       "    <tr>\n",
       "      <th>3</th>\n",
       "      <td>Angola</td>\n",
       "      <td>79349</td>\n",
       "      <td>52</td>\n",
       "    </tr>\n",
       "    <tr>\n",
       "      <th>4</th>\n",
       "      <td>Antigua and Barbuda</td>\n",
       "      <td>767</td>\n",
       "      <td>76</td>\n",
       "    </tr>\n",
       "  </tbody>\n",
       "</table>\n",
       "</div>"
      ],
      "text/plain": [
       "               country  GDP (£m)  Life expectancy (years)\n",
       "0          Afghanistan     12980                       61\n",
       "1              Albania      8255                       78\n",
       "2              Algeria    134322                       71\n",
       "3               Angola     79349                       52\n",
       "4  Antigua and Barbuda       767                       76"
      ]
     },
     "execution_count": 43,
     "metadata": {},
     "output_type": "execute_result"
    }
   ],
   "source": [
    "headings = [COUNTRY, GDP, LIFE]\n",
    "gdpVsLife = gdpVsLife[headings]\n",
    "gdpVsLife.head()"
   ]
  },
  {
   "cell_type": "markdown",
   "metadata": {},
   "source": [
    "### Tasks\n",
    "\n",
    "1. Merge `gdpVsLife` with the population dataframe obtained in the previous exercise. \n",
    "- Round the population value to the nearest million.\n",
    "- Remove the original population column."
   ]
  },
  {
   "cell_type": "markdown",
   "metadata": {},
   "source": [
    "**Now go back to the Exercise 9 step in FutureLearn to discuss and mark it complete.**"
   ]
  },
  {
   "cell_type": "markdown",
   "metadata": {},
   "source": [
    "## Exercise 10: Correlation\n",
    "\n",
    "The Spearman rank correlation coefficient between GDP and life expectancy, and the corresponding p-value are calculated as follows."
   ]
  },
  {
   "cell_type": "code",
   "execution_count": 44,
   "metadata": {
    "collapsed": false
   },
   "outputs": [
    {
     "ename": "ImportError",
     "evalue": "No module named scipy.stats",
     "output_type": "error",
     "traceback": [
      "\u001b[0;31m---------------------------------------------------------------------------\u001b[0m",
      "\u001b[0;31mImportError\u001b[0m                               Traceback (most recent call last)",
      "\u001b[0;32m<ipython-input-44-89e697063043>\u001b[0m in \u001b[0;36m<module>\u001b[0;34m()\u001b[0m\n\u001b[0;32m----> 1\u001b[0;31m \u001b[0;32mfrom\u001b[0m \u001b[0mscipy\u001b[0m\u001b[0;34m.\u001b[0m\u001b[0mstats\u001b[0m \u001b[0;32mimport\u001b[0m \u001b[0mspearmanr\u001b[0m\u001b[0;34m\u001b[0m\u001b[0m\n\u001b[0m\u001b[1;32m      2\u001b[0m \u001b[0;34m\u001b[0m\u001b[0m\n\u001b[1;32m      3\u001b[0m \u001b[0mgdpColumn\u001b[0m \u001b[0;34m=\u001b[0m \u001b[0mgdpVsLife\u001b[0m\u001b[0;34m[\u001b[0m\u001b[0mGDP\u001b[0m\u001b[0;34m]\u001b[0m\u001b[0;34m\u001b[0m\u001b[0m\n\u001b[1;32m      4\u001b[0m \u001b[0mlifeColumn\u001b[0m \u001b[0;34m=\u001b[0m \u001b[0mgdpVsLife\u001b[0m\u001b[0;34m[\u001b[0m\u001b[0mLIFE\u001b[0m\u001b[0;34m]\u001b[0m\u001b[0;34m\u001b[0m\u001b[0m\n\u001b[1;32m      5\u001b[0m \u001b[0;34m(\u001b[0m\u001b[0mcorrelation\u001b[0m\u001b[0;34m,\u001b[0m \u001b[0mpValue\u001b[0m\u001b[0;34m)\u001b[0m \u001b[0;34m=\u001b[0m \u001b[0mspearmanr\u001b[0m\u001b[0;34m(\u001b[0m\u001b[0mgdpColumn\u001b[0m\u001b[0;34m,\u001b[0m \u001b[0mlifeColumn\u001b[0m\u001b[0;34m)\u001b[0m\u001b[0;34m\u001b[0m\u001b[0m\n",
      "\u001b[0;31mImportError\u001b[0m: No module named scipy.stats"
     ]
    }
   ],
   "source": [
    "from scipy.stats import spearmanr\n",
    "\n",
    "gdpColumn = gdpVsLife[GDP]\n",
    "lifeColumn = gdpVsLife[LIFE]\n",
    "(correlation, pValue) = spearmanr(gdpColumn, lifeColumn)\n",
    "print('The correlation is', correlation)\n",
    "if pValue < 0.05:\n",
    "    print('It is statistically significant.')\n",
    "else:\n",
    "    print('It is not statistically significant.')"
   ]
  },
  {
   "cell_type": "markdown",
   "metadata": {},
   "source": [
    "### Task\n",
    "\n",
    "Calculate the correlation between GDP and population."
   ]
  },
  {
   "cell_type": "markdown",
   "metadata": {},
   "source": [
    "**Now go back to the Exercise 10 step in FutureLearn to discuss and mark it complete.**"
   ]
  },
  {
   "cell_type": "markdown",
   "metadata": {},
   "source": [
    "## Exercise 11: Scatterplots\n",
    "\n",
    "The dataframe method `plot()` can also produce scatterplots. The `logx` and `logy` arguments  set a logarithmic scale on the corresponding axis."
   ]
  },
  {
   "cell_type": "code",
   "execution_count": null,
   "metadata": {
    "collapsed": false
   },
   "outputs": [],
   "source": [
    "%matplotlib inline\n",
    "gdpVsLife.plot(x=GDP, y=LIFE, kind='scatter', grid=True, logx=True, figsize = (10, 4))"
   ]
  },
  {
   "cell_type": "markdown",
   "metadata": {},
   "source": [
    "### Tasks\n",
    "\n",
    "- Swap the axes of the scatterplot, i.e. show the GDP in the y axis and the life expectancy in the x axis.\n",
    "- Display a scatterplot of the GDP and the population."
   ]
  },
  {
   "cell_type": "markdown",
   "metadata": {},
   "source": [
    "**Now go back to the Exercise 11 step in FutureLearn to discuss and mark it complete.**"
   ]
  }
 ],
 "metadata": {
  "kernelspec": {
   "display_name": "Python 2",
   "language": "python",
   "name": "python2"
  },
  "language_info": {
   "codemirror_mode": {
    "name": "ipython",
    "version": 2
   },
   "file_extension": ".py",
   "mimetype": "text/x-python",
   "name": "python",
   "nbconvert_exporter": "python",
   "pygments_lexer": "ipython2",
   "version": "2.7.9"
  }
 },
 "nbformat": 4,
 "nbformat_minor": 0
}
